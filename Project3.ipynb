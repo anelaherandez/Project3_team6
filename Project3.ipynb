{
 "cells": [
  {
   "cell_type": "code",
   "execution_count": 33,
   "metadata": {},
   "outputs": [
    {
     "name": "stdout",
     "output_type": "stream",
     "text": [
      "Requirement already satisfied: polars in c:\\users\\james\\anaconda\\envs\\dev\\lib\\site-packages (0.20.3)\n",
      "Note: you may need to restart the kernel to use updated packages.\n"
     ]
    }
   ],
   "source": [
    "pip install polars\n"
   ]
  },
  {
   "cell_type": "code",
   "execution_count": 34,
   "metadata": {},
   "outputs": [],
   "source": [
    "import polars as pl"
   ]
  },
  {
   "cell_type": "code",
   "execution_count": 35,
   "metadata": {},
   "outputs": [
    {
     "data": {
      "text/html": [
       "<div><style>\n",
       ".dataframe > thead > tr,\n",
       ".dataframe > tbody > tr {\n",
       "  text-align: right;\n",
       "  white-space: pre-wrap;\n",
       "}\n",
       "</style>\n",
       "<small>shape: (195, 39)</small><table border=\"1\" class=\"dataframe\"><thead><tr><th>ISO3</th><th>Country</th><th>Continent</th><th>Hemisphere</th><th>Human Development Groups</th><th>UNDP Developeing Regions</th><th>HDI Rank (2021)</th><th>Maternal Mortality Ratio (deaths per 100,000 live births) (1990)</th><th>Maternal Mortality Ratio (deaths per 100,000 live births) (1991)</th><th>Maternal Mortality Ratio (deaths per 100,000 live births) (1992)</th><th>Maternal Mortality Ratio (deaths per 100,000 live births) (1993)</th><th>Maternal Mortality Ratio (deaths per 100,000 live births) (1994)</th><th>Maternal Mortality Ratio (deaths per 100,000 live births) (1995)</th><th>Maternal Mortality Ratio (deaths per 100,000 live births) (1996)</th><th>Maternal Mortality Ratio (deaths per 100,000 live births) (1997)</th><th>Maternal Mortality Ratio (deaths per 100,000 live births) (1998)</th><th>Maternal Mortality Ratio (deaths per 100,000 live births) (1999)</th><th>Maternal Mortality Ratio (deaths per 100,000 live births) (2000)</th><th>Maternal Mortality Ratio (deaths per 100,000 live births) (2001)</th><th>Maternal Mortality Ratio (deaths per 100,000 live births) (2002)</th><th>Maternal Mortality Ratio (deaths per 100,000 live births) (2003)</th><th>Maternal Mortality Ratio (deaths per 100,000 live births) (2004)</th><th>Maternal Mortality Ratio (deaths per 100,000 live births) (2005)</th><th>Maternal Mortality Ratio (deaths per 100,000 live births) (2006)</th><th>Maternal Mortality Ratio (deaths per 100,000 live births) (2007)</th><th>Maternal Mortality Ratio (deaths per 100,000 live births) (2008)</th><th>Maternal Mortality Ratio (deaths per 100,000 live births) (2009)</th><th>Maternal Mortality Ratio (deaths per 100,000 live births) (2010)</th><th>Maternal Mortality Ratio (deaths per 100,000 live births) (2011)</th><th>Maternal Mortality Ratio (deaths per 100,000 live births) (2012)</th><th>Maternal Mortality Ratio (deaths per 100,000 live births) (2013)</th><th>Maternal Mortality Ratio (deaths per 100,000 live births) (2014)</th><th>Maternal Mortality Ratio (deaths per 100,000 live births) (2015)</th><th>Maternal Mortality Ratio (deaths per 100,000 live births) (2016)</th><th>Maternal Mortality Ratio (deaths per 100,000 live births) (2017)</th><th>Maternal Mortality Ratio (deaths per 100,000 live births) (2018)</th><th>Maternal Mortality Ratio (deaths per 100,000 live births) (2019)</th><th>Maternal Mortality Ratio (deaths per 100,000 live births) (2020)</th><th>Maternal Mortality Ratio (deaths per 100,000 live births) (2021)</th></tr><tr><td>str</td><td>str</td><td>str</td><td>str</td><td>str</td><td>str</td><td>i64</td><td>i64</td><td>i64</td><td>i64</td><td>i64</td><td>i64</td><td>i64</td><td>i64</td><td>i64</td><td>i64</td><td>i64</td><td>i64</td><td>i64</td><td>i64</td><td>i64</td><td>i64</td><td>i64</td><td>i64</td><td>i64</td><td>i64</td><td>i64</td><td>i64</td><td>i64</td><td>i64</td><td>i64</td><td>i64</td><td>i64</td><td>i64</td><td>i64</td><td>i64</td><td>i64</td><td>i64</td><td>i64</td></tr></thead><tbody><tr><td>&quot;AFG&quot;</td><td>&quot;Afghanistan&quot;</td><td>&quot;Asia&quot;</td><td>&quot;Northern Hemis…</td><td>&quot;Low&quot;</td><td>&quot;SA&quot;</td><td>180</td><td>1500</td><td>1530</td><td>1520</td><td>1480</td><td>1540</td><td>1490</td><td>1440</td><td>1470</td><td>1410</td><td>1470</td><td>1450</td><td>1390</td><td>1300</td><td>1240</td><td>1180</td><td>1140</td><td>1120</td><td>1090</td><td>1030</td><td>993</td><td>954</td><td>905</td><td>858</td><td>810</td><td>786</td><td>701</td><td>673</td><td>638</td><td>638</td><td>638</td><td>638</td><td>638</td></tr><tr><td>&quot;AGO&quot;</td><td>&quot;Angola&quot;</td><td>&quot;Africa&quot;</td><td>&quot;Southern Hemis…</td><td>&quot;Medium&quot;</td><td>&quot;SSA&quot;</td><td>148</td><td>1150</td><td>1100</td><td>1130</td><td>1110</td><td>1130</td><td>1060</td><td>1020</td><td>985</td><td>953</td><td>909</td><td>827</td><td>766</td><td>690</td><td>628</td><td>574</td><td>519</td><td>473</td><td>431</td><td>395</td><td>359</td><td>326</td><td>300</td><td>281</td><td>269</td><td>258</td><td>251</td><td>246</td><td>241</td><td>241</td><td>241</td><td>241</td><td>241</td></tr><tr><td>&quot;ALB&quot;</td><td>&quot;Albania&quot;</td><td>&quot;Europe&quot;</td><td>&quot;Northern Hemis…</td><td>&quot;High&quot;</td><td>&quot;ECA&quot;</td><td>67</td><td>40</td><td>47</td><td>49</td><td>47</td><td>39</td><td>38</td><td>32</td><td>30</td><td>27</td><td>25</td><td>23</td><td>23</td><td>21</td><td>21</td><td>18</td><td>22</td><td>18</td><td>19</td><td>20</td><td>20</td><td>21</td><td>22</td><td>17</td><td>16</td><td>16</td><td>15</td><td>16</td><td>15</td><td>15</td><td>15</td><td>15</td><td>15</td></tr><tr><td>&quot;AND&quot;</td><td>&quot;Andorra&quot;</td><td>&quot;Europe&quot;</td><td>&quot;Northern Hemis…</td><td>&quot;Very High&quot;</td><td>null</td><td>40</td><td>null</td><td>null</td><td>null</td><td>null</td><td>null</td><td>null</td><td>null</td><td>null</td><td>null</td><td>null</td><td>null</td><td>null</td><td>null</td><td>null</td><td>null</td><td>null</td><td>null</td><td>null</td><td>null</td><td>null</td><td>null</td><td>null</td><td>null</td><td>null</td><td>null</td><td>null</td><td>null</td><td>null</td><td>null</td><td>null</td><td>null</td><td>null</td></tr><tr><td>&quot;ARE&quot;</td><td>&quot;United Arab Em…</td><td>&quot;Asia&quot;</td><td>&quot;Northern Hemis…</td><td>&quot;Very High&quot;</td><td>&quot;AS&quot;</td><td>26</td><td>13</td><td>12</td><td>11</td><td>10</td><td>10</td><td>9</td><td>8</td><td>8</td><td>7</td><td>7</td><td>6</td><td>6</td><td>5</td><td>5</td><td>5</td><td>5</td><td>4</td><td>4</td><td>4</td><td>4</td><td>4</td><td>4</td><td>4</td><td>3</td><td>3</td><td>3</td><td>3</td><td>3</td><td>3</td><td>3</td><td>3</td><td>3</td></tr><tr><td>&quot;ARG&quot;</td><td>&quot;Argentina&quot;</td><td>&quot;America&quot;</td><td>&quot;Southern Hemis…</td><td>&quot;Very High&quot;</td><td>&quot;LAC&quot;</td><td>47</td><td>84</td><td>82</td><td>80</td><td>76</td><td>75</td><td>72</td><td>71</td><td>71</td><td>69</td><td>70</td><td>66</td><td>67</td><td>65</td><td>65</td><td>61</td><td>59</td><td>57</td><td>56</td><td>53</td><td>56</td><td>51</td><td>48</td><td>47</td><td>44</td><td>42</td><td>41</td><td>40</td><td>39</td><td>39</td><td>39</td><td>39</td><td>39</td></tr><tr><td>&quot;ARM&quot;</td><td>&quot;Armenia&quot;</td><td>&quot;Asia&quot;</td><td>&quot;Northern Hemis…</td><td>&quot;High&quot;</td><td>&quot;ECA&quot;</td><td>85</td><td>52</td><td>47</td><td>56</td><td>60</td><td>54</td><td>54</td><td>55</td><td>50</td><td>50</td><td>43</td><td>43</td><td>42</td><td>39</td><td>38</td><td>36</td><td>35</td><td>36</td><td>32</td><td>36</td><td>32</td><td>32</td><td>30</td><td>30</td><td>26</td><td>27</td><td>28</td><td>26</td><td>26</td><td>26</td><td>26</td><td>26</td><td>26</td></tr><tr><td>&quot;ATG&quot;</td><td>&quot;Antigua and Ba…</td><td>&quot;America&quot;</td><td>&quot;Northern Hemis…</td><td>&quot;High&quot;</td><td>&quot;LAC&quot;</td><td>71</td><td>54</td><td>54</td><td>55</td><td>52</td><td>52</td><td>51</td><td>51</td><td>52</td><td>50</td><td>49</td><td>44</td><td>44</td><td>43</td><td>44</td><td>41</td><td>40</td><td>46</td><td>48</td><td>50</td><td>45</td><td>44</td><td>43</td><td>44</td><td>43</td><td>42</td><td>43</td><td>43</td><td>42</td><td>42</td><td>42</td><td>42</td><td>42</td></tr><tr><td>&quot;AUS&quot;</td><td>&quot;Australia&quot;</td><td>&quot;Oceania&quot;</td><td>&quot;Southern Hemis…</td><td>&quot;Very High&quot;</td><td>null</td><td>5</td><td>8</td><td>9</td><td>8</td><td>8</td><td>8</td><td>8</td><td>8</td><td>8</td><td>7</td><td>7</td><td>7</td><td>6</td><td>6</td><td>6</td><td>5</td><td>5</td><td>5</td><td>5</td><td>5</td><td>5</td><td>5</td><td>6</td><td>6</td><td>6</td><td>6</td><td>6</td><td>6</td><td>6</td><td>6</td><td>6</td><td>6</td><td>6</td></tr><tr><td>&quot;AUT&quot;</td><td>&quot;Austria&quot;</td><td>&quot;Europe&quot;</td><td>&quot;Northern Hemis…</td><td>&quot;Very High&quot;</td><td>null</td><td>25</td><td>8</td><td>8</td><td>8</td><td>8</td><td>8</td><td>7</td><td>7</td><td>6</td><td>6</td><td>6</td><td>6</td><td>6</td><td>6</td><td>6</td><td>5</td><td>6</td><td>5</td><td>5</td><td>5</td><td>5</td><td>5</td><td>5</td><td>5</td><td>5</td><td>5</td><td>5</td><td>5</td><td>5</td><td>5</td><td>5</td><td>5</td><td>5</td></tr><tr><td>&quot;AZE&quot;</td><td>&quot;Azerbaijan&quot;</td><td>&quot;Asia&quot;</td><td>&quot;Northern Hemis…</td><td>&quot;High&quot;</td><td>&quot;ECA&quot;</td><td>91</td><td>37</td><td>39</td><td>46</td><td>50</td><td>57</td><td>57</td><td>55</td><td>54</td><td>52</td><td>49</td><td>47</td><td>44</td><td>43</td><td>44</td><td>39</td><td>42</td><td>35</td><td>34</td><td>32</td><td>32</td><td>31</td><td>30</td><td>29</td><td>28</td><td>28</td><td>27</td><td>26</td><td>26</td><td>26</td><td>26</td><td>26</td><td>26</td></tr><tr><td>&quot;BDI&quot;</td><td>&quot;Burundi&quot;</td><td>&quot;Africa&quot;</td><td>&quot;Southern Hemis…</td><td>&quot;Low&quot;</td><td>&quot;SSA&quot;</td><td>187</td><td>1290</td><td>1340</td><td>1360</td><td>1360</td><td>1340</td><td>1280</td><td>1220</td><td>1130</td><td>1090</td><td>1030</td><td>1010</td><td>956</td><td>925</td><td>890</td><td>844</td><td>814</td><td>785</td><td>756</td><td>733</td><td>698</td><td>665</td><td>635</td><td>608</td><td>591</td><td>576</td><td>568</td><td>558</td><td>548</td><td>548</td><td>548</td><td>548</td><td>548</td></tr><tr><td>&hellip;</td><td>&hellip;</td><td>&hellip;</td><td>&hellip;</td><td>&hellip;</td><td>&hellip;</td><td>&hellip;</td><td>&hellip;</td><td>&hellip;</td><td>&hellip;</td><td>&hellip;</td><td>&hellip;</td><td>&hellip;</td><td>&hellip;</td><td>&hellip;</td><td>&hellip;</td><td>&hellip;</td><td>&hellip;</td><td>&hellip;</td><td>&hellip;</td><td>&hellip;</td><td>&hellip;</td><td>&hellip;</td><td>&hellip;</td><td>&hellip;</td><td>&hellip;</td><td>&hellip;</td><td>&hellip;</td><td>&hellip;</td><td>&hellip;</td><td>&hellip;</td><td>&hellip;</td><td>&hellip;</td><td>&hellip;</td><td>&hellip;</td><td>&hellip;</td><td>&hellip;</td><td>&hellip;</td><td>&hellip;</td></tr><tr><td>&quot;URY&quot;</td><td>&quot;Uruguay&quot;</td><td>&quot;America&quot;</td><td>&quot;Southern Hemis…</td><td>&quot;Very High&quot;</td><td>&quot;LAC&quot;</td><td>58</td><td>38</td><td>42</td><td>36</td><td>36</td><td>34</td><td>33</td><td>30</td><td>29</td><td>28</td><td>25</td><td>26</td><td>25</td><td>25</td><td>23</td><td>23</td><td>22</td><td>20</td><td>20</td><td>19</td><td>19</td><td>17</td><td>17</td><td>17</td><td>18</td><td>17</td><td>18</td><td>18</td><td>17</td><td>17</td><td>17</td><td>17</td><td>17</td></tr><tr><td>&quot;USA&quot;</td><td>&quot;United States&quot;</td><td>&quot;America&quot;</td><td>&quot;Northern Hemis…</td><td>&quot;Very High&quot;</td><td>null</td><td>21</td><td>11</td><td>11</td><td>11</td><td>11</td><td>12</td><td>12</td><td>12</td><td>11</td><td>11</td><td>12</td><td>12</td><td>13</td><td>13</td><td>13</td><td>13</td><td>13</td><td>14</td><td>14</td><td>14</td><td>15</td><td>15</td><td>15</td><td>16</td><td>16</td><td>16</td><td>18</td><td>19</td><td>19</td><td>19</td><td>19</td><td>19</td><td>19</td></tr><tr><td>&quot;UZB&quot;</td><td>&quot;Uzbekistan&quot;</td><td>&quot;Asia&quot;</td><td>&quot;Northern Hemis…</td><td>&quot;High&quot;</td><td>&quot;ECA&quot;</td><td>101</td><td>52</td><td>51</td><td>50</td><td>52</td><td>53</td><td>51</td><td>50</td><td>47</td><td>46</td><td>41</td><td>41</td><td>41</td><td>41</td><td>39</td><td>37</td><td>38</td><td>37</td><td>35</td><td>34</td><td>32</td><td>31</td><td>32</td><td>32</td><td>31</td><td>30</td><td>30</td><td>29</td><td>29</td><td>29</td><td>29</td><td>29</td><td>29</td></tr><tr><td>&quot;VCT&quot;</td><td>&quot;Saint Vincent …</td><td>&quot;America&quot;</td><td>&quot;Northern Hemis…</td><td>&quot;High&quot;</td><td>&quot;LAC&quot;</td><td>89</td><td>82</td><td>78</td><td>79</td><td>77</td><td>83</td><td>88</td><td>90</td><td>87</td><td>84</td><td>81</td><td>80</td><td>75</td><td>72</td><td>69</td><td>64</td><td>59</td><td>62</td><td>67</td><td>70</td><td>67</td><td>63</td><td>64</td><td>71</td><td>73</td><td>69</td><td>64</td><td>67</td><td>68</td><td>68</td><td>68</td><td>68</td><td>68</td></tr><tr><td>&quot;VEN&quot;</td><td>&quot;Venezuela&quot;</td><td>&quot;America&quot;</td><td>&quot;Northern Hemis…</td><td>&quot;Medium&quot;</td><td>&quot;LAC&quot;</td><td>120</td><td>131</td><td>129</td><td>130</td><td>127</td><td>130</td><td>125</td><td>129</td><td>127</td><td>122</td><td>127</td><td>119</td><td>123</td><td>135</td><td>127</td><td>119</td><td>113</td><td>114</td><td>114</td><td>116</td><td>119</td><td>117</td><td>116</td><td>116</td><td>115</td><td>113</td><td>115</td><td>121</td><td>125</td><td>125</td><td>125</td><td>125</td><td>125</td></tr><tr><td>&quot;VNM&quot;</td><td>&quot;Viet Nam&quot;</td><td>&quot;Asia&quot;</td><td>&quot;Northern Hemis…</td><td>&quot;High&quot;</td><td>&quot;EAP&quot;</td><td>115</td><td>116</td><td>110</td><td>104</td><td>99</td><td>93</td><td>88</td><td>83</td><td>80</td><td>74</td><td>71</td><td>68</td><td>65</td><td>62</td><td>59</td><td>57</td><td>54</td><td>51</td><td>49</td><td>49</td><td>48</td><td>47</td><td>47</td><td>46</td><td>46</td><td>45</td><td>45</td><td>44</td><td>43</td><td>43</td><td>43</td><td>43</td><td>43</td></tr><tr><td>&quot;VUT&quot;</td><td>&quot;Vanuatu&quot;</td><td>&quot;Oceania&quot;</td><td>&quot;Southern Hemis…</td><td>&quot;Medium&quot;</td><td>&quot;EAP&quot;</td><td>140</td><td>224</td><td>214</td><td>205</td><td>197</td><td>186</td><td>178</td><td>169</td><td>166</td><td>154</td><td>157</td><td>140</td><td>135</td><td>128</td><td>123</td><td>119</td><td>113</td><td>108</td><td>103</td><td>99</td><td>96</td><td>92</td><td>88</td><td>85</td><td>82</td><td>80</td><td>76</td><td>74</td><td>72</td><td>72</td><td>72</td><td>72</td><td>72</td></tr><tr><td>&quot;WSM&quot;</td><td>&quot;Samoa&quot;</td><td>&quot;Oceania&quot;</td><td>&quot;Southern Hemis…</td><td>&quot;High&quot;</td><td>&quot;EAP&quot;</td><td>111</td><td>144</td><td>137</td><td>127</td><td>121</td><td>114</td><td>109</td><td>103</td><td>99</td><td>95</td><td>91</td><td>88</td><td>85</td><td>84</td><td>80</td><td>74</td><td>72</td><td>66</td><td>62</td><td>60</td><td>58</td><td>58</td><td>54</td><td>52</td><td>48</td><td>47</td><td>45</td><td>44</td><td>43</td><td>43</td><td>43</td><td>43</td><td>43</td></tr><tr><td>&quot;YEM&quot;</td><td>&quot;Yemen&quot;</td><td>&quot;Asia&quot;</td><td>&quot;Northern Hemis…</td><td>&quot;Low&quot;</td><td>&quot;AS&quot;</td><td>183</td><td>430</td><td>450</td><td>413</td><td>390</td><td>392</td><td>386</td><td>355</td><td>339</td><td>336</td><td>325</td><td>301</td><td>290</td><td>278</td><td>266</td><td>254</td><td>242</td><td>230</td><td>219</td><td>208</td><td>200</td><td>192</td><td>187</td><td>184</td><td>175</td><td>174</td><td>169</td><td>165</td><td>164</td><td>164</td><td>164</td><td>164</td><td>164</td></tr><tr><td>&quot;ZAF&quot;</td><td>&quot;South Africa&quot;</td><td>&quot;Africa&quot;</td><td>&quot;Southern Hemis…</td><td>&quot;High&quot;</td><td>&quot;SSA&quot;</td><td>109</td><td>172</td><td>162</td><td>156</td><td>150</td><td>145</td><td>142</td><td>141</td><td>142</td><td>146</td><td>152</td><td>160</td><td>168</td><td>177</td><td>186</td><td>195</td><td>201</td><td>201</td><td>199</td><td>191</td><td>179</td><td>171</td><td>161</td><td>143</td><td>133</td><td>128</td><td>125</td><td>122</td><td>119</td><td>119</td><td>119</td><td>119</td><td>119</td></tr><tr><td>&quot;ZMB&quot;</td><td>&quot;Zambia&quot;</td><td>&quot;Africa&quot;</td><td>&quot;Southern Hemis…</td><td>&quot;Medium&quot;</td><td>&quot;SSA&quot;</td><td>154</td><td>633</td><td>632</td><td>636</td><td>639</td><td>638</td><td>631</td><td>626</td><td>615</td><td>600</td><td>566</td><td>528</td><td>491</td><td>465</td><td>453</td><td>437</td><td>421</td><td>406</td><td>387</td><td>356</td><td>329</td><td>305</td><td>283</td><td>267</td><td>254</td><td>242</td><td>232</td><td>222</td><td>213</td><td>213</td><td>213</td><td>213</td><td>213</td></tr><tr><td>&quot;ZWE&quot;</td><td>&quot;Zimbabwe&quot;</td><td>&quot;Africa&quot;</td><td>&quot;Southern Hemis…</td><td>&quot;Medium&quot;</td><td>&quot;SSA&quot;</td><td>146</td><td>440</td><td>434</td><td>432</td><td>439</td><td>448</td><td>457</td><td>468</td><td>482</td><td>500</td><td>533</td><td>579</td><td>629</td><td>666</td><td>680</td><td>686</td><td>685</td><td>680</td><td>671</td><td>657</td><td>632</td><td>598</td><td>557</td><td>528</td><td>509</td><td>494</td><td>480</td><td>468</td><td>458</td><td>458</td><td>458</td><td>458</td><td>458</td></tr></tbody></table></div>"
      ],
      "text/plain": [
       "shape: (195, 39)\n",
       "┌──────┬────────────┬───────────┬────────────┬───┬────────────┬────────────┬───────────┬───────────┐\n",
       "│ ISO3 ┆ Country    ┆ Continent ┆ Hemisphere ┆ … ┆ Maternal   ┆ Maternal   ┆ Maternal  ┆ Maternal  │\n",
       "│ ---  ┆ ---        ┆ ---       ┆ ---        ┆   ┆ Mortality  ┆ Mortality  ┆ Mortality ┆ Mortality │\n",
       "│ str  ┆ str        ┆ str       ┆ str        ┆   ┆ Ratio      ┆ Ratio      ┆ Ratio     ┆ Ratio     │\n",
       "│      ┆            ┆           ┆            ┆   ┆ (deaths…   ┆ (deaths…   ┆ (deaths…  ┆ (deaths…  │\n",
       "│      ┆            ┆           ┆            ┆   ┆ ---        ┆ ---        ┆ ---       ┆ ---       │\n",
       "│      ┆            ┆           ┆            ┆   ┆ i64        ┆ i64        ┆ i64       ┆ i64       │\n",
       "╞══════╪════════════╪═══════════╪════════════╪═══╪════════════╪════════════╪═══════════╪═══════════╡\n",
       "│ AFG  ┆ Afghanista ┆ Asia      ┆ Northern   ┆ … ┆ 638        ┆ 638        ┆ 638       ┆ 638       │\n",
       "│      ┆ n          ┆           ┆ Hemisphere ┆   ┆            ┆            ┆           ┆           │\n",
       "│ AGO  ┆ Angola     ┆ Africa    ┆ Southern   ┆ … ┆ 241        ┆ 241        ┆ 241       ┆ 241       │\n",
       "│      ┆            ┆           ┆ Hemisphere ┆   ┆            ┆            ┆           ┆           │\n",
       "│ ALB  ┆ Albania    ┆ Europe    ┆ Northern   ┆ … ┆ 15         ┆ 15         ┆ 15        ┆ 15        │\n",
       "│      ┆            ┆           ┆ Hemisphere ┆   ┆            ┆            ┆           ┆           │\n",
       "│ AND  ┆ Andorra    ┆ Europe    ┆ Northern   ┆ … ┆ null       ┆ null       ┆ null      ┆ null      │\n",
       "│      ┆            ┆           ┆ Hemisphere ┆   ┆            ┆            ┆           ┆           │\n",
       "│ …    ┆ …          ┆ …         ┆ …          ┆ … ┆ …          ┆ …          ┆ …         ┆ …         │\n",
       "│ YEM  ┆ Yemen      ┆ Asia      ┆ Northern   ┆ … ┆ 164        ┆ 164        ┆ 164       ┆ 164       │\n",
       "│      ┆            ┆           ┆ Hemisphere ┆   ┆            ┆            ┆           ┆           │\n",
       "│ ZAF  ┆ South      ┆ Africa    ┆ Southern   ┆ … ┆ 119        ┆ 119        ┆ 119       ┆ 119       │\n",
       "│      ┆ Africa     ┆           ┆ Hemisphere ┆   ┆            ┆            ┆           ┆           │\n",
       "│ ZMB  ┆ Zambia     ┆ Africa    ┆ Southern   ┆ … ┆ 213        ┆ 213        ┆ 213       ┆ 213       │\n",
       "│      ┆            ┆           ┆ Hemisphere ┆   ┆            ┆            ┆           ┆           │\n",
       "│ ZWE  ┆ Zimbabwe   ┆ Africa    ┆ Southern   ┆ … ┆ 458        ┆ 458        ┆ 458       ┆ 458       │\n",
       "│      ┆            ┆           ┆ Hemisphere ┆   ┆            ┆            ┆           ┆           │\n",
       "└──────┴────────────┴───────────┴────────────┴───┴────────────┴────────────┴───────────┴───────────┘"
      ]
     },
     "execution_count": 35,
     "metadata": {},
     "output_type": "execute_result"
    }
   ],
   "source": [
    "MaternalMort_df=pl.read_csv('Maternal Mortality.csv')\n",
    "MaternalMort_df"
   ]
  },
  {
   "cell_type": "code",
   "execution_count": 36,
   "metadata": {},
   "outputs": [
    {
     "data": {
      "text/html": [
       "<div><style>\n",
       ".dataframe > thead > tr,\n",
       ".dataframe > tbody > tr {\n",
       "  text-align: right;\n",
       "  white-space: pre-wrap;\n",
       "}\n",
       "</style>\n",
       "<small>shape: (195, 1)</small><table border=\"1\" class=\"dataframe\"><thead><tr><th>MaternalMort_avg_1990Decade</th></tr><tr><td>f64</td></tr></thead><tbody><tr><td>1485.0</td></tr><tr><td>1029.5</td></tr><tr><td>32.5</td></tr><tr><td>null</td></tr><tr><td>10.0</td></tr><tr><td>77.0</td></tr><tr><td>47.5</td></tr><tr><td>51.5</td></tr><tr><td>7.5</td></tr><tr><td>7.0</td></tr><tr><td>43.0</td></tr><tr><td>1160.0</td></tr><tr><td>&hellip;</td></tr><tr><td>31.5</td></tr><tr><td>11.5</td></tr><tr><td>46.5</td></tr><tr><td>81.5</td></tr><tr><td>129.0</td></tr><tr><td>93.5</td></tr><tr><td>190.5</td></tr><tr><td>117.5</td></tr><tr><td>377.5</td></tr><tr><td>162.0</td></tr><tr><td>599.5</td></tr><tr><td>486.5</td></tr></tbody></table></div>"
      ],
      "text/plain": [
       "shape: (195, 1)\n",
       "┌─────────────────────────────┐\n",
       "│ MaternalMort_avg_1990Decade │\n",
       "│ ---                         │\n",
       "│ f64                         │\n",
       "╞═════════════════════════════╡\n",
       "│ 1485.0                      │\n",
       "│ 1029.5                      │\n",
       "│ 32.5                        │\n",
       "│ null                        │\n",
       "│ …                           │\n",
       "│ 377.5                       │\n",
       "│ 162.0                       │\n",
       "│ 599.5                       │\n",
       "│ 486.5                       │\n",
       "└─────────────────────────────┘"
      ]
     },
     "execution_count": 36,
     "metadata": {},
     "output_type": "execute_result"
    }
   ],
   "source": [
    "cols_to_mean=['Maternal Mortality Ratio (deaths per 100,000 live births) (1990)', 'Maternal Mortality Ratio (deaths per 100,000 live births) (1999)']\n",
    "matmort90_mean=MaternalMort_df.select( MaternalMort_avg_1990Decade=pl.concat_list(cols_to_mean).list.mean())\n",
    "\n",
    "matmort90_mean"
   ]
  },
  {
   "cell_type": "code",
   "execution_count": 37,
   "metadata": {},
   "outputs": [
    {
     "data": {
      "text/html": [
       "<div><style>\n",
       ".dataframe > thead > tr,\n",
       ".dataframe > tbody > tr {\n",
       "  text-align: right;\n",
       "  white-space: pre-wrap;\n",
       "}\n",
       "</style>\n",
       "<small>shape: (195, 1)</small><table border=\"1\" class=\"dataframe\"><thead><tr><th>MaternalMort_avg_00Decade</th></tr><tr><td>f64</td></tr></thead><tbody><tr><td>1202.0</td></tr><tr><td>576.5</td></tr><tr><td>22.0</td></tr><tr><td>null</td></tr><tr><td>5.0</td></tr><tr><td>58.5</td></tr><tr><td>37.5</td></tr><tr><td>44.0</td></tr><tr><td>6.0</td></tr><tr><td>5.5</td></tr><tr><td>39.0</td></tr><tr><td>837.5</td></tr><tr><td>&hellip;</td></tr><tr><td>21.5</td></tr><tr><td>13.5</td></tr><tr><td>36.0</td></tr><tr><td>71.5</td></tr><tr><td>118.0</td></tr><tr><td>57.5</td></tr><tr><td>116.0</td></tr><tr><td>73.0</td></tr><tr><td>246.5</td></tr><tr><td>165.5</td></tr><tr><td>416.5</td></tr><tr><td>588.5</td></tr></tbody></table></div>"
      ],
      "text/plain": [
       "shape: (195, 1)\n",
       "┌───────────────────────────┐\n",
       "│ MaternalMort_avg_00Decade │\n",
       "│ ---                       │\n",
       "│ f64                       │\n",
       "╞═══════════════════════════╡\n",
       "│ 1202.0                    │\n",
       "│ 576.5                     │\n",
       "│ 22.0                      │\n",
       "│ null                      │\n",
       "│ …                         │\n",
       "│ 246.5                     │\n",
       "│ 165.5                     │\n",
       "│ 416.5                     │\n",
       "│ 588.5                     │\n",
       "└───────────────────────────┘"
      ]
     },
     "execution_count": 37,
     "metadata": {},
     "output_type": "execute_result"
    }
   ],
   "source": [
    "cols_to_mean=['Maternal Mortality Ratio (deaths per 100,000 live births) (2000)', 'Maternal Mortality Ratio (deaths per 100,000 live births) (2010)']\n",
    "matmort00_mean=MaternalMort_df.select( MaternalMort_avg_00Decade=pl.concat_list(cols_to_mean).list.mean())\n",
    "\n",
    "matmort00_mean"
   ]
  },
  {
   "cell_type": "code",
   "execution_count": 38,
   "metadata": {},
   "outputs": [
    {
     "data": {
      "text/html": [
       "<div><style>\n",
       ".dataframe > thead > tr,\n",
       ".dataframe > tbody > tr {\n",
       "  text-align: right;\n",
       "  white-space: pre-wrap;\n",
       "}\n",
       "</style>\n",
       "<small>shape: (195, 1)</small><table border=\"1\" class=\"dataframe\"><thead><tr><th>MaternalMort_avg_21Decade</th></tr><tr><td>f64</td></tr></thead><tbody><tr><td>771.5</td></tr><tr><td>270.5</td></tr><tr><td>18.5</td></tr><tr><td>null</td></tr><tr><td>3.5</td></tr><tr><td>43.5</td></tr><tr><td>28.0</td></tr><tr><td>42.5</td></tr><tr><td>6.0</td></tr><tr><td>5.0</td></tr><tr><td>28.0</td></tr><tr><td>591.5</td></tr><tr><td>&hellip;</td></tr><tr><td>17.0</td></tr><tr><td>17.0</td></tr><tr><td>30.5</td></tr><tr><td>66.0</td></tr><tr><td>120.5</td></tr><tr><td>45.0</td></tr><tr><td>80.0</td></tr><tr><td>48.5</td></tr><tr><td>175.5</td></tr><tr><td>140.0</td></tr><tr><td>248.0</td></tr><tr><td>507.5</td></tr></tbody></table></div>"
      ],
      "text/plain": [
       "shape: (195, 1)\n",
       "┌───────────────────────────┐\n",
       "│ MaternalMort_avg_21Decade │\n",
       "│ ---                       │\n",
       "│ f64                       │\n",
       "╞═══════════════════════════╡\n",
       "│ 771.5                     │\n",
       "│ 270.5                     │\n",
       "│ 18.5                      │\n",
       "│ null                      │\n",
       "│ …                         │\n",
       "│ 175.5                     │\n",
       "│ 140.0                     │\n",
       "│ 248.0                     │\n",
       "│ 507.5                     │\n",
       "└───────────────────────────┘"
      ]
     },
     "execution_count": 38,
     "metadata": {},
     "output_type": "execute_result"
    }
   ],
   "source": [
    "cols_to_mean=['Maternal Mortality Ratio (deaths per 100,000 live births) (2011)', 'Maternal Mortality Ratio (deaths per 100,000 live births) (2021)']\n",
    "matmort21_mean=MaternalMort_df.select( MaternalMort_avg_21Decade=pl.concat_list(cols_to_mean).list.mean())\n",
    "\n",
    "matmort21_mean"
   ]
  },
  {
   "cell_type": "code",
   "execution_count": 39,
   "metadata": {},
   "outputs": [
    {
     "data": {
      "text/html": [
       "<div><style>\n",
       ".dataframe > thead > tr,\n",
       ".dataframe > tbody > tr {\n",
       "  text-align: right;\n",
       "  white-space: pre-wrap;\n",
       "}\n",
       "</style>\n",
       "<small>shape: (195, 42)</small><table border=\"1\" class=\"dataframe\"><thead><tr><th>ISO3</th><th>Country</th><th>Continent</th><th>Hemisphere</th><th>Human Development Groups</th><th>UNDP Developeing Regions</th><th>HDI Rank (2021)</th><th>Maternal Mortality Ratio (deaths per 100,000 live births) (1990)</th><th>Maternal Mortality Ratio (deaths per 100,000 live births) (1991)</th><th>Maternal Mortality Ratio (deaths per 100,000 live births) (1992)</th><th>Maternal Mortality Ratio (deaths per 100,000 live births) (1993)</th><th>Maternal Mortality Ratio (deaths per 100,000 live births) (1994)</th><th>Maternal Mortality Ratio (deaths per 100,000 live births) (1995)</th><th>Maternal Mortality Ratio (deaths per 100,000 live births) (1996)</th><th>Maternal Mortality Ratio (deaths per 100,000 live births) (1997)</th><th>Maternal Mortality Ratio (deaths per 100,000 live births) (1998)</th><th>Maternal Mortality Ratio (deaths per 100,000 live births) (1999)</th><th>Maternal Mortality Ratio (deaths per 100,000 live births) (2000)</th><th>Maternal Mortality Ratio (deaths per 100,000 live births) (2001)</th><th>Maternal Mortality Ratio (deaths per 100,000 live births) (2002)</th><th>Maternal Mortality Ratio (deaths per 100,000 live births) (2003)</th><th>Maternal Mortality Ratio (deaths per 100,000 live births) (2004)</th><th>Maternal Mortality Ratio (deaths per 100,000 live births) (2005)</th><th>Maternal Mortality Ratio (deaths per 100,000 live births) (2006)</th><th>Maternal Mortality Ratio (deaths per 100,000 live births) (2007)</th><th>Maternal Mortality Ratio (deaths per 100,000 live births) (2008)</th><th>Maternal Mortality Ratio (deaths per 100,000 live births) (2009)</th><th>Maternal Mortality Ratio (deaths per 100,000 live births) (2010)</th><th>Maternal Mortality Ratio (deaths per 100,000 live births) (2011)</th><th>Maternal Mortality Ratio (deaths per 100,000 live births) (2012)</th><th>Maternal Mortality Ratio (deaths per 100,000 live births) (2013)</th><th>Maternal Mortality Ratio (deaths per 100,000 live births) (2014)</th><th>Maternal Mortality Ratio (deaths per 100,000 live births) (2015)</th><th>Maternal Mortality Ratio (deaths per 100,000 live births) (2016)</th><th>Maternal Mortality Ratio (deaths per 100,000 live births) (2017)</th><th>Maternal Mortality Ratio (deaths per 100,000 live births) (2018)</th><th>Maternal Mortality Ratio (deaths per 100,000 live births) (2019)</th><th>Maternal Mortality Ratio (deaths per 100,000 live births) (2020)</th><th>Maternal Mortality Ratio (deaths per 100,000 live births) (2021)</th><th>Maternal Mortality Ratio (deaths per 100,000 live births) Average (1990-1999)</th><th>Maternal Mortality Ratio (deaths per 100,000 live births) Average (2000-2010)</th><th>Maternal Mortality Ratio (deaths per 100,000 live births) Average (2011-2021)</th></tr><tr><td>str</td><td>str</td><td>str</td><td>str</td><td>str</td><td>str</td><td>i64</td><td>i64</td><td>i64</td><td>i64</td><td>i64</td><td>i64</td><td>i64</td><td>i64</td><td>i64</td><td>i64</td><td>i64</td><td>i64</td><td>i64</td><td>i64</td><td>i64</td><td>i64</td><td>i64</td><td>i64</td><td>i64</td><td>i64</td><td>i64</td><td>i64</td><td>i64</td><td>i64</td><td>i64</td><td>i64</td><td>i64</td><td>i64</td><td>i64</td><td>i64</td><td>i64</td><td>i64</td><td>i64</td><td>f64</td><td>f64</td><td>f64</td></tr></thead><tbody><tr><td>&quot;AFG&quot;</td><td>&quot;Afghanistan&quot;</td><td>&quot;Asia&quot;</td><td>&quot;Northern Hemis…</td><td>&quot;Low&quot;</td><td>&quot;SA&quot;</td><td>180</td><td>1500</td><td>1530</td><td>1520</td><td>1480</td><td>1540</td><td>1490</td><td>1440</td><td>1470</td><td>1410</td><td>1470</td><td>1450</td><td>1390</td><td>1300</td><td>1240</td><td>1180</td><td>1140</td><td>1120</td><td>1090</td><td>1030</td><td>993</td><td>954</td><td>905</td><td>858</td><td>810</td><td>786</td><td>701</td><td>673</td><td>638</td><td>638</td><td>638</td><td>638</td><td>638</td><td>1485.0</td><td>1202.0</td><td>771.5</td></tr><tr><td>&quot;AGO&quot;</td><td>&quot;Angola&quot;</td><td>&quot;Africa&quot;</td><td>&quot;Southern Hemis…</td><td>&quot;Medium&quot;</td><td>&quot;SSA&quot;</td><td>148</td><td>1150</td><td>1100</td><td>1130</td><td>1110</td><td>1130</td><td>1060</td><td>1020</td><td>985</td><td>953</td><td>909</td><td>827</td><td>766</td><td>690</td><td>628</td><td>574</td><td>519</td><td>473</td><td>431</td><td>395</td><td>359</td><td>326</td><td>300</td><td>281</td><td>269</td><td>258</td><td>251</td><td>246</td><td>241</td><td>241</td><td>241</td><td>241</td><td>241</td><td>1029.5</td><td>576.5</td><td>270.5</td></tr><tr><td>&quot;ALB&quot;</td><td>&quot;Albania&quot;</td><td>&quot;Europe&quot;</td><td>&quot;Northern Hemis…</td><td>&quot;High&quot;</td><td>&quot;ECA&quot;</td><td>67</td><td>40</td><td>47</td><td>49</td><td>47</td><td>39</td><td>38</td><td>32</td><td>30</td><td>27</td><td>25</td><td>23</td><td>23</td><td>21</td><td>21</td><td>18</td><td>22</td><td>18</td><td>19</td><td>20</td><td>20</td><td>21</td><td>22</td><td>17</td><td>16</td><td>16</td><td>15</td><td>16</td><td>15</td><td>15</td><td>15</td><td>15</td><td>15</td><td>32.5</td><td>22.0</td><td>18.5</td></tr><tr><td>&quot;AND&quot;</td><td>&quot;Andorra&quot;</td><td>&quot;Europe&quot;</td><td>&quot;Northern Hemis…</td><td>&quot;Very High&quot;</td><td>null</td><td>40</td><td>null</td><td>null</td><td>null</td><td>null</td><td>null</td><td>null</td><td>null</td><td>null</td><td>null</td><td>null</td><td>null</td><td>null</td><td>null</td><td>null</td><td>null</td><td>null</td><td>null</td><td>null</td><td>null</td><td>null</td><td>null</td><td>null</td><td>null</td><td>null</td><td>null</td><td>null</td><td>null</td><td>null</td><td>null</td><td>null</td><td>null</td><td>null</td><td>null</td><td>null</td><td>null</td></tr><tr><td>&quot;ARE&quot;</td><td>&quot;United Arab Em…</td><td>&quot;Asia&quot;</td><td>&quot;Northern Hemis…</td><td>&quot;Very High&quot;</td><td>&quot;AS&quot;</td><td>26</td><td>13</td><td>12</td><td>11</td><td>10</td><td>10</td><td>9</td><td>8</td><td>8</td><td>7</td><td>7</td><td>6</td><td>6</td><td>5</td><td>5</td><td>5</td><td>5</td><td>4</td><td>4</td><td>4</td><td>4</td><td>4</td><td>4</td><td>4</td><td>3</td><td>3</td><td>3</td><td>3</td><td>3</td><td>3</td><td>3</td><td>3</td><td>3</td><td>10.0</td><td>5.0</td><td>3.5</td></tr><tr><td>&quot;ARG&quot;</td><td>&quot;Argentina&quot;</td><td>&quot;America&quot;</td><td>&quot;Southern Hemis…</td><td>&quot;Very High&quot;</td><td>&quot;LAC&quot;</td><td>47</td><td>84</td><td>82</td><td>80</td><td>76</td><td>75</td><td>72</td><td>71</td><td>71</td><td>69</td><td>70</td><td>66</td><td>67</td><td>65</td><td>65</td><td>61</td><td>59</td><td>57</td><td>56</td><td>53</td><td>56</td><td>51</td><td>48</td><td>47</td><td>44</td><td>42</td><td>41</td><td>40</td><td>39</td><td>39</td><td>39</td><td>39</td><td>39</td><td>77.0</td><td>58.5</td><td>43.5</td></tr><tr><td>&quot;ARM&quot;</td><td>&quot;Armenia&quot;</td><td>&quot;Asia&quot;</td><td>&quot;Northern Hemis…</td><td>&quot;High&quot;</td><td>&quot;ECA&quot;</td><td>85</td><td>52</td><td>47</td><td>56</td><td>60</td><td>54</td><td>54</td><td>55</td><td>50</td><td>50</td><td>43</td><td>43</td><td>42</td><td>39</td><td>38</td><td>36</td><td>35</td><td>36</td><td>32</td><td>36</td><td>32</td><td>32</td><td>30</td><td>30</td><td>26</td><td>27</td><td>28</td><td>26</td><td>26</td><td>26</td><td>26</td><td>26</td><td>26</td><td>47.5</td><td>37.5</td><td>28.0</td></tr><tr><td>&quot;ATG&quot;</td><td>&quot;Antigua and Ba…</td><td>&quot;America&quot;</td><td>&quot;Northern Hemis…</td><td>&quot;High&quot;</td><td>&quot;LAC&quot;</td><td>71</td><td>54</td><td>54</td><td>55</td><td>52</td><td>52</td><td>51</td><td>51</td><td>52</td><td>50</td><td>49</td><td>44</td><td>44</td><td>43</td><td>44</td><td>41</td><td>40</td><td>46</td><td>48</td><td>50</td><td>45</td><td>44</td><td>43</td><td>44</td><td>43</td><td>42</td><td>43</td><td>43</td><td>42</td><td>42</td><td>42</td><td>42</td><td>42</td><td>51.5</td><td>44.0</td><td>42.5</td></tr><tr><td>&quot;AUS&quot;</td><td>&quot;Australia&quot;</td><td>&quot;Oceania&quot;</td><td>&quot;Southern Hemis…</td><td>&quot;Very High&quot;</td><td>null</td><td>5</td><td>8</td><td>9</td><td>8</td><td>8</td><td>8</td><td>8</td><td>8</td><td>8</td><td>7</td><td>7</td><td>7</td><td>6</td><td>6</td><td>6</td><td>5</td><td>5</td><td>5</td><td>5</td><td>5</td><td>5</td><td>5</td><td>6</td><td>6</td><td>6</td><td>6</td><td>6</td><td>6</td><td>6</td><td>6</td><td>6</td><td>6</td><td>6</td><td>7.5</td><td>6.0</td><td>6.0</td></tr><tr><td>&quot;AUT&quot;</td><td>&quot;Austria&quot;</td><td>&quot;Europe&quot;</td><td>&quot;Northern Hemis…</td><td>&quot;Very High&quot;</td><td>null</td><td>25</td><td>8</td><td>8</td><td>8</td><td>8</td><td>8</td><td>7</td><td>7</td><td>6</td><td>6</td><td>6</td><td>6</td><td>6</td><td>6</td><td>6</td><td>5</td><td>6</td><td>5</td><td>5</td><td>5</td><td>5</td><td>5</td><td>5</td><td>5</td><td>5</td><td>5</td><td>5</td><td>5</td><td>5</td><td>5</td><td>5</td><td>5</td><td>5</td><td>7.0</td><td>5.5</td><td>5.0</td></tr><tr><td>&quot;AZE&quot;</td><td>&quot;Azerbaijan&quot;</td><td>&quot;Asia&quot;</td><td>&quot;Northern Hemis…</td><td>&quot;High&quot;</td><td>&quot;ECA&quot;</td><td>91</td><td>37</td><td>39</td><td>46</td><td>50</td><td>57</td><td>57</td><td>55</td><td>54</td><td>52</td><td>49</td><td>47</td><td>44</td><td>43</td><td>44</td><td>39</td><td>42</td><td>35</td><td>34</td><td>32</td><td>32</td><td>31</td><td>30</td><td>29</td><td>28</td><td>28</td><td>27</td><td>26</td><td>26</td><td>26</td><td>26</td><td>26</td><td>26</td><td>43.0</td><td>39.0</td><td>28.0</td></tr><tr><td>&quot;BDI&quot;</td><td>&quot;Burundi&quot;</td><td>&quot;Africa&quot;</td><td>&quot;Southern Hemis…</td><td>&quot;Low&quot;</td><td>&quot;SSA&quot;</td><td>187</td><td>1290</td><td>1340</td><td>1360</td><td>1360</td><td>1340</td><td>1280</td><td>1220</td><td>1130</td><td>1090</td><td>1030</td><td>1010</td><td>956</td><td>925</td><td>890</td><td>844</td><td>814</td><td>785</td><td>756</td><td>733</td><td>698</td><td>665</td><td>635</td><td>608</td><td>591</td><td>576</td><td>568</td><td>558</td><td>548</td><td>548</td><td>548</td><td>548</td><td>548</td><td>1160.0</td><td>837.5</td><td>591.5</td></tr><tr><td>&hellip;</td><td>&hellip;</td><td>&hellip;</td><td>&hellip;</td><td>&hellip;</td><td>&hellip;</td><td>&hellip;</td><td>&hellip;</td><td>&hellip;</td><td>&hellip;</td><td>&hellip;</td><td>&hellip;</td><td>&hellip;</td><td>&hellip;</td><td>&hellip;</td><td>&hellip;</td><td>&hellip;</td><td>&hellip;</td><td>&hellip;</td><td>&hellip;</td><td>&hellip;</td><td>&hellip;</td><td>&hellip;</td><td>&hellip;</td><td>&hellip;</td><td>&hellip;</td><td>&hellip;</td><td>&hellip;</td><td>&hellip;</td><td>&hellip;</td><td>&hellip;</td><td>&hellip;</td><td>&hellip;</td><td>&hellip;</td><td>&hellip;</td><td>&hellip;</td><td>&hellip;</td><td>&hellip;</td><td>&hellip;</td><td>&hellip;</td><td>&hellip;</td><td>&hellip;</td></tr><tr><td>&quot;URY&quot;</td><td>&quot;Uruguay&quot;</td><td>&quot;America&quot;</td><td>&quot;Southern Hemis…</td><td>&quot;Very High&quot;</td><td>&quot;LAC&quot;</td><td>58</td><td>38</td><td>42</td><td>36</td><td>36</td><td>34</td><td>33</td><td>30</td><td>29</td><td>28</td><td>25</td><td>26</td><td>25</td><td>25</td><td>23</td><td>23</td><td>22</td><td>20</td><td>20</td><td>19</td><td>19</td><td>17</td><td>17</td><td>17</td><td>18</td><td>17</td><td>18</td><td>18</td><td>17</td><td>17</td><td>17</td><td>17</td><td>17</td><td>31.5</td><td>21.5</td><td>17.0</td></tr><tr><td>&quot;USA&quot;</td><td>&quot;United States&quot;</td><td>&quot;America&quot;</td><td>&quot;Northern Hemis…</td><td>&quot;Very High&quot;</td><td>null</td><td>21</td><td>11</td><td>11</td><td>11</td><td>11</td><td>12</td><td>12</td><td>12</td><td>11</td><td>11</td><td>12</td><td>12</td><td>13</td><td>13</td><td>13</td><td>13</td><td>13</td><td>14</td><td>14</td><td>14</td><td>15</td><td>15</td><td>15</td><td>16</td><td>16</td><td>16</td><td>18</td><td>19</td><td>19</td><td>19</td><td>19</td><td>19</td><td>19</td><td>11.5</td><td>13.5</td><td>17.0</td></tr><tr><td>&quot;UZB&quot;</td><td>&quot;Uzbekistan&quot;</td><td>&quot;Asia&quot;</td><td>&quot;Northern Hemis…</td><td>&quot;High&quot;</td><td>&quot;ECA&quot;</td><td>101</td><td>52</td><td>51</td><td>50</td><td>52</td><td>53</td><td>51</td><td>50</td><td>47</td><td>46</td><td>41</td><td>41</td><td>41</td><td>41</td><td>39</td><td>37</td><td>38</td><td>37</td><td>35</td><td>34</td><td>32</td><td>31</td><td>32</td><td>32</td><td>31</td><td>30</td><td>30</td><td>29</td><td>29</td><td>29</td><td>29</td><td>29</td><td>29</td><td>46.5</td><td>36.0</td><td>30.5</td></tr><tr><td>&quot;VCT&quot;</td><td>&quot;Saint Vincent …</td><td>&quot;America&quot;</td><td>&quot;Northern Hemis…</td><td>&quot;High&quot;</td><td>&quot;LAC&quot;</td><td>89</td><td>82</td><td>78</td><td>79</td><td>77</td><td>83</td><td>88</td><td>90</td><td>87</td><td>84</td><td>81</td><td>80</td><td>75</td><td>72</td><td>69</td><td>64</td><td>59</td><td>62</td><td>67</td><td>70</td><td>67</td><td>63</td><td>64</td><td>71</td><td>73</td><td>69</td><td>64</td><td>67</td><td>68</td><td>68</td><td>68</td><td>68</td><td>68</td><td>81.5</td><td>71.5</td><td>66.0</td></tr><tr><td>&quot;VEN&quot;</td><td>&quot;Venezuela&quot;</td><td>&quot;America&quot;</td><td>&quot;Northern Hemis…</td><td>&quot;Medium&quot;</td><td>&quot;LAC&quot;</td><td>120</td><td>131</td><td>129</td><td>130</td><td>127</td><td>130</td><td>125</td><td>129</td><td>127</td><td>122</td><td>127</td><td>119</td><td>123</td><td>135</td><td>127</td><td>119</td><td>113</td><td>114</td><td>114</td><td>116</td><td>119</td><td>117</td><td>116</td><td>116</td><td>115</td><td>113</td><td>115</td><td>121</td><td>125</td><td>125</td><td>125</td><td>125</td><td>125</td><td>129.0</td><td>118.0</td><td>120.5</td></tr><tr><td>&quot;VNM&quot;</td><td>&quot;Viet Nam&quot;</td><td>&quot;Asia&quot;</td><td>&quot;Northern Hemis…</td><td>&quot;High&quot;</td><td>&quot;EAP&quot;</td><td>115</td><td>116</td><td>110</td><td>104</td><td>99</td><td>93</td><td>88</td><td>83</td><td>80</td><td>74</td><td>71</td><td>68</td><td>65</td><td>62</td><td>59</td><td>57</td><td>54</td><td>51</td><td>49</td><td>49</td><td>48</td><td>47</td><td>47</td><td>46</td><td>46</td><td>45</td><td>45</td><td>44</td><td>43</td><td>43</td><td>43</td><td>43</td><td>43</td><td>93.5</td><td>57.5</td><td>45.0</td></tr><tr><td>&quot;VUT&quot;</td><td>&quot;Vanuatu&quot;</td><td>&quot;Oceania&quot;</td><td>&quot;Southern Hemis…</td><td>&quot;Medium&quot;</td><td>&quot;EAP&quot;</td><td>140</td><td>224</td><td>214</td><td>205</td><td>197</td><td>186</td><td>178</td><td>169</td><td>166</td><td>154</td><td>157</td><td>140</td><td>135</td><td>128</td><td>123</td><td>119</td><td>113</td><td>108</td><td>103</td><td>99</td><td>96</td><td>92</td><td>88</td><td>85</td><td>82</td><td>80</td><td>76</td><td>74</td><td>72</td><td>72</td><td>72</td><td>72</td><td>72</td><td>190.5</td><td>116.0</td><td>80.0</td></tr><tr><td>&quot;WSM&quot;</td><td>&quot;Samoa&quot;</td><td>&quot;Oceania&quot;</td><td>&quot;Southern Hemis…</td><td>&quot;High&quot;</td><td>&quot;EAP&quot;</td><td>111</td><td>144</td><td>137</td><td>127</td><td>121</td><td>114</td><td>109</td><td>103</td><td>99</td><td>95</td><td>91</td><td>88</td><td>85</td><td>84</td><td>80</td><td>74</td><td>72</td><td>66</td><td>62</td><td>60</td><td>58</td><td>58</td><td>54</td><td>52</td><td>48</td><td>47</td><td>45</td><td>44</td><td>43</td><td>43</td><td>43</td><td>43</td><td>43</td><td>117.5</td><td>73.0</td><td>48.5</td></tr><tr><td>&quot;YEM&quot;</td><td>&quot;Yemen&quot;</td><td>&quot;Asia&quot;</td><td>&quot;Northern Hemis…</td><td>&quot;Low&quot;</td><td>&quot;AS&quot;</td><td>183</td><td>430</td><td>450</td><td>413</td><td>390</td><td>392</td><td>386</td><td>355</td><td>339</td><td>336</td><td>325</td><td>301</td><td>290</td><td>278</td><td>266</td><td>254</td><td>242</td><td>230</td><td>219</td><td>208</td><td>200</td><td>192</td><td>187</td><td>184</td><td>175</td><td>174</td><td>169</td><td>165</td><td>164</td><td>164</td><td>164</td><td>164</td><td>164</td><td>377.5</td><td>246.5</td><td>175.5</td></tr><tr><td>&quot;ZAF&quot;</td><td>&quot;South Africa&quot;</td><td>&quot;Africa&quot;</td><td>&quot;Southern Hemis…</td><td>&quot;High&quot;</td><td>&quot;SSA&quot;</td><td>109</td><td>172</td><td>162</td><td>156</td><td>150</td><td>145</td><td>142</td><td>141</td><td>142</td><td>146</td><td>152</td><td>160</td><td>168</td><td>177</td><td>186</td><td>195</td><td>201</td><td>201</td><td>199</td><td>191</td><td>179</td><td>171</td><td>161</td><td>143</td><td>133</td><td>128</td><td>125</td><td>122</td><td>119</td><td>119</td><td>119</td><td>119</td><td>119</td><td>162.0</td><td>165.5</td><td>140.0</td></tr><tr><td>&quot;ZMB&quot;</td><td>&quot;Zambia&quot;</td><td>&quot;Africa&quot;</td><td>&quot;Southern Hemis…</td><td>&quot;Medium&quot;</td><td>&quot;SSA&quot;</td><td>154</td><td>633</td><td>632</td><td>636</td><td>639</td><td>638</td><td>631</td><td>626</td><td>615</td><td>600</td><td>566</td><td>528</td><td>491</td><td>465</td><td>453</td><td>437</td><td>421</td><td>406</td><td>387</td><td>356</td><td>329</td><td>305</td><td>283</td><td>267</td><td>254</td><td>242</td><td>232</td><td>222</td><td>213</td><td>213</td><td>213</td><td>213</td><td>213</td><td>599.5</td><td>416.5</td><td>248.0</td></tr><tr><td>&quot;ZWE&quot;</td><td>&quot;Zimbabwe&quot;</td><td>&quot;Africa&quot;</td><td>&quot;Southern Hemis…</td><td>&quot;Medium&quot;</td><td>&quot;SSA&quot;</td><td>146</td><td>440</td><td>434</td><td>432</td><td>439</td><td>448</td><td>457</td><td>468</td><td>482</td><td>500</td><td>533</td><td>579</td><td>629</td><td>666</td><td>680</td><td>686</td><td>685</td><td>680</td><td>671</td><td>657</td><td>632</td><td>598</td><td>557</td><td>528</td><td>509</td><td>494</td><td>480</td><td>468</td><td>458</td><td>458</td><td>458</td><td>458</td><td>458</td><td>486.5</td><td>588.5</td><td>507.5</td></tr></tbody></table></div>"
      ],
      "text/plain": [
       "shape: (195, 42)\n",
       "┌──────┬────────────┬───────────┬────────────┬───┬────────────┬────────────┬───────────┬───────────┐\n",
       "│ ISO3 ┆ Country    ┆ Continent ┆ Hemisphere ┆ … ┆ Maternal   ┆ Maternal   ┆ Maternal  ┆ Maternal  │\n",
       "│ ---  ┆ ---        ┆ ---       ┆ ---        ┆   ┆ Mortality  ┆ Mortality  ┆ Mortality ┆ Mortality │\n",
       "│ str  ┆ str        ┆ str       ┆ str        ┆   ┆ Ratio      ┆ Ratio      ┆ Ratio     ┆ Ratio     │\n",
       "│      ┆            ┆           ┆            ┆   ┆ (deaths…   ┆ (deaths…   ┆ (deaths…  ┆ (deaths…  │\n",
       "│      ┆            ┆           ┆            ┆   ┆ ---        ┆ ---        ┆ ---       ┆ ---       │\n",
       "│      ┆            ┆           ┆            ┆   ┆ i64        ┆ f64        ┆ f64       ┆ f64       │\n",
       "╞══════╪════════════╪═══════════╪════════════╪═══╪════════════╪════════════╪═══════════╪═══════════╡\n",
       "│ AFG  ┆ Afghanista ┆ Asia      ┆ Northern   ┆ … ┆ 638        ┆ 1485.0     ┆ 1202.0    ┆ 771.5     │\n",
       "│      ┆ n          ┆           ┆ Hemisphere ┆   ┆            ┆            ┆           ┆           │\n",
       "│ AGO  ┆ Angola     ┆ Africa    ┆ Southern   ┆ … ┆ 241        ┆ 1029.5     ┆ 576.5     ┆ 270.5     │\n",
       "│      ┆            ┆           ┆ Hemisphere ┆   ┆            ┆            ┆           ┆           │\n",
       "│ ALB  ┆ Albania    ┆ Europe    ┆ Northern   ┆ … ┆ 15         ┆ 32.5       ┆ 22.0      ┆ 18.5      │\n",
       "│      ┆            ┆           ┆ Hemisphere ┆   ┆            ┆            ┆           ┆           │\n",
       "│ AND  ┆ Andorra    ┆ Europe    ┆ Northern   ┆ … ┆ null       ┆ null       ┆ null      ┆ null      │\n",
       "│      ┆            ┆           ┆ Hemisphere ┆   ┆            ┆            ┆           ┆           │\n",
       "│ …    ┆ …          ┆ …         ┆ …          ┆ … ┆ …          ┆ …          ┆ …         ┆ …         │\n",
       "│ YEM  ┆ Yemen      ┆ Asia      ┆ Northern   ┆ … ┆ 164        ┆ 377.5      ┆ 246.5     ┆ 175.5     │\n",
       "│      ┆            ┆           ┆ Hemisphere ┆   ┆            ┆            ┆           ┆           │\n",
       "│ ZAF  ┆ South      ┆ Africa    ┆ Southern   ┆ … ┆ 119        ┆ 162.0      ┆ 165.5     ┆ 140.0     │\n",
       "│      ┆ Africa     ┆           ┆ Hemisphere ┆   ┆            ┆            ┆           ┆           │\n",
       "│ ZMB  ┆ Zambia     ┆ Africa    ┆ Southern   ┆ … ┆ 213        ┆ 599.5      ┆ 416.5     ┆ 248.0     │\n",
       "│      ┆            ┆           ┆ Hemisphere ┆   ┆            ┆            ┆           ┆           │\n",
       "│ ZWE  ┆ Zimbabwe   ┆ Africa    ┆ Southern   ┆ … ┆ 458        ┆ 486.5      ┆ 588.5     ┆ 507.5     │\n",
       "│      ┆            ┆           ┆ Hemisphere ┆   ┆            ┆            ┆           ┆           │\n",
       "└──────┴────────────┴───────────┴────────────┴───┴────────────┴────────────┴───────────┴───────────┘"
      ]
     },
     "execution_count": 39,
     "metadata": {},
     "output_type": "execute_result"
    }
   ],
   "source": [
    "Maternal_Decade_Index=MaternalMort_df.with_columns(\n",
    "    pl.Series(name='Maternal Mortality Ratio (deaths per 100,000 live births) Average (1990-1999)', values=matmort90_mean),\n",
    "    pl.Series(name='Maternal Mortality Ratio (deaths per 100,000 live births) Average (2000-2010)', values=matmort00_mean),\n",
    "    pl.Series(name='Maternal Mortality Ratio (deaths per 100,000 live births) Average (2011-2021)', values=matmort21_mean)\n",
    ")\n",
    "Maternal_Decade_Index"
   ]
  },
  {
   "cell_type": "code",
   "execution_count": 7,
   "metadata": {},
   "outputs": [
    {
     "data": {
      "text/html": [
       "<div><style>\n",
       ".dataframe > thead > tr,\n",
       ".dataframe > tbody > tr {\n",
       "  text-align: right;\n",
       "  white-space: pre-wrap;\n",
       "}\n",
       "</style>\n",
       "<small>shape: (195, 40)</small><table border=\"1\" class=\"dataframe\"><thead><tr><th>ISO3</th><th>Country</th><th>Continent</th><th>Hemisphere</th><th>Human Development Groups</th><th>UNDP Developing Regions</th><th>HDI Rank (2021)</th><th>GII Rank (2021)</th><th>Gender Inequality Index (1990)</th><th>Gender Inequality Index (1991)</th><th>Gender Inequality Index (1992)</th><th>Gender Inequality Index (1993)</th><th>Gender Inequality Index (1994)</th><th>Gender Inequality Index (1995)</th><th>Gender Inequality Index (1996)</th><th>Gender Inequality Index (1997)</th><th>Gender Inequality Index (1998)</th><th>Gender Inequality Index (1999)</th><th>Gender Inequality Index (2000)</th><th>Gender Inequality Index (2001)</th><th>Gender Inequality Index (2002)</th><th>Gender Inequality Index (2003)</th><th>Gender Inequality Index (2004)</th><th>Gender Inequality Index (2005)</th><th>Gender Inequality Index (2006)</th><th>Gender Inequality Index (2007)</th><th>Gender Inequality Index (2008)</th><th>Gender Inequality Index (2009)</th><th>Gender Inequality Index (2010)</th><th>Gender Inequality Index (2011)</th><th>Gender Inequality Index (2012)</th><th>Gender Inequality Index (2013)</th><th>Gender Inequality Index (2014)</th><th>Gender Inequality Index (2015)</th><th>Gender Inequality Index (2016)</th><th>Gender Inequality Index (2017)</th><th>Gender Inequality Index (2018)</th><th>Gender Inequality Index (2019)</th><th>Gender Inequality Index (2020)</th><th>Gender Inequality Index (2021)</th></tr><tr><td>str</td><td>str</td><td>str</td><td>str</td><td>str</td><td>str</td><td>i64</td><td>i64</td><td>f64</td><td>f64</td><td>f64</td><td>f64</td><td>f64</td><td>f64</td><td>f64</td><td>f64</td><td>f64</td><td>f64</td><td>f64</td><td>f64</td><td>f64</td><td>f64</td><td>f64</td><td>f64</td><td>f64</td><td>f64</td><td>f64</td><td>f64</td><td>f64</td><td>f64</td><td>f64</td><td>f64</td><td>f64</td><td>f64</td><td>f64</td><td>f64</td><td>f64</td><td>f64</td><td>f64</td><td>f64</td></tr></thead><tbody><tr><td>&quot;AFG&quot;</td><td>&quot;Afghanistan&quot;</td><td>&quot;Asia&quot;</td><td>&quot;Northern Hemis…</td><td>&quot;Low&quot;</td><td>&quot;SA&quot;</td><td>180</td><td>167</td><td>null</td><td>null</td><td>null</td><td>null</td><td>null</td><td>null</td><td>null</td><td>null</td><td>null</td><td>null</td><td>null</td><td>null</td><td>null</td><td>null</td><td>null</td><td>0.748</td><td>0.749</td><td>0.752</td><td>0.755</td><td>0.755</td><td>0.753</td><td>0.746</td><td>0.738</td><td>0.728</td><td>0.718</td><td>0.706</td><td>0.692</td><td>0.678</td><td>0.671</td><td>0.665</td><td>0.674</td><td>0.678</td></tr><tr><td>&quot;AGO&quot;</td><td>&quot;Angola&quot;</td><td>&quot;Africa&quot;</td><td>&quot;Southern Hemis…</td><td>&quot;Medium&quot;</td><td>&quot;SSA&quot;</td><td>148</td><td>136</td><td>0.725</td><td>0.723</td><td>0.721</td><td>0.719</td><td>0.717</td><td>0.714</td><td>0.712</td><td>0.708</td><td>0.683</td><td>0.678</td><td>0.671</td><td>0.665</td><td>0.657</td><td>0.649</td><td>0.643</td><td>0.636</td><td>0.628</td><td>0.621</td><td>0.568</td><td>0.56</td><td>0.551</td><td>0.544</td><td>0.545</td><td>0.54</td><td>0.531</td><td>0.53</td><td>0.529</td><td>0.538</td><td>0.537</td><td>0.537</td><td>0.537</td><td>0.537</td></tr><tr><td>&quot;ALB&quot;</td><td>&quot;Albania&quot;</td><td>&quot;Europe&quot;</td><td>&quot;Northern Hemis…</td><td>&quot;High&quot;</td><td>&quot;ECA&quot;</td><td>67</td><td>39</td><td>null</td><td>null</td><td>null</td><td>null</td><td>null</td><td>null</td><td>null</td><td>null</td><td>null</td><td>0.33</td><td>0.319</td><td>0.282</td><td>0.297</td><td>0.305</td><td>0.301</td><td>0.306</td><td>0.285</td><td>0.286</td><td>0.293</td><td>0.242</td><td>0.246</td><td>0.252</td><td>0.235</td><td>0.225</td><td>0.219</td><td>0.204</td><td>0.191</td><td>0.17</td><td>0.164</td><td>0.156</td><td>0.156</td><td>0.144</td></tr><tr><td>&quot;AND&quot;</td><td>&quot;Andorra&quot;</td><td>&quot;Europe&quot;</td><td>&quot;Northern Hemis…</td><td>&quot;Very High&quot;</td><td>null</td><td>40</td><td>null</td><td>null</td><td>null</td><td>null</td><td>null</td><td>null</td><td>null</td><td>null</td><td>null</td><td>null</td><td>null</td><td>null</td><td>null</td><td>null</td><td>null</td><td>null</td><td>null</td><td>null</td><td>null</td><td>null</td><td>null</td><td>null</td><td>null</td><td>null</td><td>null</td><td>null</td><td>null</td><td>null</td><td>null</td><td>null</td><td>null</td><td>null</td><td>null</td></tr><tr><td>&quot;ARE&quot;</td><td>&quot;United Arab Em…</td><td>&quot;Asia&quot;</td><td>&quot;Northern Hemis…</td><td>&quot;Very High&quot;</td><td>&quot;AS&quot;</td><td>26</td><td>11</td><td>0.659</td><td>0.647</td><td>0.64</td><td>0.632</td><td>0.635</td><td>0.627</td><td>0.624</td><td>0.616</td><td>0.609</td><td>0.605</td><td>0.605</td><td>0.602</td><td>0.599</td><td>0.597</td><td>0.592</td><td>0.584</td><td>0.311</td><td>0.202</td><td>0.193</td><td>0.185</td><td>0.175</td><td>0.181</td><td>0.171</td><td>0.161</td><td>0.151</td><td>0.126</td><td>0.118</td><td>0.112</td><td>0.103</td><td>0.056</td><td>0.05</td><td>0.049</td></tr><tr><td>&quot;ARG&quot;</td><td>&quot;Argentina&quot;</td><td>&quot;America&quot;</td><td>&quot;Southern Hemis…</td><td>&quot;Very High&quot;</td><td>&quot;LAC&quot;</td><td>47</td><td>69</td><td>0.442</td><td>0.439</td><td>0.436</td><td>0.43</td><td>0.429</td><td>0.426</td><td>0.422</td><td>0.419</td><td>0.415</td><td>0.415</td><td>0.413</td><td>0.412</td><td>0.39</td><td>0.385</td><td>0.377</td><td>0.373</td><td>0.369</td><td>0.367</td><td>0.363</td><td>0.369</td><td>0.364</td><td>0.362</td><td>0.36</td><td>0.356</td><td>0.351</td><td>0.345</td><td>0.338</td><td>0.328</td><td>0.315</td><td>0.306</td><td>0.293</td><td>0.287</td></tr><tr><td>&quot;ARM&quot;</td><td>&quot;Armenia&quot;</td><td>&quot;Asia&quot;</td><td>&quot;Northern Hemis…</td><td>&quot;High&quot;</td><td>&quot;ECA&quot;</td><td>85</td><td>53</td><td>0.47</td><td>0.468</td><td>0.487</td><td>0.491</td><td>0.481</td><td>0.469</td><td>0.463</td><td>0.446</td><td>0.438</td><td>0.462</td><td>0.453</td><td>0.444</td><td>0.439</td><td>0.408</td><td>0.394</td><td>0.386</td><td>0.376</td><td>0.331</td><td>0.348</td><td>0.341</td><td>0.346</td><td>0.342</td><td>0.327</td><td>0.305</td><td>0.313</td><td>0.309</td><td>0.306</td><td>0.261</td><td>0.26</td><td>0.239</td><td>0.239</td><td>0.216</td></tr><tr><td>&quot;ATG&quot;</td><td>&quot;Antigua and Ba…</td><td>&quot;America&quot;</td><td>&quot;Northern Hemis…</td><td>&quot;High&quot;</td><td>&quot;LAC&quot;</td><td>71</td><td>null</td><td>null</td><td>null</td><td>null</td><td>null</td><td>null</td><td>null</td><td>null</td><td>null</td><td>null</td><td>null</td><td>null</td><td>null</td><td>null</td><td>null</td><td>null</td><td>null</td><td>null</td><td>null</td><td>null</td><td>null</td><td>null</td><td>null</td><td>null</td><td>null</td><td>null</td><td>null</td><td>null</td><td>null</td><td>null</td><td>null</td><td>null</td><td>null</td></tr><tr><td>&quot;AUS&quot;</td><td>&quot;Australia&quot;</td><td>&quot;Oceania&quot;</td><td>&quot;Southern Hemis…</td><td>&quot;Very High&quot;</td><td>null</td><td>5</td><td>19</td><td>0.185</td><td>0.184</td><td>0.184</td><td>0.181</td><td>0.179</td><td>0.176</td><td>0.174</td><td>0.172</td><td>0.169</td><td>0.156</td><td>0.151</td><td>0.15</td><td>0.144</td><td>0.14</td><td>0.136</td><td>0.135</td><td>0.134</td><td>0.134</td><td>0.138</td><td>0.135</td><td>0.136</td><td>0.131</td><td>0.13</td><td>0.123</td><td>0.117</td><td>0.111</td><td>0.101</td><td>0.096</td><td>0.092</td><td>0.08</td><td>0.074</td><td>0.073</td></tr><tr><td>&quot;AUT&quot;</td><td>&quot;Austria&quot;</td><td>&quot;Europe&quot;</td><td>&quot;Northern Hemis…</td><td>&quot;Very High&quot;</td><td>null</td><td>25</td><td>12</td><td>0.202</td><td>0.204</td><td>0.201</td><td>0.195</td><td>0.18</td><td>0.17</td><td>0.163</td><td>0.155</td><td>0.151</td><td>0.147</td><td>0.149</td><td>0.147</td><td>0.145</td><td>0.131</td><td>0.126</td><td>0.121</td><td>0.119</td><td>0.114</td><td>0.121</td><td>0.113</td><td>0.111</td><td>0.103</td><td>0.098</td><td>0.086</td><td>0.083</td><td>0.084</td><td>0.082</td><td>0.072</td><td>0.061</td><td>0.054</td><td>0.052</td><td>0.053</td></tr><tr><td>&quot;AZE&quot;</td><td>&quot;Azerbaijan&quot;</td><td>&quot;Asia&quot;</td><td>&quot;Northern Hemis…</td><td>&quot;High&quot;</td><td>&quot;ECA&quot;</td><td>91</td><td>70</td><td>0.334</td><td>0.343</td><td>0.365</td><td>0.377</td><td>0.392</td><td>0.389</td><td>0.387</td><td>0.386</td><td>0.377</td><td>0.368</td><td>0.354</td><td>0.353</td><td>0.35</td><td>0.355</td><td>0.348</td><td>0.349</td><td>0.346</td><td>0.353</td><td>0.352</td><td>0.354</td><td>0.338</td><td>0.339</td><td>0.34</td><td>0.342</td><td>0.345</td><td>0.335</td><td>0.328</td><td>0.311</td><td>0.307</td><td>0.314</td><td>0.301</td><td>0.294</td></tr><tr><td>&quot;BDI&quot;</td><td>&quot;Burundi&quot;</td><td>&quot;Africa&quot;</td><td>&quot;Southern Hemis…</td><td>&quot;Low&quot;</td><td>&quot;SSA&quot;</td><td>187</td><td>127</td><td>null</td><td>null</td><td>null</td><td>null</td><td>null</td><td>null</td><td>null</td><td>null</td><td>0.623</td><td>0.655</td><td>0.616</td><td>0.612</td><td>0.611</td><td>0.597</td><td>0.593</td><td>0.562</td><td>0.557</td><td>0.552</td><td>0.547</td><td>0.548</td><td>0.54</td><td>0.537</td><td>0.533</td><td>0.528</td><td>0.525</td><td>0.517</td><td>0.514</td><td>0.51</td><td>0.508</td><td>0.507</td><td>0.506</td><td>0.505</td></tr><tr><td>&hellip;</td><td>&hellip;</td><td>&hellip;</td><td>&hellip;</td><td>&hellip;</td><td>&hellip;</td><td>&hellip;</td><td>&hellip;</td><td>&hellip;</td><td>&hellip;</td><td>&hellip;</td><td>&hellip;</td><td>&hellip;</td><td>&hellip;</td><td>&hellip;</td><td>&hellip;</td><td>&hellip;</td><td>&hellip;</td><td>&hellip;</td><td>&hellip;</td><td>&hellip;</td><td>&hellip;</td><td>&hellip;</td><td>&hellip;</td><td>&hellip;</td><td>&hellip;</td><td>&hellip;</td><td>&hellip;</td><td>&hellip;</td><td>&hellip;</td><td>&hellip;</td><td>&hellip;</td><td>&hellip;</td><td>&hellip;</td><td>&hellip;</td><td>&hellip;</td><td>&hellip;</td><td>&hellip;</td><td>&hellip;</td><td>&hellip;</td></tr><tr><td>&quot;URY&quot;</td><td>&quot;Uruguay&quot;</td><td>&quot;America&quot;</td><td>&quot;Southern Hemis…</td><td>&quot;Very High&quot;</td><td>&quot;LAC&quot;</td><td>58</td><td>58</td><td>0.433</td><td>0.443</td><td>0.432</td><td>0.435</td><td>0.434</td><td>0.434</td><td>0.425</td><td>0.42</td><td>0.414</td><td>0.379</td><td>0.381</td><td>0.376</td><td>0.376</td><td>0.365</td><td>0.364</td><td>0.366</td><td>0.359</td><td>0.348</td><td>0.342</td><td>0.334</td><td>0.321</td><td>0.33</td><td>0.329</td><td>0.333</td><td>0.328</td><td>0.297</td><td>0.29</td><td>0.269</td><td>0.258</td><td>0.253</td><td>0.242</td><td>0.235</td></tr><tr><td>&quot;USA&quot;</td><td>&quot;United States&quot;</td><td>&quot;America&quot;</td><td>&quot;Northern Hemis…</td><td>&quot;Very High&quot;</td><td>null</td><td>21</td><td>44</td><td>0.294</td><td>0.296</td><td>0.295</td><td>0.294</td><td>0.299</td><td>0.295</td><td>0.291</td><td>0.282</td><td>0.28</td><td>0.277</td><td>0.275</td><td>0.271</td><td>0.267</td><td>0.262</td><td>0.258</td><td>0.256</td><td>0.257</td><td>0.257</td><td>0.254</td><td>0.256</td><td>0.248</td><td>0.241</td><td>0.235</td><td>0.229</td><td>0.217</td><td>0.219</td><td>0.216</td><td>0.209</td><td>0.192</td><td>0.189</td><td>0.178</td><td>0.179</td></tr><tr><td>&quot;UZB&quot;</td><td>&quot;Uzbekistan&quot;</td><td>&quot;Asia&quot;</td><td>&quot;Northern Hemis…</td><td>&quot;High&quot;</td><td>&quot;ECA&quot;</td><td>101</td><td>56</td><td>null</td><td>null</td><td>null</td><td>null</td><td>null</td><td>null</td><td>null</td><td>null</td><td>null</td><td>null</td><td>0.353</td><td>0.34</td><td>0.325</td><td>0.308</td><td>0.229</td><td>0.233</td><td>0.23</td><td>0.23</td><td>0.239</td><td>0.265</td><td>0.276</td><td>0.291</td><td>0.295</td><td>0.29</td><td>0.289</td><td>0.297</td><td>0.286</td><td>0.278</td><td>0.274</td><td>0.268</td><td>0.229</td><td>0.227</td></tr><tr><td>&quot;VCT&quot;</td><td>&quot;Saint Vincent …</td><td>&quot;America&quot;</td><td>&quot;Northern Hemis…</td><td>&quot;High&quot;</td><td>&quot;LAC&quot;</td><td>89</td><td>94</td><td>null</td><td>null</td><td>null</td><td>null</td><td>null</td><td>null</td><td>null</td><td>null</td><td>null</td><td>null</td><td>null</td><td>null</td><td>null</td><td>null</td><td>null</td><td>null</td><td>null</td><td>null</td><td>null</td><td>null</td><td>null</td><td>null</td><td>null</td><td>null</td><td>null</td><td>null</td><td>null</td><td>0.414</td><td>0.411</td><td>0.41</td><td>0.391</td><td>0.39</td></tr><tr><td>&quot;VEN&quot;</td><td>&quot;Venezuela&quot;</td><td>&quot;America&quot;</td><td>&quot;Northern Hemis…</td><td>&quot;Medium&quot;</td><td>&quot;LAC&quot;</td><td>120</td><td>123</td><td>0.563</td><td>0.56</td><td>0.559</td><td>0.556</td><td>0.557</td><td>0.553</td><td>0.555</td><td>0.553</td><td>0.551</td><td>0.526</td><td>0.519</td><td>0.527</td><td>0.534</td><td>0.53</td><td>0.522</td><td>0.489</td><td>0.489</td><td>0.486</td><td>0.487</td><td>0.491</td><td>0.493</td><td>0.491</td><td>0.491</td><td>0.488</td><td>0.486</td><td>0.487</td><td>0.499</td><td>0.481</td><td>0.483</td><td>0.492</td><td>0.492</td><td>0.492</td></tr><tr><td>&quot;VNM&quot;</td><td>&quot;Viet Nam&quot;</td><td>&quot;Asia&quot;</td><td>&quot;Northern Hemis…</td><td>&quot;High&quot;</td><td>&quot;EAP&quot;</td><td>115</td><td>71</td><td>0.41</td><td>0.409</td><td>0.407</td><td>0.401</td><td>0.392</td><td>0.384</td><td>0.369</td><td>0.358</td><td>0.342</td><td>0.334</td><td>0.328</td><td>0.321</td><td>0.312</td><td>0.304</td><td>0.305</td><td>0.3</td><td>0.299</td><td>0.303</td><td>0.307</td><td>0.312</td><td>0.315</td><td>0.32</td><td>0.319</td><td>0.32</td><td>0.317</td><td>0.316</td><td>0.306</td><td>0.303</td><td>0.304</td><td>0.305</td><td>0.305</td><td>0.296</td></tr><tr><td>&quot;VUT&quot;</td><td>&quot;Vanuatu&quot;</td><td>&quot;Oceania&quot;</td><td>&quot;Southern Hemis…</td><td>&quot;Medium&quot;</td><td>&quot;EAP&quot;</td><td>140</td><td>null</td><td>null</td><td>null</td><td>null</td><td>null</td><td>null</td><td>null</td><td>null</td><td>null</td><td>null</td><td>null</td><td>null</td><td>null</td><td>null</td><td>null</td><td>null</td><td>null</td><td>null</td><td>null</td><td>null</td><td>null</td><td>null</td><td>null</td><td>null</td><td>null</td><td>null</td><td>null</td><td>null</td><td>null</td><td>null</td><td>null</td><td>null</td><td>null</td></tr><tr><td>&quot;WSM&quot;</td><td>&quot;Samoa&quot;</td><td>&quot;Oceania&quot;</td><td>&quot;Southern Hemis…</td><td>&quot;High&quot;</td><td>&quot;EAP&quot;</td><td>111</td><td>99</td><td>null</td><td>null</td><td>null</td><td>null</td><td>null</td><td>null</td><td>null</td><td>null</td><td>null</td><td>null</td><td>null</td><td>null</td><td>null</td><td>null</td><td>null</td><td>null</td><td>null</td><td>null</td><td>null</td><td>null</td><td>null</td><td>0.479</td><td>0.482</td><td>0.475</td><td>0.447</td><td>0.443</td><td>0.409</td><td>0.407</td><td>0.407</td><td>0.405</td><td>0.404</td><td>0.418</td></tr><tr><td>&quot;YEM&quot;</td><td>&quot;Yemen&quot;</td><td>&quot;Asia&quot;</td><td>&quot;Northern Hemis…</td><td>&quot;Low&quot;</td><td>&quot;AS&quot;</td><td>183</td><td>170</td><td>null</td><td>null</td><td>null</td><td>null</td><td>null</td><td>null</td><td>null</td><td>null</td><td>0.812</td><td>0.807</td><td>0.805</td><td>0.803</td><td>0.802</td><td>0.822</td><td>0.821</td><td>0.799</td><td>0.8</td><td>0.799</td><td>0.798</td><td>0.798</td><td>0.798</td><td>0.799</td><td>0.8</td><td>0.802</td><td>0.806</td><td>0.815</td><td>0.81</td><td>0.808</td><td>0.806</td><td>0.785</td><td>0.784</td><td>0.82</td></tr><tr><td>&quot;ZAF&quot;</td><td>&quot;South Africa&quot;</td><td>&quot;Africa&quot;</td><td>&quot;Southern Hemis…</td><td>&quot;High&quot;</td><td>&quot;SSA&quot;</td><td>109</td><td>97</td><td>0.511</td><td>0.502</td><td>0.496</td><td>0.489</td><td>0.482</td><td>0.476</td><td>0.472</td><td>0.468</td><td>0.461</td><td>0.459</td><td>0.459</td><td>0.461</td><td>0.459</td><td>0.463</td><td>0.459</td><td>0.454</td><td>0.456</td><td>0.452</td><td>0.463</td><td>0.443</td><td>0.44</td><td>0.441</td><td>0.432</td><td>0.431</td><td>0.433</td><td>0.427</td><td>0.418</td><td>0.407</td><td>0.405</td><td>0.41</td><td>0.408</td><td>0.405</td></tr><tr><td>&quot;ZMB&quot;</td><td>&quot;Zambia&quot;</td><td>&quot;Africa&quot;</td><td>&quot;Southern Hemis…</td><td>&quot;Medium&quot;</td><td>&quot;SSA&quot;</td><td>154</td><td>138</td><td>0.666</td><td>0.66</td><td>0.654</td><td>0.651</td><td>0.647</td><td>0.642</td><td>0.645</td><td>0.646</td><td>0.646</td><td>0.648</td><td>0.648</td><td>0.642</td><td>0.629</td><td>0.626</td><td>0.623</td><td>0.617</td><td>0.606</td><td>0.6</td><td>0.594</td><td>0.592</td><td>0.586</td><td>0.59</td><td>0.585</td><td>0.581</td><td>0.579</td><td>0.567</td><td>0.545</td><td>0.54</td><td>0.537</td><td>0.534</td><td>0.535</td><td>0.54</td></tr><tr><td>&quot;ZWE&quot;</td><td>&quot;Zimbabwe&quot;</td><td>&quot;Africa&quot;</td><td>&quot;Southern Hemis…</td><td>&quot;Medium&quot;</td><td>&quot;SSA&quot;</td><td>146</td><td>134</td><td>0.605</td><td>0.602</td><td>0.598</td><td>0.596</td><td>0.595</td><td>0.594</td><td>0.593</td><td>0.594</td><td>0.596</td><td>0.602</td><td>0.625</td><td>0.626</td><td>0.628</td><td>0.629</td><td>0.628</td><td>0.595</td><td>0.59</td><td>0.588</td><td>0.597</td><td>0.596</td><td>0.592</td><td>0.587</td><td>0.583</td><td>0.547</td><td>0.545</td><td>0.54</td><td>0.537</td><td>0.532</td><td>0.535</td><td>0.533</td><td>0.533</td><td>0.532</td></tr></tbody></table></div>"
      ],
      "text/plain": [
       "shape: (195, 40)\n",
       "┌──────┬────────────┬───────────┬────────────┬───┬────────────┬────────────┬───────────┬───────────┐\n",
       "│ ISO3 ┆ Country    ┆ Continent ┆ Hemisphere ┆ … ┆ Gender     ┆ Gender     ┆ Gender    ┆ Gender    │\n",
       "│ ---  ┆ ---        ┆ ---       ┆ ---        ┆   ┆ Inequality ┆ Inequality ┆ Inequalit ┆ Inequalit │\n",
       "│ str  ┆ str        ┆ str       ┆ str        ┆   ┆ Index      ┆ Index      ┆ y Index   ┆ y Index   │\n",
       "│      ┆            ┆           ┆            ┆   ┆ (2018)     ┆ (2019)     ┆ (2020)    ┆ (2021)    │\n",
       "│      ┆            ┆           ┆            ┆   ┆ ---        ┆ ---        ┆ ---       ┆ ---       │\n",
       "│      ┆            ┆           ┆            ┆   ┆ f64        ┆ f64        ┆ f64       ┆ f64       │\n",
       "╞══════╪════════════╪═══════════╪════════════╪═══╪════════════╪════════════╪═══════════╪═══════════╡\n",
       "│ AFG  ┆ Afghanista ┆ Asia      ┆ Northern   ┆ … ┆ 0.671      ┆ 0.665      ┆ 0.674     ┆ 0.678     │\n",
       "│      ┆ n          ┆           ┆ Hemisphere ┆   ┆            ┆            ┆           ┆           │\n",
       "│ AGO  ┆ Angola     ┆ Africa    ┆ Southern   ┆ … ┆ 0.537      ┆ 0.537      ┆ 0.537     ┆ 0.537     │\n",
       "│      ┆            ┆           ┆ Hemisphere ┆   ┆            ┆            ┆           ┆           │\n",
       "│ ALB  ┆ Albania    ┆ Europe    ┆ Northern   ┆ … ┆ 0.164      ┆ 0.156      ┆ 0.156     ┆ 0.144     │\n",
       "│      ┆            ┆           ┆ Hemisphere ┆   ┆            ┆            ┆           ┆           │\n",
       "│ AND  ┆ Andorra    ┆ Europe    ┆ Northern   ┆ … ┆ null       ┆ null       ┆ null      ┆ null      │\n",
       "│      ┆            ┆           ┆ Hemisphere ┆   ┆            ┆            ┆           ┆           │\n",
       "│ …    ┆ …          ┆ …         ┆ …          ┆ … ┆ …          ┆ …          ┆ …         ┆ …         │\n",
       "│ YEM  ┆ Yemen      ┆ Asia      ┆ Northern   ┆ … ┆ 0.806      ┆ 0.785      ┆ 0.784     ┆ 0.82      │\n",
       "│      ┆            ┆           ┆ Hemisphere ┆   ┆            ┆            ┆           ┆           │\n",
       "│ ZAF  ┆ South      ┆ Africa    ┆ Southern   ┆ … ┆ 0.405      ┆ 0.41       ┆ 0.408     ┆ 0.405     │\n",
       "│      ┆ Africa     ┆           ┆ Hemisphere ┆   ┆            ┆            ┆           ┆           │\n",
       "│ ZMB  ┆ Zambia     ┆ Africa    ┆ Southern   ┆ … ┆ 0.537      ┆ 0.534      ┆ 0.535     ┆ 0.54      │\n",
       "│      ┆            ┆           ┆ Hemisphere ┆   ┆            ┆            ┆           ┆           │\n",
       "│ ZWE  ┆ Zimbabwe   ┆ Africa    ┆ Southern   ┆ … ┆ 0.535      ┆ 0.533      ┆ 0.533     ┆ 0.532     │\n",
       "│      ┆            ┆           ┆ Hemisphere ┆   ┆            ┆            ┆           ┆           │\n",
       "└──────┴────────────┴───────────┴────────────┴───┴────────────┴────────────┴───────────┴───────────┘"
      ]
     },
     "execution_count": 7,
     "metadata": {},
     "output_type": "execute_result"
    }
   ],
   "source": [
    "GenderInequal_df=pl.read_csv('Gender Inequality Index.csv')\n",
    "GenderInequal_df"
   ]
  },
  {
   "cell_type": "code",
   "execution_count": 18,
   "metadata": {},
   "outputs": [
    {
     "data": {
      "text/html": [
       "<div><style>\n",
       ".dataframe > thead > tr,\n",
       ".dataframe > tbody > tr {\n",
       "  text-align: right;\n",
       "  white-space: pre-wrap;\n",
       "}\n",
       "</style>\n",
       "<small>shape: (163, 3)</small><table border=\"1\" class=\"dataframe\"><thead><tr><th>HDI Rank (2021)</th><th>Hemisphere</th><th>ISO3</th></tr><tr><td>i64</td><td>list[str]</td><td>list[str]</td></tr></thead><tbody><tr><td>180</td><td>[&quot;Northern Hemisphere&quot;]</td><td>[&quot;AFG&quot;]</td></tr><tr><td>148</td><td>[&quot;Southern Hemisphere&quot;]</td><td>[&quot;AGO&quot;]</td></tr><tr><td>67</td><td>[&quot;Northern Hemisphere&quot;]</td><td>[&quot;ALB&quot;]</td></tr><tr><td>40</td><td>[&quot;Northern Hemisphere&quot;, &quot;Northern Hemisphere&quot;]</td><td>[&quot;AND&quot;, &quot;HRV&quot;]</td></tr><tr><td>26</td><td>[&quot;Northern Hemisphere&quot;]</td><td>[&quot;ARE&quot;]</td></tr><tr><td>47</td><td>[&quot;Southern Hemisphere&quot;]</td><td>[&quot;ARG&quot;]</td></tr><tr><td>85</td><td>[&quot;Northern Hemisphere&quot;]</td><td>[&quot;ARM&quot;]</td></tr><tr><td>71</td><td>[&quot;Northern Hemisphere&quot;]</td><td>[&quot;ATG&quot;]</td></tr><tr><td>5</td><td>[&quot;Southern Hemisphere&quot;]</td><td>[&quot;AUS&quot;]</td></tr><tr><td>25</td><td>[&quot;Northern Hemisphere&quot;]</td><td>[&quot;AUT&quot;]</td></tr><tr><td>91</td><td>[&quot;Northern Hemisphere&quot;, &quot;Northern Hemisphere&quot;, … &quot;Southern Hemisphere&quot;]</td><td>[&quot;AZE&quot;, &quot;DZA&quot;, … &quot;TON&quot;]</td></tr><tr><td>187</td><td>[&quot;Southern Hemisphere&quot;]</td><td>[&quot;BDI&quot;]</td></tr><tr><td>&hellip;</td><td>&hellip;</td><td>&hellip;</td></tr><tr><td>130</td><td>[&quot;Southern Hemisphere&quot;]</td><td>[&quot;TUV&quot;]</td></tr><tr><td>160</td><td>[&quot;Southern Hemisphere&quot;]</td><td>[&quot;TZA&quot;]</td></tr><tr><td>77</td><td>[&quot;Northern Hemisphere&quot;]</td><td>[&quot;UKR&quot;]</td></tr><tr><td>21</td><td>[&quot;Northern Hemisphere&quot;]</td><td>[&quot;USA&quot;]</td></tr><tr><td>101</td><td>[&quot;Northern Hemisphere&quot;]</td><td>[&quot;UZB&quot;]</td></tr><tr><td>89</td><td>[&quot;Northern Hemisphere&quot;]</td><td>[&quot;VCT&quot;]</td></tr><tr><td>120</td><td>[&quot;Northern Hemisphere&quot;]</td><td>[&quot;VEN&quot;]</td></tr><tr><td>115</td><td>[&quot;Northern Hemisphere&quot;]</td><td>[&quot;VNM&quot;]</td></tr><tr><td>111</td><td>[&quot;Southern Hemisphere&quot;]</td><td>[&quot;WSM&quot;]</td></tr><tr><td>183</td><td>[&quot;Northern Hemisphere&quot;]</td><td>[&quot;YEM&quot;]</td></tr><tr><td>109</td><td>[&quot;Southern Hemisphere&quot;]</td><td>[&quot;ZAF&quot;]</td></tr><tr><td>154</td><td>[&quot;Southern Hemisphere&quot;]</td><td>[&quot;ZMB&quot;]</td></tr></tbody></table></div>"
      ],
      "text/plain": [
       "shape: (163, 3)\n",
       "┌─────────────────┬───────────────────────────────────┬────────────────┐\n",
       "│ HDI Rank (2021) ┆ Hemisphere                        ┆ ISO3           │\n",
       "│ ---             ┆ ---                               ┆ ---            │\n",
       "│ i64             ┆ list[str]                         ┆ list[str]      │\n",
       "╞═════════════════╪═══════════════════════════════════╪════════════════╡\n",
       "│ 180             ┆ [\"Northern Hemisphere\"]           ┆ [\"AFG\"]        │\n",
       "│ 148             ┆ [\"Southern Hemisphere\"]           ┆ [\"AGO\"]        │\n",
       "│ 67              ┆ [\"Northern Hemisphere\"]           ┆ [\"ALB\"]        │\n",
       "│ 40              ┆ [\"Northern Hemisphere\", \"Norther… ┆ [\"AND\", \"HRV\"] │\n",
       "│ …               ┆ …                                 ┆ …              │\n",
       "│ 111             ┆ [\"Southern Hemisphere\"]           ┆ [\"WSM\"]        │\n",
       "│ 183             ┆ [\"Northern Hemisphere\"]           ┆ [\"YEM\"]        │\n",
       "│ 109             ┆ [\"Southern Hemisphere\"]           ┆ [\"ZAF\"]        │\n",
       "│ 154             ┆ [\"Southern Hemisphere\"]           ┆ [\"ZMB\"]        │\n",
       "└─────────────────┴───────────────────────────────────┴────────────────┘"
      ]
     },
     "execution_count": 18,
     "metadata": {},
     "output_type": "execute_result"
    }
   ],
   "source": [
    "GI_hemisphere=GenderInequal_df.group_by(\"HDI Rank (2021)\", maintain_order=True).agg(pl.col('Hemisphere', 'ISO3'))\n",
    "GI_hemisphere\n"
   ]
  },
  {
   "cell_type": "code",
   "execution_count": 23,
   "metadata": {},
   "outputs": [
    {
     "data": {
      "text/html": [
       "<div><style>\n",
       ".dataframe > thead > tr,\n",
       ".dataframe > tbody > tr {\n",
       "  text-align: right;\n",
       "  white-space: pre-wrap;\n",
       "}\n",
       "</style>\n",
       "<small>shape: (195, 1)</small><table border=\"1\" class=\"dataframe\"><thead><tr><th>Gender_Inequality_1990Decade</th></tr><tr><td>f64</td></tr></thead><tbody><tr><td>null</td></tr><tr><td>0.7015</td></tr><tr><td>0.33</td></tr><tr><td>null</td></tr><tr><td>0.632</td></tr><tr><td>0.4285</td></tr><tr><td>0.466</td></tr><tr><td>null</td></tr><tr><td>0.1705</td></tr><tr><td>0.1745</td></tr><tr><td>0.351</td></tr><tr><td>0.655</td></tr><tr><td>&hellip;</td></tr><tr><td>0.406</td></tr><tr><td>0.2855</td></tr><tr><td>null</td></tr><tr><td>null</td></tr><tr><td>0.5445</td></tr><tr><td>0.372</td></tr><tr><td>null</td></tr><tr><td>null</td></tr><tr><td>0.807</td></tr><tr><td>0.485</td></tr><tr><td>0.657</td></tr><tr><td>0.6035</td></tr></tbody></table></div>"
      ],
      "text/plain": [
       "shape: (195, 1)\n",
       "┌──────────────────────────────┐\n",
       "│ Gender_Inequality_1990Decade │\n",
       "│ ---                          │\n",
       "│ f64                          │\n",
       "╞══════════════════════════════╡\n",
       "│ null                         │\n",
       "│ 0.7015                       │\n",
       "│ 0.33                         │\n",
       "│ null                         │\n",
       "│ …                            │\n",
       "│ 0.807                        │\n",
       "│ 0.485                        │\n",
       "│ 0.657                        │\n",
       "│ 0.6035                       │\n",
       "└──────────────────────────────┘"
      ]
     },
     "execution_count": 23,
     "metadata": {},
     "output_type": "execute_result"
    }
   ],
   "source": [
    "cols_to_mean=['Gender Inequality Index (1990)', 'Gender Inequality Index (1999)']\n",
    "geindex90_mean=GenderInequal_df.select( Gender_Inequality_1990Decade=pl.concat_list(cols_to_mean).list.mean())\n",
    "\n",
    "geindex90_mean"
   ]
  },
  {
   "cell_type": "code",
   "execution_count": 24,
   "metadata": {},
   "outputs": [
    {
     "data": {
      "text/html": [
       "<div><style>\n",
       ".dataframe > thead > tr,\n",
       ".dataframe > tbody > tr {\n",
       "  text-align: right;\n",
       "  white-space: pre-wrap;\n",
       "}\n",
       "</style>\n",
       "<small>shape: (195, 1)</small><table border=\"1\" class=\"dataframe\"><thead><tr><th>Gender_Inequality_2000Decade</th></tr><tr><td>f64</td></tr></thead><tbody><tr><td>0.753</td></tr><tr><td>0.611</td></tr><tr><td>0.2825</td></tr><tr><td>null</td></tr><tr><td>0.39</td></tr><tr><td>0.3885</td></tr><tr><td>0.3995</td></tr><tr><td>null</td></tr><tr><td>0.1435</td></tr><tr><td>0.13</td></tr><tr><td>0.346</td></tr><tr><td>0.578</td></tr><tr><td>&hellip;</td></tr><tr><td>0.351</td></tr><tr><td>0.2615</td></tr><tr><td>0.3145</td></tr><tr><td>null</td></tr><tr><td>0.506</td></tr><tr><td>0.3215</td></tr><tr><td>null</td></tr><tr><td>null</td></tr><tr><td>0.8015</td></tr><tr><td>0.4495</td></tr><tr><td>0.617</td></tr><tr><td>0.6085</td></tr></tbody></table></div>"
      ],
      "text/plain": [
       "shape: (195, 1)\n",
       "┌──────────────────────────────┐\n",
       "│ Gender_Inequality_2000Decade │\n",
       "│ ---                          │\n",
       "│ f64                          │\n",
       "╞══════════════════════════════╡\n",
       "│ 0.753                        │\n",
       "│ 0.611                        │\n",
       "│ 0.2825                       │\n",
       "│ null                         │\n",
       "│ …                            │\n",
       "│ 0.8015                       │\n",
       "│ 0.4495                       │\n",
       "│ 0.617                        │\n",
       "│ 0.6085                       │\n",
       "└──────────────────────────────┘"
      ]
     },
     "execution_count": 24,
     "metadata": {},
     "output_type": "execute_result"
    }
   ],
   "source": [
    "cols_to_mean=['Gender Inequality Index (2000)', 'Gender Inequality Index (2010)']\n",
    "geindex00_mean=GenderInequal_df.select( Gender_Inequality_2000Decade=pl.concat_list(cols_to_mean).list.mean())\n",
    "geindex00_mean"
   ]
  },
  {
   "cell_type": "code",
   "execution_count": 25,
   "metadata": {},
   "outputs": [
    {
     "data": {
      "text/html": [
       "<div><style>\n",
       ".dataframe > thead > tr,\n",
       ".dataframe > tbody > tr {\n",
       "  text-align: right;\n",
       "  white-space: pre-wrap;\n",
       "}\n",
       "</style>\n",
       "<small>shape: (195, 1)</small><table border=\"1\" class=\"dataframe\"><thead><tr><th>Gender_Inequality_21Decade</th></tr><tr><td>f64</td></tr></thead><tbody><tr><td>0.712</td></tr><tr><td>0.5405</td></tr><tr><td>0.198</td></tr><tr><td>null</td></tr><tr><td>0.115</td></tr><tr><td>0.3245</td></tr><tr><td>0.279</td></tr><tr><td>null</td></tr><tr><td>0.102</td></tr><tr><td>0.078</td></tr><tr><td>0.3165</td></tr><tr><td>0.521</td></tr><tr><td>&hellip;</td></tr><tr><td>0.2825</td></tr><tr><td>0.21</td></tr><tr><td>0.259</td></tr><tr><td>0.39</td></tr><tr><td>0.4915</td></tr><tr><td>0.308</td></tr><tr><td>null</td></tr><tr><td>0.4485</td></tr><tr><td>0.8095</td></tr><tr><td>0.423</td></tr><tr><td>0.565</td></tr><tr><td>0.5595</td></tr></tbody></table></div>"
      ],
      "text/plain": [
       "shape: (195, 1)\n",
       "┌────────────────────────────┐\n",
       "│ Gender_Inequality_21Decade │\n",
       "│ ---                        │\n",
       "│ f64                        │\n",
       "╞════════════════════════════╡\n",
       "│ 0.712                      │\n",
       "│ 0.5405                     │\n",
       "│ 0.198                      │\n",
       "│ null                       │\n",
       "│ …                          │\n",
       "│ 0.8095                     │\n",
       "│ 0.423                      │\n",
       "│ 0.565                      │\n",
       "│ 0.5595                     │\n",
       "└────────────────────────────┘"
      ]
     },
     "execution_count": 25,
     "metadata": {},
     "output_type": "execute_result"
    }
   ],
   "source": [
    "cols_to_mean=['Gender Inequality Index (2011)', 'Gender Inequality Index (2021)']\n",
    "geindex21_mean=GenderInequal_df.select( Gender_Inequality_21Decade=pl.concat_list(cols_to_mean).list.mean())\n",
    "geindex21_mean"
   ]
  },
  {
   "cell_type": "code",
   "execution_count": 30,
   "metadata": {},
   "outputs": [
    {
     "data": {
      "text/html": [
       "<div><style>\n",
       ".dataframe > thead > tr,\n",
       ".dataframe > tbody > tr {\n",
       "  text-align: right;\n",
       "  white-space: pre-wrap;\n",
       "}\n",
       "</style>\n",
       "<small>shape: (195, 43)</small><table border=\"1\" class=\"dataframe\"><thead><tr><th>ISO3</th><th>Country</th><th>Continent</th><th>Hemisphere</th><th>Human Development Groups</th><th>UNDP Developing Regions</th><th>HDI Rank (2021)</th><th>GII Rank (2021)</th><th>Gender Inequality Index (1990)</th><th>Gender Inequality Index (1991)</th><th>Gender Inequality Index (1992)</th><th>Gender Inequality Index (1993)</th><th>Gender Inequality Index (1994)</th><th>Gender Inequality Index (1995)</th><th>Gender Inequality Index (1996)</th><th>Gender Inequality Index (1997)</th><th>Gender Inequality Index (1998)</th><th>Gender Inequality Index (1999)</th><th>Gender Inequality Index (2000)</th><th>Gender Inequality Index (2001)</th><th>Gender Inequality Index (2002)</th><th>Gender Inequality Index (2003)</th><th>Gender Inequality Index (2004)</th><th>Gender Inequality Index (2005)</th><th>Gender Inequality Index (2006)</th><th>Gender Inequality Index (2007)</th><th>Gender Inequality Index (2008)</th><th>Gender Inequality Index (2009)</th><th>Gender Inequality Index (2010)</th><th>Gender Inequality Index (2011)</th><th>Gender Inequality Index (2012)</th><th>Gender Inequality Index (2013)</th><th>Gender Inequality Index (2014)</th><th>Gender Inequality Index (2015)</th><th>Gender Inequality Index (2016)</th><th>Gender Inequality Index (2017)</th><th>Gender Inequality Index (2018)</th><th>Gender Inequality Index (2019)</th><th>Gender Inequality Index (2020)</th><th>Gender Inequality Index (2021)</th><th>Gender Inequality Index Average (1990-1999)</th><th>Gender Inequality Index Average (2000-2010)</th><th>Gender Inequality Index Average (2011-2021)</th></tr><tr><td>str</td><td>str</td><td>str</td><td>str</td><td>str</td><td>str</td><td>i64</td><td>i64</td><td>f64</td><td>f64</td><td>f64</td><td>f64</td><td>f64</td><td>f64</td><td>f64</td><td>f64</td><td>f64</td><td>f64</td><td>f64</td><td>f64</td><td>f64</td><td>f64</td><td>f64</td><td>f64</td><td>f64</td><td>f64</td><td>f64</td><td>f64</td><td>f64</td><td>f64</td><td>f64</td><td>f64</td><td>f64</td><td>f64</td><td>f64</td><td>f64</td><td>f64</td><td>f64</td><td>f64</td><td>f64</td><td>f64</td><td>f64</td><td>f64</td></tr></thead><tbody><tr><td>&quot;AFG&quot;</td><td>&quot;Afghanistan&quot;</td><td>&quot;Asia&quot;</td><td>&quot;Northern Hemis…</td><td>&quot;Low&quot;</td><td>&quot;SA&quot;</td><td>180</td><td>167</td><td>null</td><td>null</td><td>null</td><td>null</td><td>null</td><td>null</td><td>null</td><td>null</td><td>null</td><td>null</td><td>null</td><td>null</td><td>null</td><td>null</td><td>null</td><td>0.748</td><td>0.749</td><td>0.752</td><td>0.755</td><td>0.755</td><td>0.753</td><td>0.746</td><td>0.738</td><td>0.728</td><td>0.718</td><td>0.706</td><td>0.692</td><td>0.678</td><td>0.671</td><td>0.665</td><td>0.674</td><td>0.678</td><td>null</td><td>0.753</td><td>0.712</td></tr><tr><td>&quot;AGO&quot;</td><td>&quot;Angola&quot;</td><td>&quot;Africa&quot;</td><td>&quot;Southern Hemis…</td><td>&quot;Medium&quot;</td><td>&quot;SSA&quot;</td><td>148</td><td>136</td><td>0.725</td><td>0.723</td><td>0.721</td><td>0.719</td><td>0.717</td><td>0.714</td><td>0.712</td><td>0.708</td><td>0.683</td><td>0.678</td><td>0.671</td><td>0.665</td><td>0.657</td><td>0.649</td><td>0.643</td><td>0.636</td><td>0.628</td><td>0.621</td><td>0.568</td><td>0.56</td><td>0.551</td><td>0.544</td><td>0.545</td><td>0.54</td><td>0.531</td><td>0.53</td><td>0.529</td><td>0.538</td><td>0.537</td><td>0.537</td><td>0.537</td><td>0.537</td><td>0.7015</td><td>0.611</td><td>0.5405</td></tr><tr><td>&quot;ALB&quot;</td><td>&quot;Albania&quot;</td><td>&quot;Europe&quot;</td><td>&quot;Northern Hemis…</td><td>&quot;High&quot;</td><td>&quot;ECA&quot;</td><td>67</td><td>39</td><td>null</td><td>null</td><td>null</td><td>null</td><td>null</td><td>null</td><td>null</td><td>null</td><td>null</td><td>0.33</td><td>0.319</td><td>0.282</td><td>0.297</td><td>0.305</td><td>0.301</td><td>0.306</td><td>0.285</td><td>0.286</td><td>0.293</td><td>0.242</td><td>0.246</td><td>0.252</td><td>0.235</td><td>0.225</td><td>0.219</td><td>0.204</td><td>0.191</td><td>0.17</td><td>0.164</td><td>0.156</td><td>0.156</td><td>0.144</td><td>0.33</td><td>0.2825</td><td>0.198</td></tr><tr><td>&quot;AND&quot;</td><td>&quot;Andorra&quot;</td><td>&quot;Europe&quot;</td><td>&quot;Northern Hemis…</td><td>&quot;Very High&quot;</td><td>null</td><td>40</td><td>null</td><td>null</td><td>null</td><td>null</td><td>null</td><td>null</td><td>null</td><td>null</td><td>null</td><td>null</td><td>null</td><td>null</td><td>null</td><td>null</td><td>null</td><td>null</td><td>null</td><td>null</td><td>null</td><td>null</td><td>null</td><td>null</td><td>null</td><td>null</td><td>null</td><td>null</td><td>null</td><td>null</td><td>null</td><td>null</td><td>null</td><td>null</td><td>null</td><td>null</td><td>null</td><td>null</td></tr><tr><td>&quot;ARE&quot;</td><td>&quot;United Arab Em…</td><td>&quot;Asia&quot;</td><td>&quot;Northern Hemis…</td><td>&quot;Very High&quot;</td><td>&quot;AS&quot;</td><td>26</td><td>11</td><td>0.659</td><td>0.647</td><td>0.64</td><td>0.632</td><td>0.635</td><td>0.627</td><td>0.624</td><td>0.616</td><td>0.609</td><td>0.605</td><td>0.605</td><td>0.602</td><td>0.599</td><td>0.597</td><td>0.592</td><td>0.584</td><td>0.311</td><td>0.202</td><td>0.193</td><td>0.185</td><td>0.175</td><td>0.181</td><td>0.171</td><td>0.161</td><td>0.151</td><td>0.126</td><td>0.118</td><td>0.112</td><td>0.103</td><td>0.056</td><td>0.05</td><td>0.049</td><td>0.632</td><td>0.39</td><td>0.115</td></tr><tr><td>&quot;ARG&quot;</td><td>&quot;Argentina&quot;</td><td>&quot;America&quot;</td><td>&quot;Southern Hemis…</td><td>&quot;Very High&quot;</td><td>&quot;LAC&quot;</td><td>47</td><td>69</td><td>0.442</td><td>0.439</td><td>0.436</td><td>0.43</td><td>0.429</td><td>0.426</td><td>0.422</td><td>0.419</td><td>0.415</td><td>0.415</td><td>0.413</td><td>0.412</td><td>0.39</td><td>0.385</td><td>0.377</td><td>0.373</td><td>0.369</td><td>0.367</td><td>0.363</td><td>0.369</td><td>0.364</td><td>0.362</td><td>0.36</td><td>0.356</td><td>0.351</td><td>0.345</td><td>0.338</td><td>0.328</td><td>0.315</td><td>0.306</td><td>0.293</td><td>0.287</td><td>0.4285</td><td>0.3885</td><td>0.3245</td></tr><tr><td>&quot;ARM&quot;</td><td>&quot;Armenia&quot;</td><td>&quot;Asia&quot;</td><td>&quot;Northern Hemis…</td><td>&quot;High&quot;</td><td>&quot;ECA&quot;</td><td>85</td><td>53</td><td>0.47</td><td>0.468</td><td>0.487</td><td>0.491</td><td>0.481</td><td>0.469</td><td>0.463</td><td>0.446</td><td>0.438</td><td>0.462</td><td>0.453</td><td>0.444</td><td>0.439</td><td>0.408</td><td>0.394</td><td>0.386</td><td>0.376</td><td>0.331</td><td>0.348</td><td>0.341</td><td>0.346</td><td>0.342</td><td>0.327</td><td>0.305</td><td>0.313</td><td>0.309</td><td>0.306</td><td>0.261</td><td>0.26</td><td>0.239</td><td>0.239</td><td>0.216</td><td>0.466</td><td>0.3995</td><td>0.279</td></tr><tr><td>&quot;ATG&quot;</td><td>&quot;Antigua and Ba…</td><td>&quot;America&quot;</td><td>&quot;Northern Hemis…</td><td>&quot;High&quot;</td><td>&quot;LAC&quot;</td><td>71</td><td>null</td><td>null</td><td>null</td><td>null</td><td>null</td><td>null</td><td>null</td><td>null</td><td>null</td><td>null</td><td>null</td><td>null</td><td>null</td><td>null</td><td>null</td><td>null</td><td>null</td><td>null</td><td>null</td><td>null</td><td>null</td><td>null</td><td>null</td><td>null</td><td>null</td><td>null</td><td>null</td><td>null</td><td>null</td><td>null</td><td>null</td><td>null</td><td>null</td><td>null</td><td>null</td><td>null</td></tr><tr><td>&quot;AUS&quot;</td><td>&quot;Australia&quot;</td><td>&quot;Oceania&quot;</td><td>&quot;Southern Hemis…</td><td>&quot;Very High&quot;</td><td>null</td><td>5</td><td>19</td><td>0.185</td><td>0.184</td><td>0.184</td><td>0.181</td><td>0.179</td><td>0.176</td><td>0.174</td><td>0.172</td><td>0.169</td><td>0.156</td><td>0.151</td><td>0.15</td><td>0.144</td><td>0.14</td><td>0.136</td><td>0.135</td><td>0.134</td><td>0.134</td><td>0.138</td><td>0.135</td><td>0.136</td><td>0.131</td><td>0.13</td><td>0.123</td><td>0.117</td><td>0.111</td><td>0.101</td><td>0.096</td><td>0.092</td><td>0.08</td><td>0.074</td><td>0.073</td><td>0.1705</td><td>0.1435</td><td>0.102</td></tr><tr><td>&quot;AUT&quot;</td><td>&quot;Austria&quot;</td><td>&quot;Europe&quot;</td><td>&quot;Northern Hemis…</td><td>&quot;Very High&quot;</td><td>null</td><td>25</td><td>12</td><td>0.202</td><td>0.204</td><td>0.201</td><td>0.195</td><td>0.18</td><td>0.17</td><td>0.163</td><td>0.155</td><td>0.151</td><td>0.147</td><td>0.149</td><td>0.147</td><td>0.145</td><td>0.131</td><td>0.126</td><td>0.121</td><td>0.119</td><td>0.114</td><td>0.121</td><td>0.113</td><td>0.111</td><td>0.103</td><td>0.098</td><td>0.086</td><td>0.083</td><td>0.084</td><td>0.082</td><td>0.072</td><td>0.061</td><td>0.054</td><td>0.052</td><td>0.053</td><td>0.1745</td><td>0.13</td><td>0.078</td></tr><tr><td>&quot;AZE&quot;</td><td>&quot;Azerbaijan&quot;</td><td>&quot;Asia&quot;</td><td>&quot;Northern Hemis…</td><td>&quot;High&quot;</td><td>&quot;ECA&quot;</td><td>91</td><td>70</td><td>0.334</td><td>0.343</td><td>0.365</td><td>0.377</td><td>0.392</td><td>0.389</td><td>0.387</td><td>0.386</td><td>0.377</td><td>0.368</td><td>0.354</td><td>0.353</td><td>0.35</td><td>0.355</td><td>0.348</td><td>0.349</td><td>0.346</td><td>0.353</td><td>0.352</td><td>0.354</td><td>0.338</td><td>0.339</td><td>0.34</td><td>0.342</td><td>0.345</td><td>0.335</td><td>0.328</td><td>0.311</td><td>0.307</td><td>0.314</td><td>0.301</td><td>0.294</td><td>0.351</td><td>0.346</td><td>0.3165</td></tr><tr><td>&quot;BDI&quot;</td><td>&quot;Burundi&quot;</td><td>&quot;Africa&quot;</td><td>&quot;Southern Hemis…</td><td>&quot;Low&quot;</td><td>&quot;SSA&quot;</td><td>187</td><td>127</td><td>null</td><td>null</td><td>null</td><td>null</td><td>null</td><td>null</td><td>null</td><td>null</td><td>0.623</td><td>0.655</td><td>0.616</td><td>0.612</td><td>0.611</td><td>0.597</td><td>0.593</td><td>0.562</td><td>0.557</td><td>0.552</td><td>0.547</td><td>0.548</td><td>0.54</td><td>0.537</td><td>0.533</td><td>0.528</td><td>0.525</td><td>0.517</td><td>0.514</td><td>0.51</td><td>0.508</td><td>0.507</td><td>0.506</td><td>0.505</td><td>0.655</td><td>0.578</td><td>0.521</td></tr><tr><td>&hellip;</td><td>&hellip;</td><td>&hellip;</td><td>&hellip;</td><td>&hellip;</td><td>&hellip;</td><td>&hellip;</td><td>&hellip;</td><td>&hellip;</td><td>&hellip;</td><td>&hellip;</td><td>&hellip;</td><td>&hellip;</td><td>&hellip;</td><td>&hellip;</td><td>&hellip;</td><td>&hellip;</td><td>&hellip;</td><td>&hellip;</td><td>&hellip;</td><td>&hellip;</td><td>&hellip;</td><td>&hellip;</td><td>&hellip;</td><td>&hellip;</td><td>&hellip;</td><td>&hellip;</td><td>&hellip;</td><td>&hellip;</td><td>&hellip;</td><td>&hellip;</td><td>&hellip;</td><td>&hellip;</td><td>&hellip;</td><td>&hellip;</td><td>&hellip;</td><td>&hellip;</td><td>&hellip;</td><td>&hellip;</td><td>&hellip;</td><td>&hellip;</td><td>&hellip;</td><td>&hellip;</td></tr><tr><td>&quot;URY&quot;</td><td>&quot;Uruguay&quot;</td><td>&quot;America&quot;</td><td>&quot;Southern Hemis…</td><td>&quot;Very High&quot;</td><td>&quot;LAC&quot;</td><td>58</td><td>58</td><td>0.433</td><td>0.443</td><td>0.432</td><td>0.435</td><td>0.434</td><td>0.434</td><td>0.425</td><td>0.42</td><td>0.414</td><td>0.379</td><td>0.381</td><td>0.376</td><td>0.376</td><td>0.365</td><td>0.364</td><td>0.366</td><td>0.359</td><td>0.348</td><td>0.342</td><td>0.334</td><td>0.321</td><td>0.33</td><td>0.329</td><td>0.333</td><td>0.328</td><td>0.297</td><td>0.29</td><td>0.269</td><td>0.258</td><td>0.253</td><td>0.242</td><td>0.235</td><td>0.406</td><td>0.351</td><td>0.2825</td></tr><tr><td>&quot;USA&quot;</td><td>&quot;United States&quot;</td><td>&quot;America&quot;</td><td>&quot;Northern Hemis…</td><td>&quot;Very High&quot;</td><td>null</td><td>21</td><td>44</td><td>0.294</td><td>0.296</td><td>0.295</td><td>0.294</td><td>0.299</td><td>0.295</td><td>0.291</td><td>0.282</td><td>0.28</td><td>0.277</td><td>0.275</td><td>0.271</td><td>0.267</td><td>0.262</td><td>0.258</td><td>0.256</td><td>0.257</td><td>0.257</td><td>0.254</td><td>0.256</td><td>0.248</td><td>0.241</td><td>0.235</td><td>0.229</td><td>0.217</td><td>0.219</td><td>0.216</td><td>0.209</td><td>0.192</td><td>0.189</td><td>0.178</td><td>0.179</td><td>0.2855</td><td>0.2615</td><td>0.21</td></tr><tr><td>&quot;UZB&quot;</td><td>&quot;Uzbekistan&quot;</td><td>&quot;Asia&quot;</td><td>&quot;Northern Hemis…</td><td>&quot;High&quot;</td><td>&quot;ECA&quot;</td><td>101</td><td>56</td><td>null</td><td>null</td><td>null</td><td>null</td><td>null</td><td>null</td><td>null</td><td>null</td><td>null</td><td>null</td><td>0.353</td><td>0.34</td><td>0.325</td><td>0.308</td><td>0.229</td><td>0.233</td><td>0.23</td><td>0.23</td><td>0.239</td><td>0.265</td><td>0.276</td><td>0.291</td><td>0.295</td><td>0.29</td><td>0.289</td><td>0.297</td><td>0.286</td><td>0.278</td><td>0.274</td><td>0.268</td><td>0.229</td><td>0.227</td><td>null</td><td>0.3145</td><td>0.259</td></tr><tr><td>&quot;VCT&quot;</td><td>&quot;Saint Vincent …</td><td>&quot;America&quot;</td><td>&quot;Northern Hemis…</td><td>&quot;High&quot;</td><td>&quot;LAC&quot;</td><td>89</td><td>94</td><td>null</td><td>null</td><td>null</td><td>null</td><td>null</td><td>null</td><td>null</td><td>null</td><td>null</td><td>null</td><td>null</td><td>null</td><td>null</td><td>null</td><td>null</td><td>null</td><td>null</td><td>null</td><td>null</td><td>null</td><td>null</td><td>null</td><td>null</td><td>null</td><td>null</td><td>null</td><td>null</td><td>0.414</td><td>0.411</td><td>0.41</td><td>0.391</td><td>0.39</td><td>null</td><td>null</td><td>0.39</td></tr><tr><td>&quot;VEN&quot;</td><td>&quot;Venezuela&quot;</td><td>&quot;America&quot;</td><td>&quot;Northern Hemis…</td><td>&quot;Medium&quot;</td><td>&quot;LAC&quot;</td><td>120</td><td>123</td><td>0.563</td><td>0.56</td><td>0.559</td><td>0.556</td><td>0.557</td><td>0.553</td><td>0.555</td><td>0.553</td><td>0.551</td><td>0.526</td><td>0.519</td><td>0.527</td><td>0.534</td><td>0.53</td><td>0.522</td><td>0.489</td><td>0.489</td><td>0.486</td><td>0.487</td><td>0.491</td><td>0.493</td><td>0.491</td><td>0.491</td><td>0.488</td><td>0.486</td><td>0.487</td><td>0.499</td><td>0.481</td><td>0.483</td><td>0.492</td><td>0.492</td><td>0.492</td><td>0.5445</td><td>0.506</td><td>0.4915</td></tr><tr><td>&quot;VNM&quot;</td><td>&quot;Viet Nam&quot;</td><td>&quot;Asia&quot;</td><td>&quot;Northern Hemis…</td><td>&quot;High&quot;</td><td>&quot;EAP&quot;</td><td>115</td><td>71</td><td>0.41</td><td>0.409</td><td>0.407</td><td>0.401</td><td>0.392</td><td>0.384</td><td>0.369</td><td>0.358</td><td>0.342</td><td>0.334</td><td>0.328</td><td>0.321</td><td>0.312</td><td>0.304</td><td>0.305</td><td>0.3</td><td>0.299</td><td>0.303</td><td>0.307</td><td>0.312</td><td>0.315</td><td>0.32</td><td>0.319</td><td>0.32</td><td>0.317</td><td>0.316</td><td>0.306</td><td>0.303</td><td>0.304</td><td>0.305</td><td>0.305</td><td>0.296</td><td>0.372</td><td>0.3215</td><td>0.308</td></tr><tr><td>&quot;VUT&quot;</td><td>&quot;Vanuatu&quot;</td><td>&quot;Oceania&quot;</td><td>&quot;Southern Hemis…</td><td>&quot;Medium&quot;</td><td>&quot;EAP&quot;</td><td>140</td><td>null</td><td>null</td><td>null</td><td>null</td><td>null</td><td>null</td><td>null</td><td>null</td><td>null</td><td>null</td><td>null</td><td>null</td><td>null</td><td>null</td><td>null</td><td>null</td><td>null</td><td>null</td><td>null</td><td>null</td><td>null</td><td>null</td><td>null</td><td>null</td><td>null</td><td>null</td><td>null</td><td>null</td><td>null</td><td>null</td><td>null</td><td>null</td><td>null</td><td>null</td><td>null</td><td>null</td></tr><tr><td>&quot;WSM&quot;</td><td>&quot;Samoa&quot;</td><td>&quot;Oceania&quot;</td><td>&quot;Southern Hemis…</td><td>&quot;High&quot;</td><td>&quot;EAP&quot;</td><td>111</td><td>99</td><td>null</td><td>null</td><td>null</td><td>null</td><td>null</td><td>null</td><td>null</td><td>null</td><td>null</td><td>null</td><td>null</td><td>null</td><td>null</td><td>null</td><td>null</td><td>null</td><td>null</td><td>null</td><td>null</td><td>null</td><td>null</td><td>0.479</td><td>0.482</td><td>0.475</td><td>0.447</td><td>0.443</td><td>0.409</td><td>0.407</td><td>0.407</td><td>0.405</td><td>0.404</td><td>0.418</td><td>null</td><td>null</td><td>0.4485</td></tr><tr><td>&quot;YEM&quot;</td><td>&quot;Yemen&quot;</td><td>&quot;Asia&quot;</td><td>&quot;Northern Hemis…</td><td>&quot;Low&quot;</td><td>&quot;AS&quot;</td><td>183</td><td>170</td><td>null</td><td>null</td><td>null</td><td>null</td><td>null</td><td>null</td><td>null</td><td>null</td><td>0.812</td><td>0.807</td><td>0.805</td><td>0.803</td><td>0.802</td><td>0.822</td><td>0.821</td><td>0.799</td><td>0.8</td><td>0.799</td><td>0.798</td><td>0.798</td><td>0.798</td><td>0.799</td><td>0.8</td><td>0.802</td><td>0.806</td><td>0.815</td><td>0.81</td><td>0.808</td><td>0.806</td><td>0.785</td><td>0.784</td><td>0.82</td><td>0.807</td><td>0.8015</td><td>0.8095</td></tr><tr><td>&quot;ZAF&quot;</td><td>&quot;South Africa&quot;</td><td>&quot;Africa&quot;</td><td>&quot;Southern Hemis…</td><td>&quot;High&quot;</td><td>&quot;SSA&quot;</td><td>109</td><td>97</td><td>0.511</td><td>0.502</td><td>0.496</td><td>0.489</td><td>0.482</td><td>0.476</td><td>0.472</td><td>0.468</td><td>0.461</td><td>0.459</td><td>0.459</td><td>0.461</td><td>0.459</td><td>0.463</td><td>0.459</td><td>0.454</td><td>0.456</td><td>0.452</td><td>0.463</td><td>0.443</td><td>0.44</td><td>0.441</td><td>0.432</td><td>0.431</td><td>0.433</td><td>0.427</td><td>0.418</td><td>0.407</td><td>0.405</td><td>0.41</td><td>0.408</td><td>0.405</td><td>0.485</td><td>0.4495</td><td>0.423</td></tr><tr><td>&quot;ZMB&quot;</td><td>&quot;Zambia&quot;</td><td>&quot;Africa&quot;</td><td>&quot;Southern Hemis…</td><td>&quot;Medium&quot;</td><td>&quot;SSA&quot;</td><td>154</td><td>138</td><td>0.666</td><td>0.66</td><td>0.654</td><td>0.651</td><td>0.647</td><td>0.642</td><td>0.645</td><td>0.646</td><td>0.646</td><td>0.648</td><td>0.648</td><td>0.642</td><td>0.629</td><td>0.626</td><td>0.623</td><td>0.617</td><td>0.606</td><td>0.6</td><td>0.594</td><td>0.592</td><td>0.586</td><td>0.59</td><td>0.585</td><td>0.581</td><td>0.579</td><td>0.567</td><td>0.545</td><td>0.54</td><td>0.537</td><td>0.534</td><td>0.535</td><td>0.54</td><td>0.657</td><td>0.617</td><td>0.565</td></tr><tr><td>&quot;ZWE&quot;</td><td>&quot;Zimbabwe&quot;</td><td>&quot;Africa&quot;</td><td>&quot;Southern Hemis…</td><td>&quot;Medium&quot;</td><td>&quot;SSA&quot;</td><td>146</td><td>134</td><td>0.605</td><td>0.602</td><td>0.598</td><td>0.596</td><td>0.595</td><td>0.594</td><td>0.593</td><td>0.594</td><td>0.596</td><td>0.602</td><td>0.625</td><td>0.626</td><td>0.628</td><td>0.629</td><td>0.628</td><td>0.595</td><td>0.59</td><td>0.588</td><td>0.597</td><td>0.596</td><td>0.592</td><td>0.587</td><td>0.583</td><td>0.547</td><td>0.545</td><td>0.54</td><td>0.537</td><td>0.532</td><td>0.535</td><td>0.533</td><td>0.533</td><td>0.532</td><td>0.6035</td><td>0.6085</td><td>0.5595</td></tr></tbody></table></div>"
      ],
      "text/plain": [
       "shape: (195, 43)\n",
       "┌──────┬────────────┬───────────┬────────────┬───┬────────────┬────────────┬───────────┬───────────┐\n",
       "│ ISO3 ┆ Country    ┆ Continent ┆ Hemisphere ┆ … ┆ Gender     ┆ Gender     ┆ Gender    ┆ Gender    │\n",
       "│ ---  ┆ ---        ┆ ---       ┆ ---        ┆   ┆ Inequality ┆ Inequality ┆ Inequalit ┆ Inequalit │\n",
       "│ str  ┆ str        ┆ str       ┆ str        ┆   ┆ Index      ┆ Index      ┆ y Index   ┆ y Index   │\n",
       "│      ┆            ┆           ┆            ┆   ┆ (2021)     ┆ Average …  ┆ Average … ┆ Average … │\n",
       "│      ┆            ┆           ┆            ┆   ┆ ---        ┆ ---        ┆ ---       ┆ ---       │\n",
       "│      ┆            ┆           ┆            ┆   ┆ f64        ┆ f64        ┆ f64       ┆ f64       │\n",
       "╞══════╪════════════╪═══════════╪════════════╪═══╪════════════╪════════════╪═══════════╪═══════════╡\n",
       "│ AFG  ┆ Afghanista ┆ Asia      ┆ Northern   ┆ … ┆ 0.678      ┆ null       ┆ 0.753     ┆ 0.712     │\n",
       "│      ┆ n          ┆           ┆ Hemisphere ┆   ┆            ┆            ┆           ┆           │\n",
       "│ AGO  ┆ Angola     ┆ Africa    ┆ Southern   ┆ … ┆ 0.537      ┆ 0.7015     ┆ 0.611     ┆ 0.5405    │\n",
       "│      ┆            ┆           ┆ Hemisphere ┆   ┆            ┆            ┆           ┆           │\n",
       "│ ALB  ┆ Albania    ┆ Europe    ┆ Northern   ┆ … ┆ 0.144      ┆ 0.33       ┆ 0.2825    ┆ 0.198     │\n",
       "│      ┆            ┆           ┆ Hemisphere ┆   ┆            ┆            ┆           ┆           │\n",
       "│ AND  ┆ Andorra    ┆ Europe    ┆ Northern   ┆ … ┆ null       ┆ null       ┆ null      ┆ null      │\n",
       "│      ┆            ┆           ┆ Hemisphere ┆   ┆            ┆            ┆           ┆           │\n",
       "│ …    ┆ …          ┆ …         ┆ …          ┆ … ┆ …          ┆ …          ┆ …         ┆ …         │\n",
       "│ YEM  ┆ Yemen      ┆ Asia      ┆ Northern   ┆ … ┆ 0.82       ┆ 0.807      ┆ 0.8015    ┆ 0.8095    │\n",
       "│      ┆            ┆           ┆ Hemisphere ┆   ┆            ┆            ┆           ┆           │\n",
       "│ ZAF  ┆ South      ┆ Africa    ┆ Southern   ┆ … ┆ 0.405      ┆ 0.485      ┆ 0.4495    ┆ 0.423     │\n",
       "│      ┆ Africa     ┆           ┆ Hemisphere ┆   ┆            ┆            ┆           ┆           │\n",
       "│ ZMB  ┆ Zambia     ┆ Africa    ┆ Southern   ┆ … ┆ 0.54       ┆ 0.657      ┆ 0.617     ┆ 0.565     │\n",
       "│      ┆            ┆           ┆ Hemisphere ┆   ┆            ┆            ┆           ┆           │\n",
       "│ ZWE  ┆ Zimbabwe   ┆ Africa    ┆ Southern   ┆ … ┆ 0.532      ┆ 0.6035     ┆ 0.6085    ┆ 0.5595    │\n",
       "│      ┆            ┆           ┆ Hemisphere ┆   ┆            ┆            ┆           ┆           │\n",
       "└──────┴────────────┴───────────┴────────────┴───┴────────────┴────────────┴───────────┴───────────┘"
      ]
     },
     "execution_count": 30,
     "metadata": {},
     "output_type": "execute_result"
    }
   ],
   "source": [
    "\n",
    "Decade_Index=GenderInequal_df.with_columns(\n",
    "    pl.Series(name='Gender Inequality Index Average (1990-1999)', values=geindex90_mean),\n",
    "    pl.Series(name='Gender Inequality Index Average (2000-2010)', values=geindex00_mean),\n",
    "    pl.Series(name='Gender Inequality Index Average (2011-2021)', values=geindex21_mean)\n",
    ")\n",
    "Decade_Index"
   ]
  }
 ],
 "metadata": {
  "kernelspec": {
   "display_name": "dev",
   "language": "python",
   "name": "python3"
  },
  "language_info": {
   "codemirror_mode": {
    "name": "ipython",
    "version": 3
   },
   "file_extension": ".py",
   "mimetype": "text/x-python",
   "name": "python",
   "nbconvert_exporter": "python",
   "pygments_lexer": "ipython3",
   "version": "3.11.5"
  }
 },
 "nbformat": 4,
 "nbformat_minor": 2
}
