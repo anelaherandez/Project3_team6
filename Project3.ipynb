{
 "cells": [
  {
   "cell_type": "code",
   "execution_count": 1,
   "metadata": {},
   "outputs": [
    {
     "name": "stdout",
     "output_type": "stream",
     "text": [
      "Requirement already satisfied: polars in c:\\users\\james\\anaconda\\envs\\dev\\lib\\site-packages (0.20.3)\n",
      "Note: you may need to restart the kernel to use updated packages.\n"
     ]
    }
   ],
   "source": [
    "pip install polars\n"
   ]
  },
  {
   "cell_type": "code",
   "execution_count": 2,
   "metadata": {},
   "outputs": [],
   "source": [
    "import polars as pl"
   ]
  },
  {
   "cell_type": "code",
   "execution_count": 3,
   "metadata": {},
   "outputs": [
    {
     "data": {
      "text/html": [
       "<div><style>\n",
       ".dataframe > thead > tr,\n",
       ".dataframe > tbody > tr {\n",
       "  text-align: right;\n",
       "  white-space: pre-wrap;\n",
       "}\n",
       "</style>\n",
       "<small>shape: (191, 8)</small><table border=\"1\" class=\"dataframe\"><thead><tr><th>HDI rank</th><th>Country</th><th>Human Development Index (HDI Value) </th><th>Life expectancy at birth (years)</th><th>Expected years of schooling (years)</th><th>Mean years of schooling (years)</th><th>Gross national income (GNI) per capita (2017 PPP $)</th><th>GNI per capita rank minus HDI rank</th></tr><tr><td>i64</td><td>str</td><td>f64</td><td>f64</td><td>f64</td><td>f64</td><td>str</td><td>i64</td></tr></thead><tbody><tr><td>1</td><td>&quot;Switzerland&quot;</td><td>0.962</td><td>84.0</td><td>16.5</td><td>13.9</td><td>&quot;66,933&quot;</td><td>5</td></tr><tr><td>2</td><td>&quot;Norway&quot;</td><td>0.961</td><td>83.2</td><td>18.2</td><td>13.0</td><td>&quot;64,660&quot;</td><td>6</td></tr><tr><td>3</td><td>&quot;Iceland&quot;</td><td>0.959</td><td>82.7</td><td>19.2</td><td>13.8</td><td>&quot;55,782&quot;</td><td>11</td></tr><tr><td>4</td><td>&quot;Hong Kong, Chi…</td><td>0.952</td><td>85.5</td><td>17.3</td><td>12.2</td><td>&quot;62,607&quot;</td><td>6</td></tr><tr><td>5</td><td>&quot;Australia&quot;</td><td>0.951</td><td>84.5</td><td>21.1</td><td>12.7</td><td>&quot;49,238&quot;</td><td>18</td></tr><tr><td>6</td><td>&quot;Denmark&quot;</td><td>0.948</td><td>81.4</td><td>18.7</td><td>13.0</td><td>&quot;60,365&quot;</td><td>6</td></tr><tr><td>7</td><td>&quot;Sweden&quot;</td><td>0.947</td><td>83.0</td><td>19.4</td><td>12.6</td><td>&quot;54,489&quot;</td><td>9</td></tr><tr><td>8</td><td>&quot;Ireland&quot;</td><td>0.945</td><td>82.0</td><td>18.9</td><td>11.6</td><td>&quot;76,169&quot;</td><td>-3</td></tr><tr><td>9</td><td>&quot;Germany&quot;</td><td>0.942</td><td>80.6</td><td>17.0</td><td>14.1</td><td>&quot;54,534&quot;</td><td>6</td></tr><tr><td>10</td><td>&quot;Netherlands&quot;</td><td>0.941</td><td>81.7</td><td>18.7</td><td>12.6</td><td>&quot;55,979&quot;</td><td>3</td></tr><tr><td>11</td><td>&quot;Finland&quot;</td><td>0.94</td><td>82.0</td><td>19.1</td><td>12.9</td><td>&quot;49,452&quot;</td><td>11</td></tr><tr><td>12</td><td>&quot;Singapore&quot;</td><td>0.939</td><td>82.8</td><td>16.5</td><td>11.9</td><td>&quot;90,919&quot;</td><td>-10</td></tr><tr><td>&hellip;</td><td>&hellip;</td><td>&hellip;</td><td>&hellip;</td><td>&hellip;</td><td>&hellip;</td><td>&hellip;</td><td>&hellip;</td></tr><tr><td>180</td><td>&quot;Afghanistan&quot;</td><td>0.478</td><td>62.0</td><td>10.3</td><td>3.0</td><td>&quot;1,824&quot;</td><td>-2</td></tr><tr><td>181</td><td>&quot;Sierra Leone&quot;</td><td>0.477</td><td>60.1</td><td>9.6</td><td>4.6</td><td>&quot;1,622&quot;</td><td>-1</td></tr><tr><td>182</td><td>&quot;Guinea&quot;</td><td>0.465</td><td>58.9</td><td>9.8</td><td>2.2</td><td>&quot;2,481&quot;</td><td>-13</td></tr><tr><td>183</td><td>&quot;Yemen&quot;</td><td>0.455</td><td>63.8</td><td>9.1</td><td>3.2</td><td>&quot;1,314&quot;</td><td>1</td></tr><tr><td>184</td><td>&quot;Burkina Faso&quot;</td><td>0.449</td><td>59.3</td><td>9.1</td><td>2.1</td><td>&quot;2,118&quot;</td><td>-8</td></tr><tr><td>185</td><td>&quot;Mozambique&quot;</td><td>0.446</td><td>59.3</td><td>10.2</td><td>3.2</td><td>&quot;1,198&quot;</td><td>2</td></tr><tr><td>186</td><td>&quot;Mali&quot;</td><td>0.428</td><td>58.9</td><td>7.4</td><td>2.3</td><td>&quot;2,133&quot;</td><td>-11</td></tr><tr><td>187</td><td>&quot;Burundi&quot;</td><td>0.426</td><td>61.7</td><td>10.7</td><td>3.1</td><td>&quot;732&quot;</td><td>4</td></tr><tr><td>188</td><td>&quot;Central Africa…</td><td>0.404</td><td>53.9</td><td>8.0</td><td>4.3</td><td>&quot;966&quot;</td><td>1</td></tr><tr><td>189</td><td>&quot;Niger&quot;</td><td>0.4</td><td>61.6</td><td>7.0</td><td>2.1</td><td>&quot;1,240&quot;</td><td>-3</td></tr><tr><td>190</td><td>&quot;Chad&quot;</td><td>0.394</td><td>52.5</td><td>8.0</td><td>2.6</td><td>&quot;1,364&quot;</td><td>-7</td></tr><tr><td>191</td><td>&quot;South Sudan&quot;</td><td>0.385</td><td>55.0</td><td>5.5</td><td>5.7</td><td>&quot;768&quot;</td><td>-1</td></tr></tbody></table></div>"
      ],
      "text/plain": [
       "shape: (191, 8)\n",
       "┌──────────┬────────────┬────────────┬────────────┬────────────┬───────────┬───────────┬───────────┐\n",
       "│ HDI rank ┆ Country    ┆ Human Deve ┆ Life       ┆ Expected   ┆ Mean      ┆ Gross     ┆ GNI per   │\n",
       "│ ---      ┆ ---        ┆ lopment    ┆ expectancy ┆ years of   ┆ years of  ┆ national  ┆ capita    │\n",
       "│ i64      ┆ str        ┆ Index (HDI ┆ at birth   ┆ schooling  ┆ schooling ┆ income    ┆ rank      │\n",
       "│          ┆            ┆ Val…       ┆ (years)    ┆ (yea…      ┆ (years)   ┆ (GNI) per ┆ minus HDI │\n",
       "│          ┆            ┆ ---        ┆ ---        ┆ ---        ┆ ---       ┆ …         ┆ ra…       │\n",
       "│          ┆            ┆ f64        ┆ f64        ┆ f64        ┆ f64       ┆ ---       ┆ ---       │\n",
       "│          ┆            ┆            ┆            ┆            ┆           ┆ str       ┆ i64       │\n",
       "╞══════════╪════════════╪════════════╪════════════╪════════════╪═══════════╪═══════════╪═══════════╡\n",
       "│ 1        ┆ Switzerlan ┆ 0.962      ┆ 84.0       ┆ 16.5       ┆ 13.9      ┆ 66,933    ┆ 5         │\n",
       "│          ┆ d          ┆            ┆            ┆            ┆           ┆           ┆           │\n",
       "│ 2        ┆ Norway     ┆ 0.961      ┆ 83.2       ┆ 18.2       ┆ 13.0      ┆ 64,660    ┆ 6         │\n",
       "│ 3        ┆ Iceland    ┆ 0.959      ┆ 82.7       ┆ 19.2       ┆ 13.8      ┆ 55,782    ┆ 11        │\n",
       "│ 4        ┆ Hong Kong, ┆ 0.952      ┆ 85.5       ┆ 17.3       ┆ 12.2      ┆ 62,607    ┆ 6         │\n",
       "│          ┆ China      ┆            ┆            ┆            ┆           ┆           ┆           │\n",
       "│          ┆ (SAR)      ┆            ┆            ┆            ┆           ┆           ┆           │\n",
       "│ …        ┆ …          ┆ …          ┆ …          ┆ …          ┆ …         ┆ …         ┆ …         │\n",
       "│ 188      ┆ Central    ┆ 0.404      ┆ 53.9       ┆ 8.0        ┆ 4.3       ┆ 966       ┆ 1         │\n",
       "│          ┆ African    ┆            ┆            ┆            ┆           ┆           ┆           │\n",
       "│          ┆ Republic   ┆            ┆            ┆            ┆           ┆           ┆           │\n",
       "│ 189      ┆ Niger      ┆ 0.4        ┆ 61.6       ┆ 7.0        ┆ 2.1       ┆ 1,240     ┆ -3        │\n",
       "│ 190      ┆ Chad       ┆ 0.394      ┆ 52.5       ┆ 8.0        ┆ 2.6       ┆ 1,364     ┆ -7        │\n",
       "│ 191      ┆ South      ┆ 0.385      ┆ 55.0       ┆ 5.5        ┆ 5.7       ┆ 768       ┆ -1        │\n",
       "│          ┆ Sudan      ┆            ┆            ┆            ┆           ┆           ┆           │\n",
       "└──────────┴────────────┴────────────┴────────────┴────────────┴───────────┴───────────┴───────────┘"
      ]
     },
     "execution_count": 3,
     "metadata": {},
     "output_type": "execute_result"
    }
   ],
   "source": [
    "HDI_df=pl.read_csv('HDI Rank2021.csv')\n",
    "HDI_df"
   ]
  },
  {
   "cell_type": "code",
   "execution_count": 48,
   "metadata": {},
   "outputs": [],
   "source": [
    "# HDI_df['Gross national income (GNI) per capita (2017 PPP $) ']=HDI_df['Gross national income (GNI) per capita (2017 PPP $) '].cast(pl.Float64)"
   ]
  },
  {
   "cell_type": "code",
   "execution_count": 64,
   "metadata": {},
   "outputs": [
    {
     "data": {
      "text/html": [
       "<div><style>\n",
       ".dataframe > thead > tr,\n",
       ".dataframe > tbody > tr {\n",
       "  text-align: right;\n",
       "  white-space: pre-wrap;\n",
       "}\n",
       "</style>\n",
       "<small>shape: (195, 39)</small><table border=\"1\" class=\"dataframe\"><thead><tr><th>ISO3</th><th>Country</th><th>Continent</th><th>Hemisphere</th><th>Human Development Groups</th><th>UNDP Developeing Regions</th><th>HDI Rank (2021)</th><th>Maternal Mortality Ratio (deaths per 100,000 live births) (1990)</th><th>Maternal Mortality Ratio (deaths per 100,000 live births) (1991)</th><th>Maternal Mortality Ratio (deaths per 100,000 live births) (1992)</th><th>Maternal Mortality Ratio (deaths per 100,000 live births) (1993)</th><th>Maternal Mortality Ratio (deaths per 100,000 live births) (1994)</th><th>Maternal Mortality Ratio (deaths per 100,000 live births) (1995)</th><th>Maternal Mortality Ratio (deaths per 100,000 live births) (1996)</th><th>Maternal Mortality Ratio (deaths per 100,000 live births) (1997)</th><th>Maternal Mortality Ratio (deaths per 100,000 live births) (1998)</th><th>Maternal Mortality Ratio (deaths per 100,000 live births) (1999)</th><th>Maternal Mortality Ratio (deaths per 100,000 live births) (2000)</th><th>Maternal Mortality Ratio (deaths per 100,000 live births) (2001)</th><th>Maternal Mortality Ratio (deaths per 100,000 live births) (2002)</th><th>Maternal Mortality Ratio (deaths per 100,000 live births) (2003)</th><th>Maternal Mortality Ratio (deaths per 100,000 live births) (2004)</th><th>Maternal Mortality Ratio (deaths per 100,000 live births) (2005)</th><th>Maternal Mortality Ratio (deaths per 100,000 live births) (2006)</th><th>Maternal Mortality Ratio (deaths per 100,000 live births) (2007)</th><th>Maternal Mortality Ratio (deaths per 100,000 live births) (2008)</th><th>Maternal Mortality Ratio (deaths per 100,000 live births) (2009)</th><th>Maternal Mortality Ratio (deaths per 100,000 live births) (2010)</th><th>Maternal Mortality Ratio (deaths per 100,000 live births) (2011)</th><th>Maternal Mortality Ratio (deaths per 100,000 live births) (2012)</th><th>Maternal Mortality Ratio (deaths per 100,000 live births) (2013)</th><th>Maternal Mortality Ratio (deaths per 100,000 live births) (2014)</th><th>Maternal Mortality Ratio (deaths per 100,000 live births) (2015)</th><th>Maternal Mortality Ratio (deaths per 100,000 live births) (2016)</th><th>Maternal Mortality Ratio (deaths per 100,000 live births) (2017)</th><th>Maternal Mortality Ratio (deaths per 100,000 live births) (2018)</th><th>Maternal Mortality Ratio (deaths per 100,000 live births) (2019)</th><th>Maternal Mortality Ratio (deaths per 100,000 live births) (2020)</th><th>Maternal Mortality Ratio (deaths per 100,000 live births) (2021)</th></tr><tr><td>str</td><td>str</td><td>str</td><td>str</td><td>str</td><td>str</td><td>i64</td><td>i64</td><td>i64</td><td>i64</td><td>i64</td><td>i64</td><td>i64</td><td>i64</td><td>i64</td><td>i64</td><td>i64</td><td>i64</td><td>i64</td><td>i64</td><td>i64</td><td>i64</td><td>i64</td><td>i64</td><td>i64</td><td>i64</td><td>i64</td><td>i64</td><td>i64</td><td>i64</td><td>i64</td><td>i64</td><td>i64</td><td>i64</td><td>i64</td><td>i64</td><td>i64</td><td>i64</td><td>i64</td></tr></thead><tbody><tr><td>&quot;AFG&quot;</td><td>&quot;Afghanistan&quot;</td><td>&quot;Asia&quot;</td><td>&quot;Northern Hemis…</td><td>&quot;Low&quot;</td><td>&quot;SA&quot;</td><td>180</td><td>1500</td><td>1530</td><td>1520</td><td>1480</td><td>1540</td><td>1490</td><td>1440</td><td>1470</td><td>1410</td><td>1470</td><td>1450</td><td>1390</td><td>1300</td><td>1240</td><td>1180</td><td>1140</td><td>1120</td><td>1090</td><td>1030</td><td>993</td><td>954</td><td>905</td><td>858</td><td>810</td><td>786</td><td>701</td><td>673</td><td>638</td><td>638</td><td>638</td><td>638</td><td>638</td></tr><tr><td>&quot;AGO&quot;</td><td>&quot;Angola&quot;</td><td>&quot;Africa&quot;</td><td>&quot;Southern Hemis…</td><td>&quot;Medium&quot;</td><td>&quot;SSA&quot;</td><td>148</td><td>1150</td><td>1100</td><td>1130</td><td>1110</td><td>1130</td><td>1060</td><td>1020</td><td>985</td><td>953</td><td>909</td><td>827</td><td>766</td><td>690</td><td>628</td><td>574</td><td>519</td><td>473</td><td>431</td><td>395</td><td>359</td><td>326</td><td>300</td><td>281</td><td>269</td><td>258</td><td>251</td><td>246</td><td>241</td><td>241</td><td>241</td><td>241</td><td>241</td></tr><tr><td>&quot;ALB&quot;</td><td>&quot;Albania&quot;</td><td>&quot;Europe&quot;</td><td>&quot;Northern Hemis…</td><td>&quot;High&quot;</td><td>&quot;ECA&quot;</td><td>67</td><td>40</td><td>47</td><td>49</td><td>47</td><td>39</td><td>38</td><td>32</td><td>30</td><td>27</td><td>25</td><td>23</td><td>23</td><td>21</td><td>21</td><td>18</td><td>22</td><td>18</td><td>19</td><td>20</td><td>20</td><td>21</td><td>22</td><td>17</td><td>16</td><td>16</td><td>15</td><td>16</td><td>15</td><td>15</td><td>15</td><td>15</td><td>15</td></tr><tr><td>&quot;AND&quot;</td><td>&quot;Andorra&quot;</td><td>&quot;Europe&quot;</td><td>&quot;Northern Hemis…</td><td>&quot;Very High&quot;</td><td>null</td><td>40</td><td>null</td><td>null</td><td>null</td><td>null</td><td>null</td><td>null</td><td>null</td><td>null</td><td>null</td><td>null</td><td>null</td><td>null</td><td>null</td><td>null</td><td>null</td><td>null</td><td>null</td><td>null</td><td>null</td><td>null</td><td>null</td><td>null</td><td>null</td><td>null</td><td>null</td><td>null</td><td>null</td><td>null</td><td>null</td><td>null</td><td>null</td><td>null</td></tr><tr><td>&quot;ARE&quot;</td><td>&quot;United Arab Em…</td><td>&quot;Asia&quot;</td><td>&quot;Northern Hemis…</td><td>&quot;Very High&quot;</td><td>&quot;AS&quot;</td><td>26</td><td>13</td><td>12</td><td>11</td><td>10</td><td>10</td><td>9</td><td>8</td><td>8</td><td>7</td><td>7</td><td>6</td><td>6</td><td>5</td><td>5</td><td>5</td><td>5</td><td>4</td><td>4</td><td>4</td><td>4</td><td>4</td><td>4</td><td>4</td><td>3</td><td>3</td><td>3</td><td>3</td><td>3</td><td>3</td><td>3</td><td>3</td><td>3</td></tr><tr><td>&quot;ARG&quot;</td><td>&quot;Argentina&quot;</td><td>&quot;America&quot;</td><td>&quot;Southern Hemis…</td><td>&quot;Very High&quot;</td><td>&quot;LAC&quot;</td><td>47</td><td>84</td><td>82</td><td>80</td><td>76</td><td>75</td><td>72</td><td>71</td><td>71</td><td>69</td><td>70</td><td>66</td><td>67</td><td>65</td><td>65</td><td>61</td><td>59</td><td>57</td><td>56</td><td>53</td><td>56</td><td>51</td><td>48</td><td>47</td><td>44</td><td>42</td><td>41</td><td>40</td><td>39</td><td>39</td><td>39</td><td>39</td><td>39</td></tr><tr><td>&quot;ARM&quot;</td><td>&quot;Armenia&quot;</td><td>&quot;Asia&quot;</td><td>&quot;Northern Hemis…</td><td>&quot;High&quot;</td><td>&quot;ECA&quot;</td><td>85</td><td>52</td><td>47</td><td>56</td><td>60</td><td>54</td><td>54</td><td>55</td><td>50</td><td>50</td><td>43</td><td>43</td><td>42</td><td>39</td><td>38</td><td>36</td><td>35</td><td>36</td><td>32</td><td>36</td><td>32</td><td>32</td><td>30</td><td>30</td><td>26</td><td>27</td><td>28</td><td>26</td><td>26</td><td>26</td><td>26</td><td>26</td><td>26</td></tr><tr><td>&quot;ATG&quot;</td><td>&quot;Antigua and Ba…</td><td>&quot;America&quot;</td><td>&quot;Northern Hemis…</td><td>&quot;High&quot;</td><td>&quot;LAC&quot;</td><td>71</td><td>54</td><td>54</td><td>55</td><td>52</td><td>52</td><td>51</td><td>51</td><td>52</td><td>50</td><td>49</td><td>44</td><td>44</td><td>43</td><td>44</td><td>41</td><td>40</td><td>46</td><td>48</td><td>50</td><td>45</td><td>44</td><td>43</td><td>44</td><td>43</td><td>42</td><td>43</td><td>43</td><td>42</td><td>42</td><td>42</td><td>42</td><td>42</td></tr><tr><td>&quot;AUS&quot;</td><td>&quot;Australia&quot;</td><td>&quot;Oceania&quot;</td><td>&quot;Southern Hemis…</td><td>&quot;Very High&quot;</td><td>null</td><td>5</td><td>8</td><td>9</td><td>8</td><td>8</td><td>8</td><td>8</td><td>8</td><td>8</td><td>7</td><td>7</td><td>7</td><td>6</td><td>6</td><td>6</td><td>5</td><td>5</td><td>5</td><td>5</td><td>5</td><td>5</td><td>5</td><td>6</td><td>6</td><td>6</td><td>6</td><td>6</td><td>6</td><td>6</td><td>6</td><td>6</td><td>6</td><td>6</td></tr><tr><td>&quot;AUT&quot;</td><td>&quot;Austria&quot;</td><td>&quot;Europe&quot;</td><td>&quot;Northern Hemis…</td><td>&quot;Very High&quot;</td><td>null</td><td>25</td><td>8</td><td>8</td><td>8</td><td>8</td><td>8</td><td>7</td><td>7</td><td>6</td><td>6</td><td>6</td><td>6</td><td>6</td><td>6</td><td>6</td><td>5</td><td>6</td><td>5</td><td>5</td><td>5</td><td>5</td><td>5</td><td>5</td><td>5</td><td>5</td><td>5</td><td>5</td><td>5</td><td>5</td><td>5</td><td>5</td><td>5</td><td>5</td></tr><tr><td>&quot;AZE&quot;</td><td>&quot;Azerbaijan&quot;</td><td>&quot;Asia&quot;</td><td>&quot;Northern Hemis…</td><td>&quot;High&quot;</td><td>&quot;ECA&quot;</td><td>91</td><td>37</td><td>39</td><td>46</td><td>50</td><td>57</td><td>57</td><td>55</td><td>54</td><td>52</td><td>49</td><td>47</td><td>44</td><td>43</td><td>44</td><td>39</td><td>42</td><td>35</td><td>34</td><td>32</td><td>32</td><td>31</td><td>30</td><td>29</td><td>28</td><td>28</td><td>27</td><td>26</td><td>26</td><td>26</td><td>26</td><td>26</td><td>26</td></tr><tr><td>&quot;BDI&quot;</td><td>&quot;Burundi&quot;</td><td>&quot;Africa&quot;</td><td>&quot;Southern Hemis…</td><td>&quot;Low&quot;</td><td>&quot;SSA&quot;</td><td>187</td><td>1290</td><td>1340</td><td>1360</td><td>1360</td><td>1340</td><td>1280</td><td>1220</td><td>1130</td><td>1090</td><td>1030</td><td>1010</td><td>956</td><td>925</td><td>890</td><td>844</td><td>814</td><td>785</td><td>756</td><td>733</td><td>698</td><td>665</td><td>635</td><td>608</td><td>591</td><td>576</td><td>568</td><td>558</td><td>548</td><td>548</td><td>548</td><td>548</td><td>548</td></tr><tr><td>&hellip;</td><td>&hellip;</td><td>&hellip;</td><td>&hellip;</td><td>&hellip;</td><td>&hellip;</td><td>&hellip;</td><td>&hellip;</td><td>&hellip;</td><td>&hellip;</td><td>&hellip;</td><td>&hellip;</td><td>&hellip;</td><td>&hellip;</td><td>&hellip;</td><td>&hellip;</td><td>&hellip;</td><td>&hellip;</td><td>&hellip;</td><td>&hellip;</td><td>&hellip;</td><td>&hellip;</td><td>&hellip;</td><td>&hellip;</td><td>&hellip;</td><td>&hellip;</td><td>&hellip;</td><td>&hellip;</td><td>&hellip;</td><td>&hellip;</td><td>&hellip;</td><td>&hellip;</td><td>&hellip;</td><td>&hellip;</td><td>&hellip;</td><td>&hellip;</td><td>&hellip;</td><td>&hellip;</td><td>&hellip;</td></tr><tr><td>&quot;URY&quot;</td><td>&quot;Uruguay&quot;</td><td>&quot;America&quot;</td><td>&quot;Southern Hemis…</td><td>&quot;Very High&quot;</td><td>&quot;LAC&quot;</td><td>58</td><td>38</td><td>42</td><td>36</td><td>36</td><td>34</td><td>33</td><td>30</td><td>29</td><td>28</td><td>25</td><td>26</td><td>25</td><td>25</td><td>23</td><td>23</td><td>22</td><td>20</td><td>20</td><td>19</td><td>19</td><td>17</td><td>17</td><td>17</td><td>18</td><td>17</td><td>18</td><td>18</td><td>17</td><td>17</td><td>17</td><td>17</td><td>17</td></tr><tr><td>&quot;USA&quot;</td><td>&quot;United States&quot;</td><td>&quot;America&quot;</td><td>&quot;Northern Hemis…</td><td>&quot;Very High&quot;</td><td>null</td><td>21</td><td>11</td><td>11</td><td>11</td><td>11</td><td>12</td><td>12</td><td>12</td><td>11</td><td>11</td><td>12</td><td>12</td><td>13</td><td>13</td><td>13</td><td>13</td><td>13</td><td>14</td><td>14</td><td>14</td><td>15</td><td>15</td><td>15</td><td>16</td><td>16</td><td>16</td><td>18</td><td>19</td><td>19</td><td>19</td><td>19</td><td>19</td><td>19</td></tr><tr><td>&quot;UZB&quot;</td><td>&quot;Uzbekistan&quot;</td><td>&quot;Asia&quot;</td><td>&quot;Northern Hemis…</td><td>&quot;High&quot;</td><td>&quot;ECA&quot;</td><td>101</td><td>52</td><td>51</td><td>50</td><td>52</td><td>53</td><td>51</td><td>50</td><td>47</td><td>46</td><td>41</td><td>41</td><td>41</td><td>41</td><td>39</td><td>37</td><td>38</td><td>37</td><td>35</td><td>34</td><td>32</td><td>31</td><td>32</td><td>32</td><td>31</td><td>30</td><td>30</td><td>29</td><td>29</td><td>29</td><td>29</td><td>29</td><td>29</td></tr><tr><td>&quot;VCT&quot;</td><td>&quot;Saint Vincent …</td><td>&quot;America&quot;</td><td>&quot;Northern Hemis…</td><td>&quot;High&quot;</td><td>&quot;LAC&quot;</td><td>89</td><td>82</td><td>78</td><td>79</td><td>77</td><td>83</td><td>88</td><td>90</td><td>87</td><td>84</td><td>81</td><td>80</td><td>75</td><td>72</td><td>69</td><td>64</td><td>59</td><td>62</td><td>67</td><td>70</td><td>67</td><td>63</td><td>64</td><td>71</td><td>73</td><td>69</td><td>64</td><td>67</td><td>68</td><td>68</td><td>68</td><td>68</td><td>68</td></tr><tr><td>&quot;VEN&quot;</td><td>&quot;Venezuela&quot;</td><td>&quot;America&quot;</td><td>&quot;Northern Hemis…</td><td>&quot;Medium&quot;</td><td>&quot;LAC&quot;</td><td>120</td><td>131</td><td>129</td><td>130</td><td>127</td><td>130</td><td>125</td><td>129</td><td>127</td><td>122</td><td>127</td><td>119</td><td>123</td><td>135</td><td>127</td><td>119</td><td>113</td><td>114</td><td>114</td><td>116</td><td>119</td><td>117</td><td>116</td><td>116</td><td>115</td><td>113</td><td>115</td><td>121</td><td>125</td><td>125</td><td>125</td><td>125</td><td>125</td></tr><tr><td>&quot;VNM&quot;</td><td>&quot;Viet Nam&quot;</td><td>&quot;Asia&quot;</td><td>&quot;Northern Hemis…</td><td>&quot;High&quot;</td><td>&quot;EAP&quot;</td><td>115</td><td>116</td><td>110</td><td>104</td><td>99</td><td>93</td><td>88</td><td>83</td><td>80</td><td>74</td><td>71</td><td>68</td><td>65</td><td>62</td><td>59</td><td>57</td><td>54</td><td>51</td><td>49</td><td>49</td><td>48</td><td>47</td><td>47</td><td>46</td><td>46</td><td>45</td><td>45</td><td>44</td><td>43</td><td>43</td><td>43</td><td>43</td><td>43</td></tr><tr><td>&quot;VUT&quot;</td><td>&quot;Vanuatu&quot;</td><td>&quot;Oceania&quot;</td><td>&quot;Southern Hemis…</td><td>&quot;Medium&quot;</td><td>&quot;EAP&quot;</td><td>140</td><td>224</td><td>214</td><td>205</td><td>197</td><td>186</td><td>178</td><td>169</td><td>166</td><td>154</td><td>157</td><td>140</td><td>135</td><td>128</td><td>123</td><td>119</td><td>113</td><td>108</td><td>103</td><td>99</td><td>96</td><td>92</td><td>88</td><td>85</td><td>82</td><td>80</td><td>76</td><td>74</td><td>72</td><td>72</td><td>72</td><td>72</td><td>72</td></tr><tr><td>&quot;WSM&quot;</td><td>&quot;Samoa&quot;</td><td>&quot;Oceania&quot;</td><td>&quot;Southern Hemis…</td><td>&quot;High&quot;</td><td>&quot;EAP&quot;</td><td>111</td><td>144</td><td>137</td><td>127</td><td>121</td><td>114</td><td>109</td><td>103</td><td>99</td><td>95</td><td>91</td><td>88</td><td>85</td><td>84</td><td>80</td><td>74</td><td>72</td><td>66</td><td>62</td><td>60</td><td>58</td><td>58</td><td>54</td><td>52</td><td>48</td><td>47</td><td>45</td><td>44</td><td>43</td><td>43</td><td>43</td><td>43</td><td>43</td></tr><tr><td>&quot;YEM&quot;</td><td>&quot;Yemen&quot;</td><td>&quot;Asia&quot;</td><td>&quot;Northern Hemis…</td><td>&quot;Low&quot;</td><td>&quot;AS&quot;</td><td>183</td><td>430</td><td>450</td><td>413</td><td>390</td><td>392</td><td>386</td><td>355</td><td>339</td><td>336</td><td>325</td><td>301</td><td>290</td><td>278</td><td>266</td><td>254</td><td>242</td><td>230</td><td>219</td><td>208</td><td>200</td><td>192</td><td>187</td><td>184</td><td>175</td><td>174</td><td>169</td><td>165</td><td>164</td><td>164</td><td>164</td><td>164</td><td>164</td></tr><tr><td>&quot;ZAF&quot;</td><td>&quot;South Africa&quot;</td><td>&quot;Africa&quot;</td><td>&quot;Southern Hemis…</td><td>&quot;High&quot;</td><td>&quot;SSA&quot;</td><td>109</td><td>172</td><td>162</td><td>156</td><td>150</td><td>145</td><td>142</td><td>141</td><td>142</td><td>146</td><td>152</td><td>160</td><td>168</td><td>177</td><td>186</td><td>195</td><td>201</td><td>201</td><td>199</td><td>191</td><td>179</td><td>171</td><td>161</td><td>143</td><td>133</td><td>128</td><td>125</td><td>122</td><td>119</td><td>119</td><td>119</td><td>119</td><td>119</td></tr><tr><td>&quot;ZMB&quot;</td><td>&quot;Zambia&quot;</td><td>&quot;Africa&quot;</td><td>&quot;Southern Hemis…</td><td>&quot;Medium&quot;</td><td>&quot;SSA&quot;</td><td>154</td><td>633</td><td>632</td><td>636</td><td>639</td><td>638</td><td>631</td><td>626</td><td>615</td><td>600</td><td>566</td><td>528</td><td>491</td><td>465</td><td>453</td><td>437</td><td>421</td><td>406</td><td>387</td><td>356</td><td>329</td><td>305</td><td>283</td><td>267</td><td>254</td><td>242</td><td>232</td><td>222</td><td>213</td><td>213</td><td>213</td><td>213</td><td>213</td></tr><tr><td>&quot;ZWE&quot;</td><td>&quot;Zimbabwe&quot;</td><td>&quot;Africa&quot;</td><td>&quot;Southern Hemis…</td><td>&quot;Medium&quot;</td><td>&quot;SSA&quot;</td><td>146</td><td>440</td><td>434</td><td>432</td><td>439</td><td>448</td><td>457</td><td>468</td><td>482</td><td>500</td><td>533</td><td>579</td><td>629</td><td>666</td><td>680</td><td>686</td><td>685</td><td>680</td><td>671</td><td>657</td><td>632</td><td>598</td><td>557</td><td>528</td><td>509</td><td>494</td><td>480</td><td>468</td><td>458</td><td>458</td><td>458</td><td>458</td><td>458</td></tr></tbody></table></div>"
      ],
      "text/plain": [
       "shape: (195, 39)\n",
       "┌──────┬────────────┬───────────┬────────────┬───┬────────────┬────────────┬───────────┬───────────┐\n",
       "│ ISO3 ┆ Country    ┆ Continent ┆ Hemisphere ┆ … ┆ Maternal   ┆ Maternal   ┆ Maternal  ┆ Maternal  │\n",
       "│ ---  ┆ ---        ┆ ---       ┆ ---        ┆   ┆ Mortality  ┆ Mortality  ┆ Mortality ┆ Mortality │\n",
       "│ str  ┆ str        ┆ str       ┆ str        ┆   ┆ Ratio      ┆ Ratio      ┆ Ratio     ┆ Ratio     │\n",
       "│      ┆            ┆           ┆            ┆   ┆ (deaths…   ┆ (deaths…   ┆ (deaths…  ┆ (deaths…  │\n",
       "│      ┆            ┆           ┆            ┆   ┆ ---        ┆ ---        ┆ ---       ┆ ---       │\n",
       "│      ┆            ┆           ┆            ┆   ┆ i64        ┆ i64        ┆ i64       ┆ i64       │\n",
       "╞══════╪════════════╪═══════════╪════════════╪═══╪════════════╪════════════╪═══════════╪═══════════╡\n",
       "│ AFG  ┆ Afghanista ┆ Asia      ┆ Northern   ┆ … ┆ 638        ┆ 638        ┆ 638       ┆ 638       │\n",
       "│      ┆ n          ┆           ┆ Hemisphere ┆   ┆            ┆            ┆           ┆           │\n",
       "│ AGO  ┆ Angola     ┆ Africa    ┆ Southern   ┆ … ┆ 241        ┆ 241        ┆ 241       ┆ 241       │\n",
       "│      ┆            ┆           ┆ Hemisphere ┆   ┆            ┆            ┆           ┆           │\n",
       "│ ALB  ┆ Albania    ┆ Europe    ┆ Northern   ┆ … ┆ 15         ┆ 15         ┆ 15        ┆ 15        │\n",
       "│      ┆            ┆           ┆ Hemisphere ┆   ┆            ┆            ┆           ┆           │\n",
       "│ AND  ┆ Andorra    ┆ Europe    ┆ Northern   ┆ … ┆ null       ┆ null       ┆ null      ┆ null      │\n",
       "│      ┆            ┆           ┆ Hemisphere ┆   ┆            ┆            ┆           ┆           │\n",
       "│ …    ┆ …          ┆ …         ┆ …          ┆ … ┆ …          ┆ …          ┆ …         ┆ …         │\n",
       "│ YEM  ┆ Yemen      ┆ Asia      ┆ Northern   ┆ … ┆ 164        ┆ 164        ┆ 164       ┆ 164       │\n",
       "│      ┆            ┆           ┆ Hemisphere ┆   ┆            ┆            ┆           ┆           │\n",
       "│ ZAF  ┆ South      ┆ Africa    ┆ Southern   ┆ … ┆ 119        ┆ 119        ┆ 119       ┆ 119       │\n",
       "│      ┆ Africa     ┆           ┆ Hemisphere ┆   ┆            ┆            ┆           ┆           │\n",
       "│ ZMB  ┆ Zambia     ┆ Africa    ┆ Southern   ┆ … ┆ 213        ┆ 213        ┆ 213       ┆ 213       │\n",
       "│      ┆            ┆           ┆ Hemisphere ┆   ┆            ┆            ┆           ┆           │\n",
       "│ ZWE  ┆ Zimbabwe   ┆ Africa    ┆ Southern   ┆ … ┆ 458        ┆ 458        ┆ 458       ┆ 458       │\n",
       "│      ┆            ┆           ┆ Hemisphere ┆   ┆            ┆            ┆           ┆           │\n",
       "└──────┴────────────┴───────────┴────────────┴───┴────────────┴────────────┴───────────┴───────────┘"
      ]
     },
     "execution_count": 64,
     "metadata": {},
     "output_type": "execute_result"
    }
   ],
   "source": [
    "MaternalMort_df=pl.read_csv('Maternal Mortality.csv')\n",
    "MaternalMort_df"
   ]
  },
  {
   "cell_type": "code",
   "execution_count": 5,
   "metadata": {},
   "outputs": [],
   "source": [
    "cols_to_mean=['Maternal Mortality Ratio (deaths per 100,000 live births) (1990)', 'Maternal Mortality Ratio (deaths per 100,000 live births) (1999)']\n",
    "matmort90_mean=MaternalMort_df.select( MaternalMort_avg_1990Decade=pl.concat_list(cols_to_mean).list.mean())\n",
    "\n",
    "# matmort90_mean"
   ]
  },
  {
   "cell_type": "code",
   "execution_count": 6,
   "metadata": {},
   "outputs": [],
   "source": [
    "cols_to_mean=['Maternal Mortality Ratio (deaths per 100,000 live births) (2000)', 'Maternal Mortality Ratio (deaths per 100,000 live births) (2010)']\n",
    "matmort00_mean=MaternalMort_df.select( MaternalMort_avg_00Decade=pl.concat_list(cols_to_mean).list.mean())\n",
    "\n",
    "# matmort00_mean"
   ]
  },
  {
   "cell_type": "code",
   "execution_count": 7,
   "metadata": {},
   "outputs": [],
   "source": [
    "cols_to_mean=['Maternal Mortality Ratio (deaths per 100,000 live births) (2011)', 'Maternal Mortality Ratio (deaths per 100,000 live births) (2021)']\n",
    "matmort21_mean=MaternalMort_df.select( MaternalMort_avg_21Decade=pl.concat_list(cols_to_mean).list.mean())\n",
    "\n",
    "# matmort21_mean"
   ]
  },
  {
   "cell_type": "code",
   "execution_count": 43,
   "metadata": {},
   "outputs": [],
   "source": [
    "Maternal_Decade_Index=MaternalMort_df.with_columns(\n",
    "    pl.Series(name='Maternal Mortality Ratio (deaths per 100,000 live births) Average (1990-1999)', values=matmort90_mean),\n",
    "    pl.Series(name='Maternal Mortality Ratio (deaths per 100,000 live births) Average (2000-2010)', values=matmort00_mean),\n",
    "    pl.Series(name='Maternal Mortality Ratio (deaths per 100,000 live births) Average (2011-2021)', values=matmort21_mean)\n",
    ")\n",
    "# Maternal_Decade_Index"
   ]
  },
  {
   "cell_type": "code",
   "execution_count": 66,
   "metadata": {},
   "outputs": [],
   "source": [
    "MM_Decades=Maternal_Decade_Index.select(['ISO3', 'Country', 'Continent', 'Hemisphere', 'Human Development Groups'\n",
    "                              , 'UNDP Developeing Regions', 'HDI Rank (2021)', 'Maternal Mortality Ratio (deaths per 100,000 live births) Average (1990-1999)',\n",
    "                                'Maternal Mortality Ratio (deaths per 100,000 live births) Average (2000-2010)',\n",
    "                                'Maternal Mortality Ratio (deaths per 100,000 live births) Average (2011-2021)'])"
   ]
  },
  {
   "cell_type": "code",
   "execution_count": 67,
   "metadata": {},
   "outputs": [
    {
     "data": {
      "text/html": [
       "<div><style>\n",
       ".dataframe > thead > tr,\n",
       ".dataframe > tbody > tr {\n",
       "  text-align: right;\n",
       "  white-space: pre-wrap;\n",
       "}\n",
       "</style>\n",
       "<small>shape: (195, 10)</small><table border=\"1\" class=\"dataframe\"><thead><tr><th>ISO3</th><th>Country</th><th>Continent</th><th>Hemisphere</th><th>Human Development Groups</th><th>UNDP Developeing Regions</th><th>HDI Rank (2021)</th><th>Maternal Mortality Ratio (deaths per 100,000 live births) Average (1990-1999)</th><th>Maternal Mortality Ratio (deaths per 100,000 live births) Average (2000-2010)</th><th>Maternal Mortality Ratio (deaths per 100,000 live births) Average (2011-2021)</th></tr><tr><td>str</td><td>str</td><td>str</td><td>str</td><td>str</td><td>str</td><td>i64</td><td>f64</td><td>f64</td><td>f64</td></tr></thead><tbody><tr><td>&quot;AFG&quot;</td><td>&quot;Afghanistan&quot;</td><td>&quot;Asia&quot;</td><td>&quot;Northern Hemis…</td><td>&quot;Low&quot;</td><td>&quot;SA&quot;</td><td>180</td><td>1485.0</td><td>1202.0</td><td>771.5</td></tr><tr><td>&quot;AGO&quot;</td><td>&quot;Angola&quot;</td><td>&quot;Africa&quot;</td><td>&quot;Southern Hemis…</td><td>&quot;Medium&quot;</td><td>&quot;SSA&quot;</td><td>148</td><td>1029.5</td><td>576.5</td><td>270.5</td></tr><tr><td>&quot;ALB&quot;</td><td>&quot;Albania&quot;</td><td>&quot;Europe&quot;</td><td>&quot;Northern Hemis…</td><td>&quot;High&quot;</td><td>&quot;ECA&quot;</td><td>67</td><td>32.5</td><td>22.0</td><td>18.5</td></tr><tr><td>&quot;AND&quot;</td><td>&quot;Andorra&quot;</td><td>&quot;Europe&quot;</td><td>&quot;Northern Hemis…</td><td>&quot;Very High&quot;</td><td>null</td><td>40</td><td>null</td><td>null</td><td>null</td></tr><tr><td>&quot;ARE&quot;</td><td>&quot;United Arab Em…</td><td>&quot;Asia&quot;</td><td>&quot;Northern Hemis…</td><td>&quot;Very High&quot;</td><td>&quot;AS&quot;</td><td>26</td><td>10.0</td><td>5.0</td><td>3.5</td></tr><tr><td>&quot;ARG&quot;</td><td>&quot;Argentina&quot;</td><td>&quot;America&quot;</td><td>&quot;Southern Hemis…</td><td>&quot;Very High&quot;</td><td>&quot;LAC&quot;</td><td>47</td><td>77.0</td><td>58.5</td><td>43.5</td></tr><tr><td>&quot;ARM&quot;</td><td>&quot;Armenia&quot;</td><td>&quot;Asia&quot;</td><td>&quot;Northern Hemis…</td><td>&quot;High&quot;</td><td>&quot;ECA&quot;</td><td>85</td><td>47.5</td><td>37.5</td><td>28.0</td></tr><tr><td>&quot;ATG&quot;</td><td>&quot;Antigua and Ba…</td><td>&quot;America&quot;</td><td>&quot;Northern Hemis…</td><td>&quot;High&quot;</td><td>&quot;LAC&quot;</td><td>71</td><td>51.5</td><td>44.0</td><td>42.5</td></tr><tr><td>&quot;AUS&quot;</td><td>&quot;Australia&quot;</td><td>&quot;Oceania&quot;</td><td>&quot;Southern Hemis…</td><td>&quot;Very High&quot;</td><td>null</td><td>5</td><td>7.5</td><td>6.0</td><td>6.0</td></tr><tr><td>&quot;AUT&quot;</td><td>&quot;Austria&quot;</td><td>&quot;Europe&quot;</td><td>&quot;Northern Hemis…</td><td>&quot;Very High&quot;</td><td>null</td><td>25</td><td>7.0</td><td>5.5</td><td>5.0</td></tr><tr><td>&quot;AZE&quot;</td><td>&quot;Azerbaijan&quot;</td><td>&quot;Asia&quot;</td><td>&quot;Northern Hemis…</td><td>&quot;High&quot;</td><td>&quot;ECA&quot;</td><td>91</td><td>43.0</td><td>39.0</td><td>28.0</td></tr><tr><td>&quot;BDI&quot;</td><td>&quot;Burundi&quot;</td><td>&quot;Africa&quot;</td><td>&quot;Southern Hemis…</td><td>&quot;Low&quot;</td><td>&quot;SSA&quot;</td><td>187</td><td>1160.0</td><td>837.5</td><td>591.5</td></tr><tr><td>&hellip;</td><td>&hellip;</td><td>&hellip;</td><td>&hellip;</td><td>&hellip;</td><td>&hellip;</td><td>&hellip;</td><td>&hellip;</td><td>&hellip;</td><td>&hellip;</td></tr><tr><td>&quot;URY&quot;</td><td>&quot;Uruguay&quot;</td><td>&quot;America&quot;</td><td>&quot;Southern Hemis…</td><td>&quot;Very High&quot;</td><td>&quot;LAC&quot;</td><td>58</td><td>31.5</td><td>21.5</td><td>17.0</td></tr><tr><td>&quot;USA&quot;</td><td>&quot;United States&quot;</td><td>&quot;America&quot;</td><td>&quot;Northern Hemis…</td><td>&quot;Very High&quot;</td><td>null</td><td>21</td><td>11.5</td><td>13.5</td><td>17.0</td></tr><tr><td>&quot;UZB&quot;</td><td>&quot;Uzbekistan&quot;</td><td>&quot;Asia&quot;</td><td>&quot;Northern Hemis…</td><td>&quot;High&quot;</td><td>&quot;ECA&quot;</td><td>101</td><td>46.5</td><td>36.0</td><td>30.5</td></tr><tr><td>&quot;VCT&quot;</td><td>&quot;Saint Vincent …</td><td>&quot;America&quot;</td><td>&quot;Northern Hemis…</td><td>&quot;High&quot;</td><td>&quot;LAC&quot;</td><td>89</td><td>81.5</td><td>71.5</td><td>66.0</td></tr><tr><td>&quot;VEN&quot;</td><td>&quot;Venezuela&quot;</td><td>&quot;America&quot;</td><td>&quot;Northern Hemis…</td><td>&quot;Medium&quot;</td><td>&quot;LAC&quot;</td><td>120</td><td>129.0</td><td>118.0</td><td>120.5</td></tr><tr><td>&quot;VNM&quot;</td><td>&quot;Viet Nam&quot;</td><td>&quot;Asia&quot;</td><td>&quot;Northern Hemis…</td><td>&quot;High&quot;</td><td>&quot;EAP&quot;</td><td>115</td><td>93.5</td><td>57.5</td><td>45.0</td></tr><tr><td>&quot;VUT&quot;</td><td>&quot;Vanuatu&quot;</td><td>&quot;Oceania&quot;</td><td>&quot;Southern Hemis…</td><td>&quot;Medium&quot;</td><td>&quot;EAP&quot;</td><td>140</td><td>190.5</td><td>116.0</td><td>80.0</td></tr><tr><td>&quot;WSM&quot;</td><td>&quot;Samoa&quot;</td><td>&quot;Oceania&quot;</td><td>&quot;Southern Hemis…</td><td>&quot;High&quot;</td><td>&quot;EAP&quot;</td><td>111</td><td>117.5</td><td>73.0</td><td>48.5</td></tr><tr><td>&quot;YEM&quot;</td><td>&quot;Yemen&quot;</td><td>&quot;Asia&quot;</td><td>&quot;Northern Hemis…</td><td>&quot;Low&quot;</td><td>&quot;AS&quot;</td><td>183</td><td>377.5</td><td>246.5</td><td>175.5</td></tr><tr><td>&quot;ZAF&quot;</td><td>&quot;South Africa&quot;</td><td>&quot;Africa&quot;</td><td>&quot;Southern Hemis…</td><td>&quot;High&quot;</td><td>&quot;SSA&quot;</td><td>109</td><td>162.0</td><td>165.5</td><td>140.0</td></tr><tr><td>&quot;ZMB&quot;</td><td>&quot;Zambia&quot;</td><td>&quot;Africa&quot;</td><td>&quot;Southern Hemis…</td><td>&quot;Medium&quot;</td><td>&quot;SSA&quot;</td><td>154</td><td>599.5</td><td>416.5</td><td>248.0</td></tr><tr><td>&quot;ZWE&quot;</td><td>&quot;Zimbabwe&quot;</td><td>&quot;Africa&quot;</td><td>&quot;Southern Hemis…</td><td>&quot;Medium&quot;</td><td>&quot;SSA&quot;</td><td>146</td><td>486.5</td><td>588.5</td><td>507.5</td></tr></tbody></table></div>"
      ],
      "text/plain": [
       "shape: (195, 10)\n",
       "┌──────┬────────────┬───────────┬────────────┬───┬────────────┬────────────┬───────────┬───────────┐\n",
       "│ ISO3 ┆ Country    ┆ Continent ┆ Hemisphere ┆ … ┆ HDI Rank   ┆ Maternal   ┆ Maternal  ┆ Maternal  │\n",
       "│ ---  ┆ ---        ┆ ---       ┆ ---        ┆   ┆ (2021)     ┆ Mortality  ┆ Mortality ┆ Mortality │\n",
       "│ str  ┆ str        ┆ str       ┆ str        ┆   ┆ ---        ┆ Ratio      ┆ Ratio     ┆ Ratio     │\n",
       "│      ┆            ┆           ┆            ┆   ┆ i64        ┆ (deaths…   ┆ (deaths…  ┆ (deaths…  │\n",
       "│      ┆            ┆           ┆            ┆   ┆            ┆ ---        ┆ ---       ┆ ---       │\n",
       "│      ┆            ┆           ┆            ┆   ┆            ┆ f64        ┆ f64       ┆ f64       │\n",
       "╞══════╪════════════╪═══════════╪════════════╪═══╪════════════╪════════════╪═══════════╪═══════════╡\n",
       "│ AFG  ┆ Afghanista ┆ Asia      ┆ Northern   ┆ … ┆ 180        ┆ 1485.0     ┆ 1202.0    ┆ 771.5     │\n",
       "│      ┆ n          ┆           ┆ Hemisphere ┆   ┆            ┆            ┆           ┆           │\n",
       "│ AGO  ┆ Angola     ┆ Africa    ┆ Southern   ┆ … ┆ 148        ┆ 1029.5     ┆ 576.5     ┆ 270.5     │\n",
       "│      ┆            ┆           ┆ Hemisphere ┆   ┆            ┆            ┆           ┆           │\n",
       "│ ALB  ┆ Albania    ┆ Europe    ┆ Northern   ┆ … ┆ 67         ┆ 32.5       ┆ 22.0      ┆ 18.5      │\n",
       "│      ┆            ┆           ┆ Hemisphere ┆   ┆            ┆            ┆           ┆           │\n",
       "│ AND  ┆ Andorra    ┆ Europe    ┆ Northern   ┆ … ┆ 40         ┆ null       ┆ null      ┆ null      │\n",
       "│      ┆            ┆           ┆ Hemisphere ┆   ┆            ┆            ┆           ┆           │\n",
       "│ …    ┆ …          ┆ …         ┆ …          ┆ … ┆ …          ┆ …          ┆ …         ┆ …         │\n",
       "│ YEM  ┆ Yemen      ┆ Asia      ┆ Northern   ┆ … ┆ 183        ┆ 377.5      ┆ 246.5     ┆ 175.5     │\n",
       "│      ┆            ┆           ┆ Hemisphere ┆   ┆            ┆            ┆           ┆           │\n",
       "│ ZAF  ┆ South      ┆ Africa    ┆ Southern   ┆ … ┆ 109        ┆ 162.0      ┆ 165.5     ┆ 140.0     │\n",
       "│      ┆ Africa     ┆           ┆ Hemisphere ┆   ┆            ┆            ┆           ┆           │\n",
       "│ ZMB  ┆ Zambia     ┆ Africa    ┆ Southern   ┆ … ┆ 154        ┆ 599.5      ┆ 416.5     ┆ 248.0     │\n",
       "│      ┆            ┆           ┆ Hemisphere ┆   ┆            ┆            ┆           ┆           │\n",
       "│ ZWE  ┆ Zimbabwe   ┆ Africa    ┆ Southern   ┆ … ┆ 146        ┆ 486.5      ┆ 588.5     ┆ 507.5     │\n",
       "│      ┆            ┆           ┆ Hemisphere ┆   ┆            ┆            ┆           ┆           │\n",
       "└──────┴────────────┴───────────┴────────────┴───┴────────────┴────────────┴───────────┴───────────┘"
      ]
     },
     "execution_count": 67,
     "metadata": {},
     "output_type": "execute_result"
    }
   ],
   "source": [
    " MM_Decades"
   ]
  },
  {
   "cell_type": "code",
   "execution_count": 73,
   "metadata": {},
   "outputs": [],
   "source": [
    "# MM_Decades_clean=MM_Decades.drop_nulls()"
   ]
  },
  {
   "cell_type": "code",
   "execution_count": 74,
   "metadata": {},
   "outputs": [],
   "source": [
    "MM_join=HDI_df.join(MM_Decades, on=\"Country\")\n",
    "# MM_join"
   ]
  },
  {
   "cell_type": "code",
   "execution_count": 76,
   "metadata": {},
   "outputs": [
    {
     "data": {
      "text/html": [
       "<div><style>\n",
       ".dataframe > thead > tr,\n",
       ".dataframe > tbody > tr {\n",
       "  text-align: right;\n",
       "  white-space: pre-wrap;\n",
       "}\n",
       "</style>\n",
       "<small>shape: (177, 17)</small><table border=\"1\" class=\"dataframe\"><thead><tr><th>HDI rank</th><th>Country</th><th>Human Development Index (HDI Value) </th><th>Life expectancy at birth (years)</th><th>Expected years of schooling (years)</th><th>Mean years of schooling (years)</th><th>Gross national income (GNI) per capita (2017 PPP $)</th><th>GNI per capita rank minus HDI rank</th><th>ISO3</th><th>Continent</th><th>Hemisphere</th><th>Human Development Groups</th><th>UNDP Developeing Regions</th><th>HDI Rank (2021)</th><th>Maternal Mortality Ratio (deaths per 100,000 live births) Average (1990-1999)</th><th>Maternal Mortality Ratio (deaths per 100,000 live births) Average (2000-2010)</th><th>Maternal Mortality Ratio (deaths per 100,000 live births) Average (2011-2021)</th></tr><tr><td>i64</td><td>str</td><td>f64</td><td>f64</td><td>f64</td><td>f64</td><td>str</td><td>i64</td><td>str</td><td>str</td><td>str</td><td>str</td><td>str</td><td>i64</td><td>f64</td><td>f64</td><td>f64</td></tr></thead><tbody><tr><td>1</td><td>&quot;Switzerland&quot;</td><td>0.962</td><td>84.0</td><td>16.5</td><td>13.9</td><td>&quot;66,933&quot;</td><td>5</td><td>&quot;CHE&quot;</td><td>&quot;Europe&quot;</td><td>&quot;Northern Hemis…</td><td>&quot;Very High&quot;</td><td>null</td><td>1</td><td>8.0</td><td>6.5</td><td>5.5</td></tr><tr><td>2</td><td>&quot;Norway&quot;</td><td>0.961</td><td>83.2</td><td>18.2</td><td>13.0</td><td>&quot;64,660&quot;</td><td>6</td><td>&quot;NOR&quot;</td><td>&quot;Europe&quot;</td><td>&quot;Northern Hemis…</td><td>&quot;Very High&quot;</td><td>null</td><td>2</td><td>6.5</td><td>5.0</td><td>3.0</td></tr><tr><td>3</td><td>&quot;Iceland&quot;</td><td>0.959</td><td>82.7</td><td>19.2</td><td>13.8</td><td>&quot;55,782&quot;</td><td>11</td><td>&quot;ISL&quot;</td><td>&quot;Europe&quot;</td><td>&quot;Northern Hemis…</td><td>&quot;Very High&quot;</td><td>null</td><td>3</td><td>7.0</td><td>5.5</td><td>4.5</td></tr><tr><td>5</td><td>&quot;Australia&quot;</td><td>0.951</td><td>84.5</td><td>21.1</td><td>12.7</td><td>&quot;49,238&quot;</td><td>18</td><td>&quot;AUS&quot;</td><td>&quot;Oceania&quot;</td><td>&quot;Southern Hemis…</td><td>&quot;Very High&quot;</td><td>null</td><td>5</td><td>7.5</td><td>6.0</td><td>6.0</td></tr><tr><td>6</td><td>&quot;Denmark&quot;</td><td>0.948</td><td>81.4</td><td>18.7</td><td>13.0</td><td>&quot;60,365&quot;</td><td>6</td><td>&quot;DNK&quot;</td><td>&quot;Europe&quot;</td><td>&quot;Northern Hemis…</td><td>&quot;Very High&quot;</td><td>null</td><td>6</td><td>9.5</td><td>6.5</td><td>4.5</td></tr><tr><td>7</td><td>&quot;Sweden&quot;</td><td>0.947</td><td>83.0</td><td>19.4</td><td>12.6</td><td>&quot;54,489&quot;</td><td>9</td><td>&quot;SWE&quot;</td><td>&quot;Europe&quot;</td><td>&quot;Northern Hemis…</td><td>&quot;Very High&quot;</td><td>null</td><td>7</td><td>6.5</td><td>4.5</td><td>4.5</td></tr><tr><td>8</td><td>&quot;Ireland&quot;</td><td>0.945</td><td>82.0</td><td>18.9</td><td>11.6</td><td>&quot;76,169&quot;</td><td>-3</td><td>&quot;IRL&quot;</td><td>&quot;Europe&quot;</td><td>&quot;Northern Hemis…</td><td>&quot;Very High&quot;</td><td>null</td><td>8</td><td>6.5</td><td>6.5</td><td>6.0</td></tr><tr><td>9</td><td>&quot;Germany&quot;</td><td>0.942</td><td>80.6</td><td>17.0</td><td>14.1</td><td>&quot;54,534&quot;</td><td>6</td><td>&quot;DEU&quot;</td><td>&quot;Europe&quot;</td><td>&quot;Northern Hemis…</td><td>&quot;Very High&quot;</td><td>null</td><td>9</td><td>8.5</td><td>6.5</td><td>6.5</td></tr><tr><td>10</td><td>&quot;Netherlands&quot;</td><td>0.941</td><td>81.7</td><td>18.7</td><td>12.6</td><td>&quot;55,979&quot;</td><td>3</td><td>&quot;NLD&quot;</td><td>&quot;Europe&quot;</td><td>&quot;Northern Hemis…</td><td>&quot;Very High&quot;</td><td>null</td><td>10</td><td>11.5</td><td>10.0</td><td>6.0</td></tr><tr><td>11</td><td>&quot;Finland&quot;</td><td>0.94</td><td>82.0</td><td>19.1</td><td>12.9</td><td>&quot;49,452&quot;</td><td>11</td><td>&quot;FIN&quot;</td><td>&quot;Europe&quot;</td><td>&quot;Northern Hemis…</td><td>&quot;Very High&quot;</td><td>null</td><td>11</td><td>5.5</td><td>5.0</td><td>3.5</td></tr><tr><td>12</td><td>&quot;Singapore&quot;</td><td>0.939</td><td>82.8</td><td>16.5</td><td>11.9</td><td>&quot;90,919&quot;</td><td>-10</td><td>&quot;SGP&quot;</td><td>&quot;Asia&quot;</td><td>&quot;Northern Hemis…</td><td>&quot;Very High&quot;</td><td>&quot;EAP&quot;</td><td>12</td><td>12.5</td><td>11.5</td><td>9.0</td></tr><tr><td>13</td><td>&quot;Belgium&quot;</td><td>0.937</td><td>81.9</td><td>19.6</td><td>12.4</td><td>&quot;52,293&quot;</td><td>7</td><td>&quot;BEL&quot;</td><td>&quot;Europe&quot;</td><td>&quot;Northern Hemis…</td><td>&quot;Very High&quot;</td><td>null</td><td>13</td><td>8.0</td><td>7.0</td><td>5.5</td></tr><tr><td>&hellip;</td><td>&hellip;</td><td>&hellip;</td><td>&hellip;</td><td>&hellip;</td><td>&hellip;</td><td>&hellip;</td><td>&hellip;</td><td>&hellip;</td><td>&hellip;</td><td>&hellip;</td><td>&hellip;</td><td>&hellip;</td><td>&hellip;</td><td>&hellip;</td><td>&hellip;</td><td>&hellip;</td></tr><tr><td>180</td><td>&quot;Afghanistan&quot;</td><td>0.478</td><td>62.0</td><td>10.3</td><td>3.0</td><td>&quot;1,824&quot;</td><td>-2</td><td>&quot;AFG&quot;</td><td>&quot;Asia&quot;</td><td>&quot;Northern Hemis…</td><td>&quot;Low&quot;</td><td>&quot;SA&quot;</td><td>180</td><td>1485.0</td><td>1202.0</td><td>771.5</td></tr><tr><td>181</td><td>&quot;Sierra Leone&quot;</td><td>0.477</td><td>60.1</td><td>9.6</td><td>4.6</td><td>&quot;1,622&quot;</td><td>-1</td><td>&quot;SLE&quot;</td><td>&quot;Africa&quot;</td><td>&quot;Northern Hemis…</td><td>&quot;Low&quot;</td><td>&quot;SSA&quot;</td><td>181</td><td>2760.0</td><td>1920.0</td><td>1195.0</td></tr><tr><td>182</td><td>&quot;Guinea&quot;</td><td>0.465</td><td>58.9</td><td>9.8</td><td>2.2</td><td>&quot;2,481&quot;</td><td>-13</td><td>&quot;GIN&quot;</td><td>&quot;Africa&quot;</td><td>&quot;Northern Hemis…</td><td>&quot;Low&quot;</td><td>&quot;SSA&quot;</td><td>182</td><td>885.0</td><td>883.5</td><td>662.0</td></tr><tr><td>183</td><td>&quot;Yemen&quot;</td><td>0.455</td><td>63.8</td><td>9.1</td><td>3.2</td><td>&quot;1,314&quot;</td><td>1</td><td>&quot;YEM&quot;</td><td>&quot;Asia&quot;</td><td>&quot;Northern Hemis…</td><td>&quot;Low&quot;</td><td>&quot;AS&quot;</td><td>183</td><td>377.5</td><td>246.5</td><td>175.5</td></tr><tr><td>184</td><td>&quot;Burkina Faso&quot;</td><td>0.449</td><td>59.3</td><td>9.1</td><td>2.1</td><td>&quot;2,118&quot;</td><td>-8</td><td>&quot;BFA&quot;</td><td>&quot;Africa&quot;</td><td>&quot;Northern Hemis…</td><td>&quot;Low&quot;</td><td>&quot;SSA&quot;</td><td>184</td><td>616.5</td><td>450.5</td><td>348.5</td></tr><tr><td>185</td><td>&quot;Mozambique&quot;</td><td>0.446</td><td>59.3</td><td>10.2</td><td>3.2</td><td>&quot;1,198&quot;</td><td>2</td><td>&quot;MOZ&quot;</td><td>&quot;Africa&quot;</td><td>&quot;Southern Hemis…</td><td>&quot;Low&quot;</td><td>&quot;SSA&quot;</td><td>185</td><td>1129.5</td><td>605.0</td><td>339.0</td></tr><tr><td>186</td><td>&quot;Mali&quot;</td><td>0.428</td><td>58.9</td><td>7.4</td><td>2.3</td><td>&quot;2,133&quot;</td><td>-11</td><td>&quot;MLI&quot;</td><td>&quot;Africa&quot;</td><td>&quot;Northern Hemis…</td><td>&quot;Low&quot;</td><td>&quot;SSA&quot;</td><td>186</td><td>898.5</td><td>748.0</td><td>612.5</td></tr><tr><td>187</td><td>&quot;Burundi&quot;</td><td>0.426</td><td>61.7</td><td>10.7</td><td>3.1</td><td>&quot;732&quot;</td><td>4</td><td>&quot;BDI&quot;</td><td>&quot;Africa&quot;</td><td>&quot;Southern Hemis…</td><td>&quot;Low&quot;</td><td>&quot;SSA&quot;</td><td>187</td><td>1160.0</td><td>837.5</td><td>591.5</td></tr><tr><td>188</td><td>&quot;Central Africa…</td><td>0.404</td><td>53.9</td><td>8.0</td><td>4.3</td><td>&quot;966&quot;</td><td>1</td><td>&quot;CAF&quot;</td><td>&quot;Africa&quot;</td><td>&quot;Northern Hemis…</td><td>&quot;Low&quot;</td><td>&quot;SSA&quot;</td><td>188</td><td>1265.0</td><td>1140.0</td><td>905.0</td></tr><tr><td>189</td><td>&quot;Niger&quot;</td><td>0.4</td><td>61.6</td><td>7.0</td><td>2.1</td><td>&quot;1,240&quot;</td><td>-3</td><td>&quot;NER&quot;</td><td>&quot;Africa&quot;</td><td>&quot;Northern Hemis…</td><td>&quot;Low&quot;</td><td>&quot;SSA&quot;</td><td>189</td><td>851.0</td><td>738.0</td><td>574.0</td></tr><tr><td>190</td><td>&quot;Chad&quot;</td><td>0.394</td><td>52.5</td><td>8.0</td><td>2.6</td><td>&quot;1,364&quot;</td><td>-7</td><td>&quot;TCD&quot;</td><td>&quot;Africa&quot;</td><td>&quot;Northern Hemis…</td><td>&quot;Low&quot;</td><td>&quot;SSA&quot;</td><td>190</td><td>1360.0</td><td>1330.0</td><td>1175.0</td></tr><tr><td>191</td><td>&quot;South Sudan&quot;</td><td>0.385</td><td>55.0</td><td>5.5</td><td>5.7</td><td>&quot;768&quot;</td><td>-1</td><td>&quot;SSD&quot;</td><td>&quot;Africa&quot;</td><td>&quot;Northern Hemis…</td><td>&quot;Low&quot;</td><td>&quot;SSA&quot;</td><td>191</td><td>1880.0</td><td>1415.0</td><td>1110.0</td></tr></tbody></table></div>"
      ],
      "text/plain": [
       "shape: (177, 17)\n",
       "┌──────────┬───────────┬───────────┬───────────┬───┬───────────┬───────────┬───────────┬───────────┐\n",
       "│ HDI rank ┆ Country   ┆ Human Dev ┆ Life expe ┆ … ┆ HDI Rank  ┆ Maternal  ┆ Maternal  ┆ Maternal  │\n",
       "│ ---      ┆ ---       ┆ elopment  ┆ ctancy at ┆   ┆ (2021)    ┆ Mortality ┆ Mortality ┆ Mortality │\n",
       "│ i64      ┆ str       ┆ Index     ┆ birth     ┆   ┆ ---       ┆ Ratio     ┆ Ratio     ┆ Ratio     │\n",
       "│          ┆           ┆ (HDI Val… ┆ (years)   ┆   ┆ i64       ┆ (deaths…  ┆ (deaths…  ┆ (deaths…  │\n",
       "│          ┆           ┆ ---       ┆ ---       ┆   ┆           ┆ ---       ┆ ---       ┆ ---       │\n",
       "│          ┆           ┆ f64       ┆ f64       ┆   ┆           ┆ f64       ┆ f64       ┆ f64       │\n",
       "╞══════════╪═══════════╪═══════════╪═══════════╪═══╪═══════════╪═══════════╪═══════════╪═══════════╡\n",
       "│ 1        ┆ Switzerla ┆ 0.962     ┆ 84.0      ┆ … ┆ 1         ┆ 8.0       ┆ 6.5       ┆ 5.5       │\n",
       "│          ┆ nd        ┆           ┆           ┆   ┆           ┆           ┆           ┆           │\n",
       "│ 2        ┆ Norway    ┆ 0.961     ┆ 83.2      ┆ … ┆ 2         ┆ 6.5       ┆ 5.0       ┆ 3.0       │\n",
       "│ 3        ┆ Iceland   ┆ 0.959     ┆ 82.7      ┆ … ┆ 3         ┆ 7.0       ┆ 5.5       ┆ 4.5       │\n",
       "│ 5        ┆ Australia ┆ 0.951     ┆ 84.5      ┆ … ┆ 5         ┆ 7.5       ┆ 6.0       ┆ 6.0       │\n",
       "│ …        ┆ …         ┆ …         ┆ …         ┆ … ┆ …         ┆ …         ┆ …         ┆ …         │\n",
       "│ 188      ┆ Central   ┆ 0.404     ┆ 53.9      ┆ … ┆ 188       ┆ 1265.0    ┆ 1140.0    ┆ 905.0     │\n",
       "│          ┆ African   ┆           ┆           ┆   ┆           ┆           ┆           ┆           │\n",
       "│          ┆ Republic  ┆           ┆           ┆   ┆           ┆           ┆           ┆           │\n",
       "│ 189      ┆ Niger     ┆ 0.4       ┆ 61.6      ┆ … ┆ 189       ┆ 851.0     ┆ 738.0     ┆ 574.0     │\n",
       "│ 190      ┆ Chad      ┆ 0.394     ┆ 52.5      ┆ … ┆ 190       ┆ 1360.0    ┆ 1330.0    ┆ 1175.0    │\n",
       "│ 191      ┆ South     ┆ 0.385     ┆ 55.0      ┆ … ┆ 191       ┆ 1880.0    ┆ 1415.0    ┆ 1110.0    │\n",
       "│          ┆ Sudan     ┆           ┆           ┆   ┆           ┆           ┆           ┆           │\n",
       "└──────────┴───────────┴───────────┴───────────┴───┴───────────┴───────────┴───────────┴───────────┘"
      ]
     },
     "execution_count": 76,
     "metadata": {},
     "output_type": "execute_result"
    }
   ],
   "source": [
    "# df.select(sorted(df.columns))\n",
    "MM_join.sort([\"HDI rank\"])"
   ]
  },
  {
   "cell_type": "code",
   "execution_count": 9,
   "metadata": {},
   "outputs": [],
   "source": [
    "Low_North=MaternalMort_df.filter(pl.col(\"Hemisphere\")==\"Northern Hemisphere\", pl.col(\"Human Development Groups\")==\"Low\")\n",
    "Medium_North=MaternalMort_df.filter(pl.col(\"Hemisphere\")==\"Northern Hemisphere\", pl.col(\"Human Development Groups\")==\"Medium\")\n",
    "High_North=MaternalMort_df.filter(pl.col(\"Hemisphere\")==\"Northern Hemisphere\", pl.col(\"Human Development Groups\")==\"High\")\n",
    "Very_High_North=MaternalMort_df.filter(pl.col(\"Hemisphere\")==\"Northern Hemisphere\", pl.col(\"Human Development Groups\")==\"Very High\")"
   ]
  },
  {
   "cell_type": "code",
   "execution_count": 27,
   "metadata": {},
   "outputs": [],
   "source": [
    "GenderInequal_df=pl.read_csv('Gender Inequality Index.csv')\n",
    "# GenderInequal_df"
   ]
  },
  {
   "cell_type": "code",
   "execution_count": 11,
   "metadata": {},
   "outputs": [],
   "source": [
    "Low_North=GenderInequal_df.filter(pl.col(\"Hemisphere\")==\"Northern Hemisphere\", pl.col(\"Human Development Groups\")==\"Low\")\n",
    "Medium_North=GenderInequal_df.filter(pl.col(\"Hemisphere\")==\"Northern Hemisphere\", pl.col(\"Human Development Groups\")==\"Medium\")\n",
    "High_North=GenderInequal_df.filter(pl.col(\"Hemisphere\")==\"Northern Hemisphere\", pl.col(\"Human Development Groups\")==\"High\")\n",
    "Very_High_North=GenderInequal_df.filter(pl.col(\"Hemisphere\")==\"Northern Hemisphere\", pl.col(\"Human Development Groups\")==\"Very High\")\n"
   ]
  },
  {
   "cell_type": "code",
   "execution_count": 12,
   "metadata": {},
   "outputs": [],
   "source": [
    "Low_South=GenderInequal_df.filter(pl.col(\"Hemisphere\")==\"Southern Hemisphere\", pl.col(\"Human Development Groups\")==\"Low\")\n",
    "Medium_South=GenderInequal_df.filter(pl.col(\"Hemisphere\")==\"Southern Hemisphere\", pl.col(\"Human Development Groups\")==\"Medium\")\n",
    "High_South=GenderInequal_df.filter(pl.col(\"Hemisphere\")==\"Southern Hemisphere\", pl.col(\"Human Development Groups\")==\"High\")\n",
    "Very_High_South=GenderInequal_df.filter(pl.col(\"Hemisphere\")==\"Southern Hemisphere\", pl.col(\"Human Development Groups\")==\"Very High\")\n"
   ]
  },
  {
   "cell_type": "code",
   "execution_count": 18,
   "metadata": {},
   "outputs": [],
   "source": [
    "cols_to_mean=['Gender Inequality Index (1990)', 'Gender Inequality Index (1999)']\n",
    "geindex90_mean=GenderInequal_df.select( Gender_Inequality_1990Decade=pl.concat_list(cols_to_mean).list.mean())\n",
    "\n",
    "# geindex90_mean"
   ]
  },
  {
   "cell_type": "code",
   "execution_count": 19,
   "metadata": {},
   "outputs": [],
   "source": [
    "cols_to_mean=['Gender Inequality Index (2000)', 'Gender Inequality Index (2010)']\n",
    "geindex00_mean=GenderInequal_df.select( Gender_Inequality_2000Decade=pl.concat_list(cols_to_mean).list.mean())\n",
    "# geindex00_mean"
   ]
  },
  {
   "cell_type": "code",
   "execution_count": 20,
   "metadata": {},
   "outputs": [],
   "source": [
    "cols_to_mean=['Gender Inequality Index (2011)', 'Gender Inequality Index (2021)']\n",
    "geindex21_mean=GenderInequal_df.select( Gender_Inequality_21Decade=pl.concat_list(cols_to_mean).list.mean())\n",
    "# geindex21_mean"
   ]
  },
  {
   "cell_type": "code",
   "execution_count": 21,
   "metadata": {},
   "outputs": [],
   "source": [
    "\n",
    "Decade_Index=GenderInequal_df.with_columns(\n",
    "    pl.Series(name='Gender Inequality Index Average (1990-1999)', values=geindex90_mean),\n",
    "    pl.Series(name='Gender Inequality Index Average (2000-2010)', values=geindex00_mean),\n",
    "    pl.Series(name='Gender Inequality Index Average (2011-2021)', values=geindex21_mean)\n",
    ")\n",
    "# Decade_Index"
   ]
  },
  {
   "cell_type": "code",
   "execution_count": 37,
   "metadata": {},
   "outputs": [],
   "source": [
    "GI_Decades=Decade_Index.select(['ISO3', 'Country', 'Continent', 'Hemisphere', 'Human Development Groups', 'UNDP Developing Regions', 'Gender Inequality Index Average (1990-1999)', 'Gender Inequality Index Average (2000-2010)', 'Gender Inequality Index Average (2011-2021)'])"
   ]
  },
  {
   "cell_type": "code",
   "execution_count": 38,
   "metadata": {},
   "outputs": [
    {
     "data": {
      "text/html": [
       "<div><style>\n",
       ".dataframe > thead > tr,\n",
       ".dataframe > tbody > tr {\n",
       "  text-align: right;\n",
       "  white-space: pre-wrap;\n",
       "}\n",
       "</style>\n",
       "<small>shape: (195, 9)</small><table border=\"1\" class=\"dataframe\"><thead><tr><th>ISO3</th><th>Country</th><th>Continent</th><th>Hemisphere</th><th>Human Development Groups</th><th>UNDP Developing Regions</th><th>Gender Inequality Index Average (1990-1999)</th><th>Gender Inequality Index Average (2000-2010)</th><th>Gender Inequality Index Average (2011-2021)</th></tr><tr><td>str</td><td>str</td><td>str</td><td>str</td><td>str</td><td>str</td><td>f64</td><td>f64</td><td>f64</td></tr></thead><tbody><tr><td>&quot;AFG&quot;</td><td>&quot;Afghanistan&quot;</td><td>&quot;Asia&quot;</td><td>&quot;Northern Hemis…</td><td>&quot;Low&quot;</td><td>&quot;SA&quot;</td><td>null</td><td>0.753</td><td>0.712</td></tr><tr><td>&quot;AGO&quot;</td><td>&quot;Angola&quot;</td><td>&quot;Africa&quot;</td><td>&quot;Southern Hemis…</td><td>&quot;Medium&quot;</td><td>&quot;SSA&quot;</td><td>0.7015</td><td>0.611</td><td>0.5405</td></tr><tr><td>&quot;ALB&quot;</td><td>&quot;Albania&quot;</td><td>&quot;Europe&quot;</td><td>&quot;Northern Hemis…</td><td>&quot;High&quot;</td><td>&quot;ECA&quot;</td><td>0.33</td><td>0.2825</td><td>0.198</td></tr><tr><td>&quot;AND&quot;</td><td>&quot;Andorra&quot;</td><td>&quot;Europe&quot;</td><td>&quot;Northern Hemis…</td><td>&quot;Very High&quot;</td><td>null</td><td>null</td><td>null</td><td>null</td></tr><tr><td>&quot;ARE&quot;</td><td>&quot;United Arab Em…</td><td>&quot;Asia&quot;</td><td>&quot;Northern Hemis…</td><td>&quot;Very High&quot;</td><td>&quot;AS&quot;</td><td>0.632</td><td>0.39</td><td>0.115</td></tr><tr><td>&quot;ARG&quot;</td><td>&quot;Argentina&quot;</td><td>&quot;America&quot;</td><td>&quot;Southern Hemis…</td><td>&quot;Very High&quot;</td><td>&quot;LAC&quot;</td><td>0.4285</td><td>0.3885</td><td>0.3245</td></tr><tr><td>&quot;ARM&quot;</td><td>&quot;Armenia&quot;</td><td>&quot;Asia&quot;</td><td>&quot;Northern Hemis…</td><td>&quot;High&quot;</td><td>&quot;ECA&quot;</td><td>0.466</td><td>0.3995</td><td>0.279</td></tr><tr><td>&quot;ATG&quot;</td><td>&quot;Antigua and Ba…</td><td>&quot;America&quot;</td><td>&quot;Northern Hemis…</td><td>&quot;High&quot;</td><td>&quot;LAC&quot;</td><td>null</td><td>null</td><td>null</td></tr><tr><td>&quot;AUS&quot;</td><td>&quot;Australia&quot;</td><td>&quot;Oceania&quot;</td><td>&quot;Southern Hemis…</td><td>&quot;Very High&quot;</td><td>null</td><td>0.1705</td><td>0.1435</td><td>0.102</td></tr><tr><td>&quot;AUT&quot;</td><td>&quot;Austria&quot;</td><td>&quot;Europe&quot;</td><td>&quot;Northern Hemis…</td><td>&quot;Very High&quot;</td><td>null</td><td>0.1745</td><td>0.13</td><td>0.078</td></tr><tr><td>&quot;AZE&quot;</td><td>&quot;Azerbaijan&quot;</td><td>&quot;Asia&quot;</td><td>&quot;Northern Hemis…</td><td>&quot;High&quot;</td><td>&quot;ECA&quot;</td><td>0.351</td><td>0.346</td><td>0.3165</td></tr><tr><td>&quot;BDI&quot;</td><td>&quot;Burundi&quot;</td><td>&quot;Africa&quot;</td><td>&quot;Southern Hemis…</td><td>&quot;Low&quot;</td><td>&quot;SSA&quot;</td><td>0.655</td><td>0.578</td><td>0.521</td></tr><tr><td>&hellip;</td><td>&hellip;</td><td>&hellip;</td><td>&hellip;</td><td>&hellip;</td><td>&hellip;</td><td>&hellip;</td><td>&hellip;</td><td>&hellip;</td></tr><tr><td>&quot;URY&quot;</td><td>&quot;Uruguay&quot;</td><td>&quot;America&quot;</td><td>&quot;Southern Hemis…</td><td>&quot;Very High&quot;</td><td>&quot;LAC&quot;</td><td>0.406</td><td>0.351</td><td>0.2825</td></tr><tr><td>&quot;USA&quot;</td><td>&quot;United States&quot;</td><td>&quot;America&quot;</td><td>&quot;Northern Hemis…</td><td>&quot;Very High&quot;</td><td>null</td><td>0.2855</td><td>0.2615</td><td>0.21</td></tr><tr><td>&quot;UZB&quot;</td><td>&quot;Uzbekistan&quot;</td><td>&quot;Asia&quot;</td><td>&quot;Northern Hemis…</td><td>&quot;High&quot;</td><td>&quot;ECA&quot;</td><td>null</td><td>0.3145</td><td>0.259</td></tr><tr><td>&quot;VCT&quot;</td><td>&quot;Saint Vincent …</td><td>&quot;America&quot;</td><td>&quot;Northern Hemis…</td><td>&quot;High&quot;</td><td>&quot;LAC&quot;</td><td>null</td><td>null</td><td>0.39</td></tr><tr><td>&quot;VEN&quot;</td><td>&quot;Venezuela&quot;</td><td>&quot;America&quot;</td><td>&quot;Northern Hemis…</td><td>&quot;Medium&quot;</td><td>&quot;LAC&quot;</td><td>0.5445</td><td>0.506</td><td>0.4915</td></tr><tr><td>&quot;VNM&quot;</td><td>&quot;Viet Nam&quot;</td><td>&quot;Asia&quot;</td><td>&quot;Northern Hemis…</td><td>&quot;High&quot;</td><td>&quot;EAP&quot;</td><td>0.372</td><td>0.3215</td><td>0.308</td></tr><tr><td>&quot;VUT&quot;</td><td>&quot;Vanuatu&quot;</td><td>&quot;Oceania&quot;</td><td>&quot;Southern Hemis…</td><td>&quot;Medium&quot;</td><td>&quot;EAP&quot;</td><td>null</td><td>null</td><td>null</td></tr><tr><td>&quot;WSM&quot;</td><td>&quot;Samoa&quot;</td><td>&quot;Oceania&quot;</td><td>&quot;Southern Hemis…</td><td>&quot;High&quot;</td><td>&quot;EAP&quot;</td><td>null</td><td>null</td><td>0.4485</td></tr><tr><td>&quot;YEM&quot;</td><td>&quot;Yemen&quot;</td><td>&quot;Asia&quot;</td><td>&quot;Northern Hemis…</td><td>&quot;Low&quot;</td><td>&quot;AS&quot;</td><td>0.807</td><td>0.8015</td><td>0.8095</td></tr><tr><td>&quot;ZAF&quot;</td><td>&quot;South Africa&quot;</td><td>&quot;Africa&quot;</td><td>&quot;Southern Hemis…</td><td>&quot;High&quot;</td><td>&quot;SSA&quot;</td><td>0.485</td><td>0.4495</td><td>0.423</td></tr><tr><td>&quot;ZMB&quot;</td><td>&quot;Zambia&quot;</td><td>&quot;Africa&quot;</td><td>&quot;Southern Hemis…</td><td>&quot;Medium&quot;</td><td>&quot;SSA&quot;</td><td>0.657</td><td>0.617</td><td>0.565</td></tr><tr><td>&quot;ZWE&quot;</td><td>&quot;Zimbabwe&quot;</td><td>&quot;Africa&quot;</td><td>&quot;Southern Hemis…</td><td>&quot;Medium&quot;</td><td>&quot;SSA&quot;</td><td>0.6035</td><td>0.6085</td><td>0.5595</td></tr></tbody></table></div>"
      ],
      "text/plain": [
       "shape: (195, 9)\n",
       "┌──────┬────────────┬───────────┬────────────┬───┬────────────┬────────────┬───────────┬───────────┐\n",
       "│ ISO3 ┆ Country    ┆ Continent ┆ Hemisphere ┆ … ┆ UNDP       ┆ Gender     ┆ Gender    ┆ Gender    │\n",
       "│ ---  ┆ ---        ┆ ---       ┆ ---        ┆   ┆ Developing ┆ Inequality ┆ Inequalit ┆ Inequalit │\n",
       "│ str  ┆ str        ┆ str       ┆ str        ┆   ┆ Regions    ┆ Index      ┆ y Index   ┆ y Index   │\n",
       "│      ┆            ┆           ┆            ┆   ┆ ---        ┆ Average …  ┆ Average … ┆ Average … │\n",
       "│      ┆            ┆           ┆            ┆   ┆ str        ┆ ---        ┆ ---       ┆ ---       │\n",
       "│      ┆            ┆           ┆            ┆   ┆            ┆ f64        ┆ f64       ┆ f64       │\n",
       "╞══════╪════════════╪═══════════╪════════════╪═══╪════════════╪════════════╪═══════════╪═══════════╡\n",
       "│ AFG  ┆ Afghanista ┆ Asia      ┆ Northern   ┆ … ┆ SA         ┆ null       ┆ 0.753     ┆ 0.712     │\n",
       "│      ┆ n          ┆           ┆ Hemisphere ┆   ┆            ┆            ┆           ┆           │\n",
       "│ AGO  ┆ Angola     ┆ Africa    ┆ Southern   ┆ … ┆ SSA        ┆ 0.7015     ┆ 0.611     ┆ 0.5405    │\n",
       "│      ┆            ┆           ┆ Hemisphere ┆   ┆            ┆            ┆           ┆           │\n",
       "│ ALB  ┆ Albania    ┆ Europe    ┆ Northern   ┆ … ┆ ECA        ┆ 0.33       ┆ 0.2825    ┆ 0.198     │\n",
       "│      ┆            ┆           ┆ Hemisphere ┆   ┆            ┆            ┆           ┆           │\n",
       "│ AND  ┆ Andorra    ┆ Europe    ┆ Northern   ┆ … ┆ null       ┆ null       ┆ null      ┆ null      │\n",
       "│      ┆            ┆           ┆ Hemisphere ┆   ┆            ┆            ┆           ┆           │\n",
       "│ …    ┆ …          ┆ …         ┆ …          ┆ … ┆ …          ┆ …          ┆ …         ┆ …         │\n",
       "│ YEM  ┆ Yemen      ┆ Asia      ┆ Northern   ┆ … ┆ AS         ┆ 0.807      ┆ 0.8015    ┆ 0.8095    │\n",
       "│      ┆            ┆           ┆ Hemisphere ┆   ┆            ┆            ┆           ┆           │\n",
       "│ ZAF  ┆ South      ┆ Africa    ┆ Southern   ┆ … ┆ SSA        ┆ 0.485      ┆ 0.4495    ┆ 0.423     │\n",
       "│      ┆ Africa     ┆           ┆ Hemisphere ┆   ┆            ┆            ┆           ┆           │\n",
       "│ ZMB  ┆ Zambia     ┆ Africa    ┆ Southern   ┆ … ┆ SSA        ┆ 0.657      ┆ 0.617     ┆ 0.565     │\n",
       "│      ┆            ┆           ┆ Hemisphere ┆   ┆            ┆            ┆           ┆           │\n",
       "│ ZWE  ┆ Zimbabwe   ┆ Africa    ┆ Southern   ┆ … ┆ SSA        ┆ 0.6035     ┆ 0.6085    ┆ 0.5595    │\n",
       "│      ┆            ┆           ┆ Hemisphere ┆   ┆            ┆            ┆           ┆           │\n",
       "└──────┴────────────┴───────────┴────────────┴───┴────────────┴────────────┴───────────┴───────────┘"
      ]
     },
     "execution_count": 38,
     "metadata": {},
     "output_type": "execute_result"
    }
   ],
   "source": [
    "GI_Decades"
   ]
  },
  {
   "cell_type": "code",
   "execution_count": 39,
   "metadata": {},
   "outputs": [
    {
     "data": {
      "text/html": [
       "<div><style>\n",
       ".dataframe > thead > tr,\n",
       ".dataframe > tbody > tr {\n",
       "  text-align: right;\n",
       "  white-space: pre-wrap;\n",
       "}\n",
       "</style>\n",
       "<small>shape: (102, 9)</small><table border=\"1\" class=\"dataframe\"><thead><tr><th>ISO3</th><th>Country</th><th>Continent</th><th>Hemisphere</th><th>Human Development Groups</th><th>UNDP Developing Regions</th><th>Gender Inequality Index Average (1990-1999)</th><th>Gender Inequality Index Average (2000-2010)</th><th>Gender Inequality Index Average (2011-2021)</th></tr><tr><td>str</td><td>str</td><td>str</td><td>str</td><td>str</td><td>str</td><td>f64</td><td>f64</td><td>f64</td></tr></thead><tbody><tr><td>&quot;AGO&quot;</td><td>&quot;Angola&quot;</td><td>&quot;Africa&quot;</td><td>&quot;Southern Hemis…</td><td>&quot;Medium&quot;</td><td>&quot;SSA&quot;</td><td>0.7015</td><td>0.611</td><td>0.5405</td></tr><tr><td>&quot;ALB&quot;</td><td>&quot;Albania&quot;</td><td>&quot;Europe&quot;</td><td>&quot;Northern Hemis…</td><td>&quot;High&quot;</td><td>&quot;ECA&quot;</td><td>0.33</td><td>0.2825</td><td>0.198</td></tr><tr><td>&quot;ARE&quot;</td><td>&quot;United Arab Em…</td><td>&quot;Asia&quot;</td><td>&quot;Northern Hemis…</td><td>&quot;Very High&quot;</td><td>&quot;AS&quot;</td><td>0.632</td><td>0.39</td><td>0.115</td></tr><tr><td>&quot;ARG&quot;</td><td>&quot;Argentina&quot;</td><td>&quot;America&quot;</td><td>&quot;Southern Hemis…</td><td>&quot;Very High&quot;</td><td>&quot;LAC&quot;</td><td>0.4285</td><td>0.3885</td><td>0.3245</td></tr><tr><td>&quot;ARM&quot;</td><td>&quot;Armenia&quot;</td><td>&quot;Asia&quot;</td><td>&quot;Northern Hemis…</td><td>&quot;High&quot;</td><td>&quot;ECA&quot;</td><td>0.466</td><td>0.3995</td><td>0.279</td></tr><tr><td>&quot;AZE&quot;</td><td>&quot;Azerbaijan&quot;</td><td>&quot;Asia&quot;</td><td>&quot;Northern Hemis…</td><td>&quot;High&quot;</td><td>&quot;ECA&quot;</td><td>0.351</td><td>0.346</td><td>0.3165</td></tr><tr><td>&quot;BDI&quot;</td><td>&quot;Burundi&quot;</td><td>&quot;Africa&quot;</td><td>&quot;Southern Hemis…</td><td>&quot;Low&quot;</td><td>&quot;SSA&quot;</td><td>0.655</td><td>0.578</td><td>0.521</td></tr><tr><td>&quot;BEN&quot;</td><td>&quot;Benin&quot;</td><td>&quot;Africa&quot;</td><td>&quot;Northern Hemis…</td><td>&quot;Low&quot;</td><td>&quot;SSA&quot;</td><td>0.6855</td><td>0.646</td><td>0.614</td></tr><tr><td>&quot;BFA&quot;</td><td>&quot;Burkina Faso&quot;</td><td>&quot;Africa&quot;</td><td>&quot;Northern Hemis…</td><td>&quot;Low&quot;</td><td>&quot;SSA&quot;</td><td>0.68</td><td>0.646</td><td>0.617</td></tr><tr><td>&quot;BGD&quot;</td><td>&quot;Bangladesh&quot;</td><td>&quot;Asia&quot;</td><td>&quot;Northern Hemis…</td><td>&quot;Medium&quot;</td><td>&quot;SA&quot;</td><td>0.7105</td><td>0.648</td><td>0.562</td></tr><tr><td>&quot;BHS&quot;</td><td>&quot;Bahamas&quot;</td><td>&quot;America&quot;</td><td>&quot;Northern Hemis…</td><td>&quot;Very High&quot;</td><td>&quot;LAC&quot;</td><td>0.3945</td><td>0.376</td><td>0.3455</td></tr><tr><td>&quot;BLZ&quot;</td><td>&quot;Belize&quot;</td><td>&quot;America&quot;</td><td>&quot;Northern Hemis…</td><td>&quot;Medium&quot;</td><td>&quot;LAC&quot;</td><td>0.5305</td><td>0.483</td><td>0.4085</td></tr><tr><td>&hellip;</td><td>&hellip;</td><td>&hellip;</td><td>&hellip;</td><td>&hellip;</td><td>&hellip;</td><td>&hellip;</td><td>&hellip;</td><td>&hellip;</td></tr><tr><td>&quot;TUN&quot;</td><td>&quot;Tunisia&quot;</td><td>&quot;Africa&quot;</td><td>&quot;Northern Hemis…</td><td>&quot;High&quot;</td><td>&quot;AS&quot;</td><td>0.48</td><td>0.342</td><td>0.2745</td></tr><tr><td>&quot;TUR&quot;</td><td>&quot;Turkey&quot;</td><td>&quot;Asia&quot;</td><td>&quot;Northern Hemis…</td><td>&quot;Very High&quot;</td><td>&quot;ECA&quot;</td><td>0.5825</td><td>0.4875</td><td>0.327</td></tr><tr><td>&quot;TZA&quot;</td><td>&quot;Tanzania&quot;</td><td>&quot;Africa&quot;</td><td>&quot;Southern Hemis…</td><td>&quot;Low&quot;</td><td>&quot;SSA&quot;</td><td>0.6505</td><td>0.6105</td><td>0.5655</td></tr><tr><td>&quot;UGA&quot;</td><td>&quot;Uganda&quot;</td><td>&quot;Africa&quot;</td><td>&quot;Northern Hemis…</td><td>&quot;Low&quot;</td><td>&quot;SSA&quot;</td><td>0.653</td><td>0.6005</td><td>0.542</td></tr><tr><td>&quot;UKR&quot;</td><td>&quot;Ukraine&quot;</td><td>&quot;Europe&quot;</td><td>&quot;Northern Hemis…</td><td>&quot;High&quot;</td><td>&quot;ECA&quot;</td><td>0.4195</td><td>0.341</td><td>0.259</td></tr><tr><td>&quot;URY&quot;</td><td>&quot;Uruguay&quot;</td><td>&quot;America&quot;</td><td>&quot;Southern Hemis…</td><td>&quot;Very High&quot;</td><td>&quot;LAC&quot;</td><td>0.406</td><td>0.351</td><td>0.2825</td></tr><tr><td>&quot;VEN&quot;</td><td>&quot;Venezuela&quot;</td><td>&quot;America&quot;</td><td>&quot;Northern Hemis…</td><td>&quot;Medium&quot;</td><td>&quot;LAC&quot;</td><td>0.5445</td><td>0.506</td><td>0.4915</td></tr><tr><td>&quot;VNM&quot;</td><td>&quot;Viet Nam&quot;</td><td>&quot;Asia&quot;</td><td>&quot;Northern Hemis…</td><td>&quot;High&quot;</td><td>&quot;EAP&quot;</td><td>0.372</td><td>0.3215</td><td>0.308</td></tr><tr><td>&quot;YEM&quot;</td><td>&quot;Yemen&quot;</td><td>&quot;Asia&quot;</td><td>&quot;Northern Hemis…</td><td>&quot;Low&quot;</td><td>&quot;AS&quot;</td><td>0.807</td><td>0.8015</td><td>0.8095</td></tr><tr><td>&quot;ZAF&quot;</td><td>&quot;South Africa&quot;</td><td>&quot;Africa&quot;</td><td>&quot;Southern Hemis…</td><td>&quot;High&quot;</td><td>&quot;SSA&quot;</td><td>0.485</td><td>0.4495</td><td>0.423</td></tr><tr><td>&quot;ZMB&quot;</td><td>&quot;Zambia&quot;</td><td>&quot;Africa&quot;</td><td>&quot;Southern Hemis…</td><td>&quot;Medium&quot;</td><td>&quot;SSA&quot;</td><td>0.657</td><td>0.617</td><td>0.565</td></tr><tr><td>&quot;ZWE&quot;</td><td>&quot;Zimbabwe&quot;</td><td>&quot;Africa&quot;</td><td>&quot;Southern Hemis…</td><td>&quot;Medium&quot;</td><td>&quot;SSA&quot;</td><td>0.6035</td><td>0.6085</td><td>0.5595</td></tr></tbody></table></div>"
      ],
      "text/plain": [
       "shape: (102, 9)\n",
       "┌──────┬────────────┬───────────┬────────────┬───┬────────────┬────────────┬───────────┬───────────┐\n",
       "│ ISO3 ┆ Country    ┆ Continent ┆ Hemisphere ┆ … ┆ UNDP       ┆ Gender     ┆ Gender    ┆ Gender    │\n",
       "│ ---  ┆ ---        ┆ ---       ┆ ---        ┆   ┆ Developing ┆ Inequality ┆ Inequalit ┆ Inequalit │\n",
       "│ str  ┆ str        ┆ str       ┆ str        ┆   ┆ Regions    ┆ Index      ┆ y Index   ┆ y Index   │\n",
       "│      ┆            ┆           ┆            ┆   ┆ ---        ┆ Average …  ┆ Average … ┆ Average … │\n",
       "│      ┆            ┆           ┆            ┆   ┆ str        ┆ ---        ┆ ---       ┆ ---       │\n",
       "│      ┆            ┆           ┆            ┆   ┆            ┆ f64        ┆ f64       ┆ f64       │\n",
       "╞══════╪════════════╪═══════════╪════════════╪═══╪════════════╪════════════╪═══════════╪═══════════╡\n",
       "│ AGO  ┆ Angola     ┆ Africa    ┆ Southern   ┆ … ┆ SSA        ┆ 0.7015     ┆ 0.611     ┆ 0.5405    │\n",
       "│      ┆            ┆           ┆ Hemisphere ┆   ┆            ┆            ┆           ┆           │\n",
       "│ ALB  ┆ Albania    ┆ Europe    ┆ Northern   ┆ … ┆ ECA        ┆ 0.33       ┆ 0.2825    ┆ 0.198     │\n",
       "│      ┆            ┆           ┆ Hemisphere ┆   ┆            ┆            ┆           ┆           │\n",
       "│ ARE  ┆ United     ┆ Asia      ┆ Northern   ┆ … ┆ AS         ┆ 0.632      ┆ 0.39      ┆ 0.115     │\n",
       "│      ┆ Arab       ┆           ┆ Hemisphere ┆   ┆            ┆            ┆           ┆           │\n",
       "│      ┆ Emirates   ┆           ┆            ┆   ┆            ┆            ┆           ┆           │\n",
       "│ ARG  ┆ Argentina  ┆ America   ┆ Southern   ┆ … ┆ LAC        ┆ 0.4285     ┆ 0.3885    ┆ 0.3245    │\n",
       "│      ┆            ┆           ┆ Hemisphere ┆   ┆            ┆            ┆           ┆           │\n",
       "│ …    ┆ …          ┆ …         ┆ …          ┆ … ┆ …          ┆ …          ┆ …         ┆ …         │\n",
       "│ YEM  ┆ Yemen      ┆ Asia      ┆ Northern   ┆ … ┆ AS         ┆ 0.807      ┆ 0.8015    ┆ 0.8095    │\n",
       "│      ┆            ┆           ┆ Hemisphere ┆   ┆            ┆            ┆           ┆           │\n",
       "│ ZAF  ┆ South      ┆ Africa    ┆ Southern   ┆ … ┆ SSA        ┆ 0.485      ┆ 0.4495    ┆ 0.423     │\n",
       "│      ┆ Africa     ┆           ┆ Hemisphere ┆   ┆            ┆            ┆           ┆           │\n",
       "│ ZMB  ┆ Zambia     ┆ Africa    ┆ Southern   ┆ … ┆ SSA        ┆ 0.657      ┆ 0.617     ┆ 0.565     │\n",
       "│      ┆            ┆           ┆ Hemisphere ┆   ┆            ┆            ┆           ┆           │\n",
       "│ ZWE  ┆ Zimbabwe   ┆ Africa    ┆ Southern   ┆ … ┆ SSA        ┆ 0.6035     ┆ 0.6085    ┆ 0.5595    │\n",
       "│      ┆            ┆           ┆ Hemisphere ┆   ┆            ┆            ┆           ┆           │\n",
       "└──────┴────────────┴───────────┴────────────┴───┴────────────┴────────────┴───────────┴───────────┘"
      ]
     },
     "execution_count": 39,
     "metadata": {},
     "output_type": "execute_result"
    }
   ],
   "source": [
    "GI_Decades.drop_nulls()"
   ]
  },
  {
   "cell_type": "code",
   "execution_count": 78,
   "metadata": {},
   "outputs": [
    {
     "data": {
      "text/html": [
       "<div><style>\n",
       ".dataframe > thead > tr,\n",
       ".dataframe > tbody > tr {\n",
       "  text-align: right;\n",
       "  white-space: pre-wrap;\n",
       "}\n",
       "</style>\n",
       "<small>shape: (177, 16)</small><table border=\"1\" class=\"dataframe\"><thead><tr><th>HDI rank</th><th>Country</th><th>Human Development Index (HDI Value) </th><th>Life expectancy at birth (years)</th><th>Expected years of schooling (years)</th><th>Mean years of schooling (years)</th><th>Gross national income (GNI) per capita (2017 PPP $)</th><th>GNI per capita rank minus HDI rank</th><th>ISO3</th><th>Continent</th><th>Hemisphere</th><th>Human Development Groups</th><th>UNDP Developing Regions</th><th>Gender Inequality Index Average (1990-1999)</th><th>Gender Inequality Index Average (2000-2010)</th><th>Gender Inequality Index Average (2011-2021)</th></tr><tr><td>i64</td><td>str</td><td>f64</td><td>f64</td><td>f64</td><td>f64</td><td>str</td><td>i64</td><td>str</td><td>str</td><td>str</td><td>str</td><td>str</td><td>f64</td><td>f64</td><td>f64</td></tr></thead><tbody><tr><td>180</td><td>&quot;Afghanistan&quot;</td><td>0.478</td><td>62.0</td><td>10.3</td><td>3.0</td><td>&quot;1,824&quot;</td><td>-2</td><td>&quot;AFG&quot;</td><td>&quot;Asia&quot;</td><td>&quot;Northern Hemis…</td><td>&quot;Low&quot;</td><td>&quot;SA&quot;</td><td>null</td><td>0.753</td><td>0.712</td></tr><tr><td>148</td><td>&quot;Angola&quot;</td><td>0.586</td><td>61.6</td><td>12.2</td><td>5.4</td><td>&quot;5,466&quot;</td><td>-14</td><td>&quot;AGO&quot;</td><td>&quot;Africa&quot;</td><td>&quot;Southern Hemis…</td><td>&quot;Medium&quot;</td><td>&quot;SSA&quot;</td><td>0.7015</td><td>0.611</td><td>0.5405</td></tr><tr><td>67</td><td>&quot;Albania&quot;</td><td>0.796</td><td>76.5</td><td>14.4</td><td>11.3</td><td>&quot;14,131&quot;</td><td>17</td><td>&quot;ALB&quot;</td><td>&quot;Europe&quot;</td><td>&quot;Northern Hemis…</td><td>&quot;High&quot;</td><td>&quot;ECA&quot;</td><td>0.33</td><td>0.2825</td><td>0.198</td></tr><tr><td>40</td><td>&quot;Andorra&quot;</td><td>0.858</td><td>80.4</td><td>13.3</td><td>10.6</td><td>&quot;51,167&quot;</td><td>-19</td><td>&quot;AND&quot;</td><td>&quot;Europe&quot;</td><td>&quot;Northern Hemis…</td><td>&quot;Very High&quot;</td><td>null</td><td>null</td><td>null</td><td>null</td></tr><tr><td>26</td><td>&quot;United Arab Em…</td><td>0.911</td><td>78.7</td><td>15.7</td><td>12.7</td><td>&quot;62,574&quot;</td><td>-15</td><td>&quot;ARE&quot;</td><td>&quot;Asia&quot;</td><td>&quot;Northern Hemis…</td><td>&quot;Very High&quot;</td><td>&quot;AS&quot;</td><td>0.632</td><td>0.39</td><td>0.115</td></tr><tr><td>47</td><td>&quot;Argentina&quot;</td><td>0.842</td><td>75.4</td><td>17.9</td><td>11.1</td><td>&quot;20,925&quot;</td><td>17</td><td>&quot;ARG&quot;</td><td>&quot;America&quot;</td><td>&quot;Southern Hemis…</td><td>&quot;Very High&quot;</td><td>&quot;LAC&quot;</td><td>0.4285</td><td>0.3885</td><td>0.3245</td></tr><tr><td>85</td><td>&quot;Armenia&quot;</td><td>0.759</td><td>72.0</td><td>13.1</td><td>11.3</td><td>&quot;13,158&quot;</td><td>4</td><td>&quot;ARM&quot;</td><td>&quot;Asia&quot;</td><td>&quot;Northern Hemis…</td><td>&quot;High&quot;</td><td>&quot;ECA&quot;</td><td>0.466</td><td>0.3995</td><td>0.279</td></tr><tr><td>71</td><td>&quot;Antigua and Ba…</td><td>0.788</td><td>78.5</td><td>14.2</td><td>9.3</td><td>&quot;16,792&quot;</td><td>2</td><td>&quot;ATG&quot;</td><td>&quot;America&quot;</td><td>&quot;Northern Hemis…</td><td>&quot;High&quot;</td><td>&quot;LAC&quot;</td><td>null</td><td>null</td><td>null</td></tr><tr><td>5</td><td>&quot;Australia&quot;</td><td>0.951</td><td>84.5</td><td>21.1</td><td>12.7</td><td>&quot;49,238&quot;</td><td>18</td><td>&quot;AUS&quot;</td><td>&quot;Oceania&quot;</td><td>&quot;Southern Hemis…</td><td>&quot;Very High&quot;</td><td>null</td><td>0.1705</td><td>0.1435</td><td>0.102</td></tr><tr><td>25</td><td>&quot;Austria&quot;</td><td>0.916</td><td>81.6</td><td>16.0</td><td>12.3</td><td>&quot;53,619&quot;</td><td>-8</td><td>&quot;AUT&quot;</td><td>&quot;Europe&quot;</td><td>&quot;Northern Hemis…</td><td>&quot;Very High&quot;</td><td>null</td><td>0.1745</td><td>0.13</td><td>0.078</td></tr><tr><td>91</td><td>&quot;Azerbaijan&quot;</td><td>0.745</td><td>69.4</td><td>13.5</td><td>10.5</td><td>&quot;14,257&quot;</td><td>-8</td><td>&quot;AZE&quot;</td><td>&quot;Asia&quot;</td><td>&quot;Northern Hemis…</td><td>&quot;High&quot;</td><td>&quot;ECA&quot;</td><td>0.351</td><td>0.346</td><td>0.3165</td></tr><tr><td>187</td><td>&quot;Burundi&quot;</td><td>0.426</td><td>61.7</td><td>10.7</td><td>3.1</td><td>&quot;732&quot;</td><td>4</td><td>&quot;BDI&quot;</td><td>&quot;Africa&quot;</td><td>&quot;Southern Hemis…</td><td>&quot;Low&quot;</td><td>&quot;SSA&quot;</td><td>0.655</td><td>0.578</td><td>0.521</td></tr><tr><td>&hellip;</td><td>&hellip;</td><td>&hellip;</td><td>&hellip;</td><td>&hellip;</td><td>&hellip;</td><td>&hellip;</td><td>&hellip;</td><td>&hellip;</td><td>&hellip;</td><td>&hellip;</td><td>&hellip;</td><td>&hellip;</td><td>&hellip;</td><td>&hellip;</td><td>&hellip;</td></tr><tr><td>77</td><td>&quot;Ukraine&quot;</td><td>0.773</td><td>71.6</td><td>15.0</td><td>11.1</td><td>&quot;13,256&quot;</td><td>11</td><td>&quot;UKR&quot;</td><td>&quot;Europe&quot;</td><td>&quot;Northern Hemis…</td><td>&quot;High&quot;</td><td>&quot;ECA&quot;</td><td>0.4195</td><td>0.341</td><td>0.259</td></tr><tr><td>58</td><td>&quot;Uruguay&quot;</td><td>0.809</td><td>75.4</td><td>16.8</td><td>9.0</td><td>&quot;21,269&quot;</td><td>5</td><td>&quot;URY&quot;</td><td>&quot;America&quot;</td><td>&quot;Southern Hemis…</td><td>&quot;Very High&quot;</td><td>&quot;LAC&quot;</td><td>0.406</td><td>0.351</td><td>0.2825</td></tr><tr><td>21</td><td>&quot;United States&quot;</td><td>0.921</td><td>77.2</td><td>16.3</td><td>13.7</td><td>&quot;64,765&quot;</td><td>-14</td><td>&quot;USA&quot;</td><td>&quot;America&quot;</td><td>&quot;Northern Hemis…</td><td>&quot;Very High&quot;</td><td>null</td><td>0.2855</td><td>0.2615</td><td>0.21</td></tr><tr><td>101</td><td>&quot;Uzbekistan&quot;</td><td>0.727</td><td>70.9</td><td>12.5</td><td>11.9</td><td>&quot;7,917&quot;</td><td>18</td><td>&quot;UZB&quot;</td><td>&quot;Asia&quot;</td><td>&quot;Northern Hemis…</td><td>&quot;High&quot;</td><td>&quot;ECA&quot;</td><td>null</td><td>0.3145</td><td>0.259</td></tr><tr><td>89</td><td>&quot;Saint Vincent …</td><td>0.751</td><td>69.6</td><td>14.7</td><td>10.8</td><td>&quot;11,961&quot;</td><td>11</td><td>&quot;VCT&quot;</td><td>&quot;America&quot;</td><td>&quot;Northern Hemis…</td><td>&quot;High&quot;</td><td>&quot;LAC&quot;</td><td>null</td><td>null</td><td>0.39</td></tr><tr><td>115</td><td>&quot;Viet Nam&quot;</td><td>0.703</td><td>73.6</td><td>13.0</td><td>8.4</td><td>&quot;7,867&quot;</td><td>6</td><td>&quot;VNM&quot;</td><td>&quot;Asia&quot;</td><td>&quot;Northern Hemis…</td><td>&quot;High&quot;</td><td>&quot;EAP&quot;</td><td>0.372</td><td>0.3215</td><td>0.308</td></tr><tr><td>140</td><td>&quot;Vanuatu&quot;</td><td>0.607</td><td>70.4</td><td>11.5</td><td>7.1</td><td>&quot;3,085&quot;</td><td>23</td><td>&quot;VUT&quot;</td><td>&quot;Oceania&quot;</td><td>&quot;Southern Hemis…</td><td>&quot;Medium&quot;</td><td>&quot;EAP&quot;</td><td>null</td><td>null</td><td>null</td></tr><tr><td>111</td><td>&quot;Samoa&quot;</td><td>0.707</td><td>72.8</td><td>12.4</td><td>11.4</td><td>&quot;5,308&quot;</td><td>24</td><td>&quot;WSM&quot;</td><td>&quot;Oceania&quot;</td><td>&quot;Southern Hemis…</td><td>&quot;High&quot;</td><td>&quot;EAP&quot;</td><td>null</td><td>null</td><td>0.4485</td></tr><tr><td>183</td><td>&quot;Yemen&quot;</td><td>0.455</td><td>63.8</td><td>9.1</td><td>3.2</td><td>&quot;1,314&quot;</td><td>1</td><td>&quot;YEM&quot;</td><td>&quot;Asia&quot;</td><td>&quot;Northern Hemis…</td><td>&quot;Low&quot;</td><td>&quot;AS&quot;</td><td>0.807</td><td>0.8015</td><td>0.8095</td></tr><tr><td>109</td><td>&quot;South Africa&quot;</td><td>0.713</td><td>62.3</td><td>13.6</td><td>11.4</td><td>&quot;12,948&quot;</td><td>-17</td><td>&quot;ZAF&quot;</td><td>&quot;Africa&quot;</td><td>&quot;Southern Hemis…</td><td>&quot;High&quot;</td><td>&quot;SSA&quot;</td><td>0.485</td><td>0.4495</td><td>0.423</td></tr><tr><td>154</td><td>&quot;Zambia&quot;</td><td>0.565</td><td>61.2</td><td>10.9</td><td>7.2</td><td>&quot;3,218&quot;</td><td>7</td><td>&quot;ZMB&quot;</td><td>&quot;Africa&quot;</td><td>&quot;Southern Hemis…</td><td>&quot;Medium&quot;</td><td>&quot;SSA&quot;</td><td>0.657</td><td>0.617</td><td>0.565</td></tr><tr><td>146</td><td>&quot;Zimbabwe&quot;</td><td>0.593</td><td>59.3</td><td>12.1</td><td>8.7</td><td>&quot;3,810&quot;</td><td>9</td><td>&quot;ZWE&quot;</td><td>&quot;Africa&quot;</td><td>&quot;Southern Hemis…</td><td>&quot;Medium&quot;</td><td>&quot;SSA&quot;</td><td>0.6035</td><td>0.6085</td><td>0.5595</td></tr></tbody></table></div>"
      ],
      "text/plain": [
       "shape: (177, 16)\n",
       "┌──────────┬───────────┬───────────┬───────────┬───┬───────────┬───────────┬───────────┬───────────┐\n",
       "│ HDI rank ┆ Country   ┆ Human Dev ┆ Life expe ┆ … ┆ UNDP Deve ┆ Gender    ┆ Gender    ┆ Gender    │\n",
       "│ ---      ┆ ---       ┆ elopment  ┆ ctancy at ┆   ┆ loping    ┆ Inequalit ┆ Inequalit ┆ Inequalit │\n",
       "│ i64      ┆ str       ┆ Index     ┆ birth     ┆   ┆ Regions   ┆ y Index   ┆ y Index   ┆ y Index   │\n",
       "│          ┆           ┆ (HDI Val… ┆ (years)   ┆   ┆ ---       ┆ Average … ┆ Average … ┆ Average … │\n",
       "│          ┆           ┆ ---       ┆ ---       ┆   ┆ str       ┆ ---       ┆ ---       ┆ ---       │\n",
       "│          ┆           ┆ f64       ┆ f64       ┆   ┆           ┆ f64       ┆ f64       ┆ f64       │\n",
       "╞══════════╪═══════════╪═══════════╪═══════════╪═══╪═══════════╪═══════════╪═══════════╪═══════════╡\n",
       "│ 180      ┆ Afghanist ┆ 0.478     ┆ 62.0      ┆ … ┆ SA        ┆ null      ┆ 0.753     ┆ 0.712     │\n",
       "│          ┆ an        ┆           ┆           ┆   ┆           ┆           ┆           ┆           │\n",
       "│ 148      ┆ Angola    ┆ 0.586     ┆ 61.6      ┆ … ┆ SSA       ┆ 0.7015    ┆ 0.611     ┆ 0.5405    │\n",
       "│ 67       ┆ Albania   ┆ 0.796     ┆ 76.5      ┆ … ┆ ECA       ┆ 0.33      ┆ 0.2825    ┆ 0.198     │\n",
       "│ 40       ┆ Andorra   ┆ 0.858     ┆ 80.4      ┆ … ┆ null      ┆ null      ┆ null      ┆ null      │\n",
       "│ …        ┆ …         ┆ …         ┆ …         ┆ … ┆ …         ┆ …         ┆ …         ┆ …         │\n",
       "│ 183      ┆ Yemen     ┆ 0.455     ┆ 63.8      ┆ … ┆ AS        ┆ 0.807     ┆ 0.8015    ┆ 0.8095    │\n",
       "│ 109      ┆ South     ┆ 0.713     ┆ 62.3      ┆ … ┆ SSA       ┆ 0.485     ┆ 0.4495    ┆ 0.423     │\n",
       "│          ┆ Africa    ┆           ┆           ┆   ┆           ┆           ┆           ┆           │\n",
       "│ 154      ┆ Zambia    ┆ 0.565     ┆ 61.2      ┆ … ┆ SSA       ┆ 0.657     ┆ 0.617     ┆ 0.565     │\n",
       "│ 146      ┆ Zimbabwe  ┆ 0.593     ┆ 59.3      ┆ … ┆ SSA       ┆ 0.6035    ┆ 0.6085    ┆ 0.5595    │\n",
       "└──────────┴───────────┴───────────┴───────────┴───┴───────────┴───────────┴───────────┴───────────┘"
      ]
     },
     "execution_count": 78,
     "metadata": {},
     "output_type": "execute_result"
    }
   ],
   "source": [
    "GI_join=HDI_df.join(GI_Decades, on=\"Country\")\n",
    "GI_join"
   ]
  },
  {
   "cell_type": "code",
   "execution_count": 89,
   "metadata": {},
   "outputs": [],
   "source": [
    "# MM_join=HDI_df.join(MM_Decades, on=\"Country\")\n",
    "x=GI_join.join(MM_join, on=\"Country\")\n",
    "# x"
   ]
  },
  {
   "cell_type": "code",
   "execution_count": null,
   "metadata": {},
   "outputs": [],
   "source": []
  },
  {
   "cell_type": "code",
   "execution_count": 88,
   "metadata": {},
   "outputs": [],
   "source": [
    "Main_Dataset=x.drop(['HDI rank_right', 'Human Development Index (HDI Value) _right', 'Life expectancy at birth (years)_right',\n",
    "                'Expected years of schooling (years)_right', 'Mean years of schooling (years)_right', 'Gross national income (GNI) per capita (2017 PPP $)_right',\n",
    "                'GNI per capita rank minus HDI rank_right', 'ISO3_right', 'Continent_right', 'Hemisphere_right', 'Human Development Groups_right',\n",
    "                'UNDP Developeing Regions', 'HDI Rank (2021)', 'ISO3'])\n",
    "# Main_Dataset"
   ]
  },
  {
   "cell_type": "code",
   "execution_count": 85,
   "metadata": {},
   "outputs": [],
   "source": [
    "Main_Dataset_Clean=Main_Dataset.sort('HDI rank')"
   ]
  },
  {
   "cell_type": "code",
   "execution_count": 92,
   "metadata": {},
   "outputs": [],
   "source": [
    "Low_North=Main_Dataset_Clean.filter(pl.col(\"Hemisphere\")==\"Northern Hemisphere\", pl.col(\"Human Development Groups\")==\"Low\")\n",
    "Medium_North=Main_Dataset_Clean.filter(pl.col(\"Hemisphere\")==\"Northern Hemisphere\", pl.col(\"Human Development Groups\")==\"Medium\")\n",
    "High_North=Main_Dataset_Clean.filter(pl.col(\"Hemisphere\")==\"Northern Hemisphere\", pl.col(\"Human Development Groups\")==\"High\")\n",
    "Very_High_North=Main_Dataset_Clean.filter(pl.col(\"Hemisphere\")==\"Northern Hemisphere\", pl.col(\"Human Development Groups\")==\"Very High\")"
   ]
  },
  {
   "cell_type": "code",
   "execution_count": 94,
   "metadata": {},
   "outputs": [],
   "source": [
    "North_df=Main_Dataset_Clean.filter(pl.col('Hemisphere')==\"Northern Hemisphere\")\n",
    "# North_df"
   ]
  },
  {
   "cell_type": "code",
   "execution_count": 95,
   "metadata": {},
   "outputs": [
    {
     "data": {
      "text/html": [
       "<div><style>\n",
       ".dataframe > thead > tr,\n",
       ".dataframe > tbody > tr {\n",
       "  text-align: right;\n",
       "  white-space: pre-wrap;\n",
       "}\n",
       "</style>\n",
       "<small>shape: (35, 18)</small><table border=\"1\" class=\"dataframe\"><thead><tr><th>HDI rank</th><th>Country</th><th>Human Development Index (HDI Value) </th><th>Life expectancy at birth (years)</th><th>Expected years of schooling (years)</th><th>Mean years of schooling (years)</th><th>Gross national income (GNI) per capita (2017 PPP $)</th><th>GNI per capita rank minus HDI rank</th><th>Continent</th><th>Hemisphere</th><th>Human Development Groups</th><th>UNDP Developing Regions</th><th>Gender Inequality Index Average (1990-1999)</th><th>Gender Inequality Index Average (2000-2010)</th><th>Gender Inequality Index Average (2011-2021)</th><th>Maternal Mortality Ratio (deaths per 100,000 live births) Average (1990-1999)</th><th>Maternal Mortality Ratio (deaths per 100,000 live births) Average (2000-2010)</th><th>Maternal Mortality Ratio (deaths per 100,000 live births) Average (2011-2021)</th></tr><tr><td>i64</td><td>str</td><td>f64</td><td>f64</td><td>f64</td><td>f64</td><td>str</td><td>i64</td><td>str</td><td>str</td><td>str</td><td>str</td><td>f64</td><td>f64</td><td>f64</td><td>f64</td><td>f64</td><td>f64</td></tr></thead><tbody><tr><td>5</td><td>&quot;Australia&quot;</td><td>0.951</td><td>84.5</td><td>21.1</td><td>12.7</td><td>&quot;49,238&quot;</td><td>18</td><td>&quot;Oceania&quot;</td><td>&quot;Southern Hemis…</td><td>&quot;Very High&quot;</td><td>null</td><td>0.1705</td><td>0.1435</td><td>0.102</td><td>7.5</td><td>6.0</td><td>6.0</td></tr><tr><td>13</td><td>&quot;New Zealand&quot;</td><td>0.937</td><td>82.5</td><td>20.3</td><td>12.9</td><td>&quot;44,057&quot;</td><td>16</td><td>&quot;Oceania&quot;</td><td>&quot;Southern Hemis…</td><td>&quot;Very High&quot;</td><td>null</td><td>0.22</td><td>0.1805</td><td>0.124</td><td>15.0</td><td>11.5</td><td>9.5</td></tr><tr><td>42</td><td>&quot;Chile&quot;</td><td>0.855</td><td>78.9</td><td>16.7</td><td>10.9</td><td>&quot;24,563&quot;</td><td>14</td><td>&quot;America&quot;</td><td>&quot;Southern Hemis…</td><td>&quot;Very High&quot;</td><td>&quot;LAC&quot;</td><td>0.476</td><td>0.384</td><td>0.257</td><td>49.0</td><td>25.5</td><td>15.5</td></tr><tr><td>47</td><td>&quot;Argentina&quot;</td><td>0.842</td><td>75.4</td><td>17.9</td><td>11.1</td><td>&quot;20,925&quot;</td><td>17</td><td>&quot;America&quot;</td><td>&quot;Southern Hemis…</td><td>&quot;Very High&quot;</td><td>&quot;LAC&quot;</td><td>0.4285</td><td>0.3885</td><td>0.3245</td><td>77.0</td><td>58.5</td><td>43.5</td></tr><tr><td>58</td><td>&quot;Uruguay&quot;</td><td>0.809</td><td>75.4</td><td>16.8</td><td>9.0</td><td>&quot;21,269&quot;</td><td>5</td><td>&quot;America&quot;</td><td>&quot;Southern Hemis…</td><td>&quot;Very High&quot;</td><td>&quot;LAC&quot;</td><td>0.406</td><td>0.351</td><td>0.2825</td><td>31.5</td><td>21.5</td><td>17.0</td></tr><tr><td>63</td><td>&quot;Mauritius&quot;</td><td>0.802</td><td>73.6</td><td>15.2</td><td>10.4</td><td>&quot;22,025&quot;</td><td>-1</td><td>&quot;Africa&quot;</td><td>&quot;Southern Hemis…</td><td>&quot;Very High&quot;</td><td>&quot;SSA&quot;</td><td>0.4925</td><td>0.436</td><td>0.359</td><td>74.0</td><td>62.5</td><td>57.5</td></tr><tr><td>72</td><td>&quot;Seychelles&quot;</td><td>0.785</td><td>71.3</td><td>13.9</td><td>10.3</td><td>&quot;25,831&quot;</td><td>-17</td><td>&quot;Africa&quot;</td><td>&quot;Southern Hemis…</td><td>&quot;High&quot;</td><td>&quot;SSA&quot;</td><td>null</td><td>null</td><td>null</td><td>55.0</td><td>54.0</td><td>54.0</td></tr><tr><td>84</td><td>&quot;Peru&quot;</td><td>0.762</td><td>72.4</td><td>15.4</td><td>9.9</td><td>&quot;12,246&quot;</td><td>13</td><td>&quot;America&quot;</td><td>&quot;Southern Hemis…</td><td>&quot;High&quot;</td><td>&quot;LAC&quot;</td><td>0.547</td><td>0.4705</td><td>0.408</td><td>201.5</td><td>124.0</td><td>95.0</td></tr><tr><td>87</td><td>&quot;Brazil&quot;</td><td>0.754</td><td>72.8</td><td>15.6</td><td>8.1</td><td>&quot;14,370&quot;</td><td>-5</td><td>&quot;America&quot;</td><td>&quot;Southern Hemis…</td><td>&quot;High&quot;</td><td>&quot;LAC&quot;</td><td>0.534</td><td>0.4785</td><td>0.4185</td><td>95.0</td><td>67.0</td><td>60.5</td></tr><tr><td>91</td><td>&quot;Tonga&quot;</td><td>0.745</td><td>71.0</td><td>16.0</td><td>11.4</td><td>&quot;6,822&quot;</td><td>34</td><td>&quot;Oceania&quot;</td><td>&quot;Southern Hemis…</td><td>&quot;High&quot;</td><td>&quot;EAP&quot;</td><td>0.6885</td><td>0.655</td><td>0.5295</td><td>87.0</td><td>67.0</td><td>54.0</td></tr><tr><td>95</td><td>&quot;Ecuador&quot;</td><td>0.74</td><td>73.7</td><td>14.6</td><td>8.8</td><td>&quot;10,312&quot;</td><td>11</td><td>&quot;America&quot;</td><td>&quot;Southern Hemis…</td><td>&quot;High&quot;</td><td>&quot;LAC&quot;</td><td>0.556</td><td>0.4685</td><td>0.3965</td><td>161.0</td><td>100.0</td><td>67.5</td></tr><tr><td>99</td><td>&quot;Fiji&quot;</td><td>0.73</td><td>67.1</td><td>14.7</td><td>10.9</td><td>&quot;9,980&quot;</td><td>9</td><td>&quot;Oceania&quot;</td><td>&quot;Southern Hemis…</td><td>&quot;High&quot;</td><td>&quot;EAP&quot;</td><td>0.471</td><td>0.4065</td><td>0.3565</td><td>63.0</td><td>45.0</td><td>36.0</td></tr><tr><td>&hellip;</td><td>&hellip;</td><td>&hellip;</td><td>&hellip;</td><td>&hellip;</td><td>&hellip;</td><td>&hellip;</td><td>&hellip;</td><td>&hellip;</td><td>&hellip;</td><td>&hellip;</td><td>&hellip;</td><td>&hellip;</td><td>&hellip;</td><td>&hellip;</td><td>&hellip;</td><td>&hellip;</td><td>&hellip;</td></tr><tr><td>148</td><td>&quot;Angola&quot;</td><td>0.586</td><td>61.6</td><td>12.2</td><td>5.4</td><td>&quot;5,466&quot;</td><td>-14</td><td>&quot;Africa&quot;</td><td>&quot;Southern Hemis…</td><td>&quot;Medium&quot;</td><td>&quot;SSA&quot;</td><td>0.7015</td><td>0.611</td><td>0.5405</td><td>1029.5</td><td>576.5</td><td>270.5</td></tr><tr><td>153</td><td>&quot;Congo&quot;</td><td>0.571</td><td>63.5</td><td>12.3</td><td>6.2</td><td>&quot;2,889&quot;</td><td>11</td><td>&quot;Africa&quot;</td><td>&quot;Southern Hemis…</td><td>&quot;Medium&quot;</td><td>&quot;SSA&quot;</td><td>0.624</td><td>0.6175</td><td>0.586</td><td>713.0</td><td>622.5</td><td>433.0</td></tr><tr><td>154</td><td>&quot;Zambia&quot;</td><td>0.565</td><td>61.2</td><td>10.9</td><td>7.2</td><td>&quot;3,218&quot;</td><td>7</td><td>&quot;Africa&quot;</td><td>&quot;Southern Hemis…</td><td>&quot;Medium&quot;</td><td>&quot;SSA&quot;</td><td>0.657</td><td>0.617</td><td>0.565</td><td>599.5</td><td>416.5</td><td>248.0</td></tr><tr><td>155</td><td>&quot;Solomon Island…</td><td>0.564</td><td>70.3</td><td>10.3</td><td>5.7</td><td>&quot;2,482&quot;</td><td>13</td><td>&quot;Oceania&quot;</td><td>&quot;Southern Hemis…</td><td>&quot;Medium&quot;</td><td>&quot;EAP&quot;</td><td>null</td><td>null</td><td>null</td><td>329.5</td><td>193.0</td><td>119.0</td></tr><tr><td>156</td><td>&quot;Comoros&quot;</td><td>0.558</td><td>63.4</td><td>11.9</td><td>5.1</td><td>&quot;3,142&quot;</td><td>6</td><td>&quot;Africa&quot;</td><td>&quot;Southern Hemis…</td><td>&quot;Medium&quot;</td><td>&quot;SSA&quot;</td><td>null</td><td>null</td><td>null</td><td>522.0</td><td>392.5</td><td>299.5</td></tr><tr><td>156</td><td>&quot;Papua New Guin…</td><td>0.558</td><td>65.4</td><td>10.4</td><td>4.7</td><td>&quot;4,009&quot;</td><td>-4</td><td>&quot;Oceania&quot;</td><td>&quot;Southern Hemis…</td><td>&quot;Medium&quot;</td><td>&quot;EAP&quot;</td><td>0.6625</td><td>0.6545</td><td>0.6885</td><td>299.0</td><td>208.5</td><td>155.5</td></tr><tr><td>165</td><td>&quot;Rwanda&quot;</td><td>0.534</td><td>66.1</td><td>11.2</td><td>4.4</td><td>&quot;2,210&quot;</td><td>6</td><td>&quot;Africa&quot;</td><td>&quot;Southern Hemis…</td><td>&quot;Low&quot;</td><td>&quot;SSA&quot;</td><td>0.599</td><td>0.5065</td><td>0.415</td><td>1225.0</td><td>766.5</td><td>298.5</td></tr><tr><td>168</td><td>&quot;Lesotho&quot;</td><td>0.514</td><td>53.1</td><td>12.0</td><td>6.0</td><td>&quot;2,700&quot;</td><td>-2</td><td>&quot;Africa&quot;</td><td>&quot;Southern Hemis…</td><td>&quot;Low&quot;</td><td>&quot;SSA&quot;</td><td>0.5855</td><td>0.5715</td><td>0.557</td><td>600.0</td><td>604.0</td><td>564.5</td></tr><tr><td>169</td><td>&quot;Malawi&quot;</td><td>0.512</td><td>62.9</td><td>12.7</td><td>4.5</td><td>&quot;1,466&quot;</td><td>13</td><td>&quot;Africa&quot;</td><td>&quot;Southern Hemis…</td><td>&quot;Low&quot;</td><td>&quot;SSA&quot;</td><td>0.7025</td><td>0.639</td><td>0.5715</td><td>867.5</td><td>596.5</td><td>388.5</td></tr><tr><td>173</td><td>&quot;Madagascar&quot;</td><td>0.501</td><td>64.5</td><td>10.1</td><td>5.1</td><td>&quot;1,484&quot;</td><td>8</td><td>&quot;Africa&quot;</td><td>&quot;Southern Hemis…</td><td>&quot;Low&quot;</td><td>&quot;SSA&quot;</td><td>0.637</td><td>0.62</td><td>0.577</td><td>660.5</td><td>506.0</td><td>383.5</td></tr><tr><td>185</td><td>&quot;Mozambique&quot;</td><td>0.446</td><td>59.3</td><td>10.2</td><td>3.2</td><td>&quot;1,198&quot;</td><td>2</td><td>&quot;Africa&quot;</td><td>&quot;Southern Hemis…</td><td>&quot;Low&quot;</td><td>&quot;SSA&quot;</td><td>0.6185</td><td>0.58</td><td>0.55</td><td>1129.5</td><td>605.0</td><td>339.0</td></tr><tr><td>187</td><td>&quot;Burundi&quot;</td><td>0.426</td><td>61.7</td><td>10.7</td><td>3.1</td><td>&quot;732&quot;</td><td>4</td><td>&quot;Africa&quot;</td><td>&quot;Southern Hemis…</td><td>&quot;Low&quot;</td><td>&quot;SSA&quot;</td><td>0.655</td><td>0.578</td><td>0.521</td><td>1160.0</td><td>837.5</td><td>591.5</td></tr></tbody></table></div>"
      ],
      "text/plain": [
       "shape: (35, 18)\n",
       "┌──────────┬───────────┬───────────┬───────────┬───┬───────────┬───────────┬───────────┬───────────┐\n",
       "│ HDI rank ┆ Country   ┆ Human Dev ┆ Life expe ┆ … ┆ Gender    ┆ Maternal  ┆ Maternal  ┆ Maternal  │\n",
       "│ ---      ┆ ---       ┆ elopment  ┆ ctancy at ┆   ┆ Inequalit ┆ Mortality ┆ Mortality ┆ Mortality │\n",
       "│ i64      ┆ str       ┆ Index     ┆ birth     ┆   ┆ y Index   ┆ Ratio     ┆ Ratio     ┆ Ratio     │\n",
       "│          ┆           ┆ (HDI Val… ┆ (years)   ┆   ┆ Average … ┆ (deaths…  ┆ (deaths…  ┆ (deaths…  │\n",
       "│          ┆           ┆ ---       ┆ ---       ┆   ┆ ---       ┆ ---       ┆ ---       ┆ ---       │\n",
       "│          ┆           ┆ f64       ┆ f64       ┆   ┆ f64       ┆ f64       ┆ f64       ┆ f64       │\n",
       "╞══════════╪═══════════╪═══════════╪═══════════╪═══╪═══════════╪═══════════╪═══════════╪═══════════╡\n",
       "│ 5        ┆ Australia ┆ 0.951     ┆ 84.5      ┆ … ┆ 0.102     ┆ 7.5       ┆ 6.0       ┆ 6.0       │\n",
       "│ 13       ┆ New       ┆ 0.937     ┆ 82.5      ┆ … ┆ 0.124     ┆ 15.0      ┆ 11.5      ┆ 9.5       │\n",
       "│          ┆ Zealand   ┆           ┆           ┆   ┆           ┆           ┆           ┆           │\n",
       "│ 42       ┆ Chile     ┆ 0.855     ┆ 78.9      ┆ … ┆ 0.257     ┆ 49.0      ┆ 25.5      ┆ 15.5      │\n",
       "│ 47       ┆ Argentina ┆ 0.842     ┆ 75.4      ┆ … ┆ 0.3245    ┆ 77.0      ┆ 58.5      ┆ 43.5      │\n",
       "│ …        ┆ …         ┆ …         ┆ …         ┆ … ┆ …         ┆ …         ┆ …         ┆ …         │\n",
       "│ 169      ┆ Malawi    ┆ 0.512     ┆ 62.9      ┆ … ┆ 0.5715    ┆ 867.5     ┆ 596.5     ┆ 388.5     │\n",
       "│ 173      ┆ Madagasca ┆ 0.501     ┆ 64.5      ┆ … ┆ 0.577     ┆ 660.5     ┆ 506.0     ┆ 383.5     │\n",
       "│          ┆ r         ┆           ┆           ┆   ┆           ┆           ┆           ┆           │\n",
       "│ 185      ┆ Mozambiqu ┆ 0.446     ┆ 59.3      ┆ … ┆ 0.55      ┆ 1129.5    ┆ 605.0     ┆ 339.0     │\n",
       "│          ┆ e         ┆           ┆           ┆   ┆           ┆           ┆           ┆           │\n",
       "│ 187      ┆ Burundi   ┆ 0.426     ┆ 61.7      ┆ … ┆ 0.521     ┆ 1160.0    ┆ 837.5     ┆ 591.5     │\n",
       "└──────────┴───────────┴───────────┴───────────┴───┴───────────┴───────────┴───────────┴───────────┘"
      ]
     },
     "execution_count": 95,
     "metadata": {},
     "output_type": "execute_result"
    }
   ],
   "source": [
    "South_df=Main_Dataset_Clean.filter(pl.col('Hemisphere')==\"Southern Hemisphere\")\n",
    "# South_df"
   ]
  },
  {
   "cell_type": "code",
   "execution_count": 87,
   "metadata": {},
   "outputs": [],
   "source": [
    "Main_Dataset_Clean.write_csv('Main Dataset.csv')"
   ]
  },
  {
   "cell_type": "code",
   "execution_count": 90,
   "metadata": {},
   "outputs": [],
   "source": [
    "GI_join.write_csv('Gender Inequality (1990-2021) Decade Data.csv')"
   ]
  },
  {
   "cell_type": "code",
   "execution_count": 91,
   "metadata": {},
   "outputs": [],
   "source": [
    "MM_join.write_csv('Maternal Mortality (1990-2021) Decade Data.csv')"
   ]
  },
  {
   "cell_type": "code",
   "execution_count": 96,
   "metadata": {},
   "outputs": [],
   "source": [
    "South_df.write_csv('Southern Hemisphere Data.csv')"
   ]
  },
  {
   "cell_type": "code",
   "execution_count": null,
   "metadata": {},
   "outputs": [],
   "source": [
    "North_df.write_csv('Northern Hemisphere Data.csv')"
   ]
  }
 ],
 "metadata": {
  "kernelspec": {
   "display_name": "dev",
   "language": "python",
   "name": "python3"
  },
  "language_info": {
   "codemirror_mode": {
    "name": "ipython",
    "version": 3
   },
   "file_extension": ".py",
   "mimetype": "text/x-python",
   "name": "python",
   "nbconvert_exporter": "python",
   "pygments_lexer": "ipython3",
   "version": "3.11.5"
  }
 },
 "nbformat": 4,
 "nbformat_minor": 2
}
