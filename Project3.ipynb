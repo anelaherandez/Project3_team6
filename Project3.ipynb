{
 "cells": [
  {
   "cell_type": "code",
   "execution_count": 2,
   "metadata": {},
   "outputs": [
    {
     "name": "stdout",
     "output_type": "stream",
     "text": [
      "Collecting polars\n",
      "  Obtaining dependency information for polars from https://files.pythonhosted.org/packages/2d/66/b21a85410d2a84068f435625b61a5c0f01fcab8fd1515d656d7509d3b123/polars-0.20.3-cp38-abi3-win_amd64.whl.metadata\n",
      "  Using cached polars-0.20.3-cp38-abi3-win_amd64.whl.metadata (15 kB)\n",
      "Using cached polars-0.20.3-cp38-abi3-win_amd64.whl (24.7 MB)\n",
      "Installing collected packages: polars\n",
      "Successfully installed polars-0.20.3\n",
      "Note: you may need to restart the kernel to use updated packages.\n"
     ]
    }
   ],
   "source": [
    "pip install polars\n"
   ]
  },
  {
   "cell_type": "code",
   "execution_count": 3,
   "metadata": {},
   "outputs": [],
   "source": [
    "import polars as pl"
   ]
  },
  {
   "cell_type": "code",
   "execution_count": 30,
   "metadata": {},
   "outputs": [
    {
     "data": {
      "text/html": [
       "<div><style>\n",
       ".dataframe > thead > tr,\n",
       ".dataframe > tbody > tr {\n",
       "  text-align: right;\n",
       "  white-space: pre-wrap;\n",
       "}\n",
       "</style>\n",
       "<small>shape: (10, 39)</small><table border=\"1\" class=\"dataframe\"><thead><tr><th>ISO3</th><th>Country</th><th>Continent</th><th>Hemisphere</th><th>Human Development Groups</th><th>UNDP Developeing Regions</th><th>HDI Rank (2021)</th><th>Maternal Mortality Ratio (deaths per 100,000 live births) (1990)</th><th>Maternal Mortality Ratio (deaths per 100,000 live births) (1991)</th><th>Maternal Mortality Ratio (deaths per 100,000 live births) (1992)</th><th>Maternal Mortality Ratio (deaths per 100,000 live births) (1993)</th><th>Maternal Mortality Ratio (deaths per 100,000 live births) (1994)</th><th>Maternal Mortality Ratio (deaths per 100,000 live births) (1995)</th><th>Maternal Mortality Ratio (deaths per 100,000 live births) (1996)</th><th>Maternal Mortality Ratio (deaths per 100,000 live births) (1997)</th><th>Maternal Mortality Ratio (deaths per 100,000 live births) (1998)</th><th>Maternal Mortality Ratio (deaths per 100,000 live births) (1999)</th><th>Maternal Mortality Ratio (deaths per 100,000 live births) (2000)</th><th>Maternal Mortality Ratio (deaths per 100,000 live births) (2001)</th><th>Maternal Mortality Ratio (deaths per 100,000 live births) (2002)</th><th>Maternal Mortality Ratio (deaths per 100,000 live births) (2003)</th><th>Maternal Mortality Ratio (deaths per 100,000 live births) (2004)</th><th>Maternal Mortality Ratio (deaths per 100,000 live births) (2005)</th><th>Maternal Mortality Ratio (deaths per 100,000 live births) (2006)</th><th>Maternal Mortality Ratio (deaths per 100,000 live births) (2007)</th><th>Maternal Mortality Ratio (deaths per 100,000 live births) (2008)</th><th>Maternal Mortality Ratio (deaths per 100,000 live births) (2009)</th><th>Maternal Mortality Ratio (deaths per 100,000 live births) (2010)</th><th>Maternal Mortality Ratio (deaths per 100,000 live births) (2011)</th><th>Maternal Mortality Ratio (deaths per 100,000 live births) (2012)</th><th>Maternal Mortality Ratio (deaths per 100,000 live births) (2013)</th><th>Maternal Mortality Ratio (deaths per 100,000 live births) (2014)</th><th>Maternal Mortality Ratio (deaths per 100,000 live births) (2015)</th><th>Maternal Mortality Ratio (deaths per 100,000 live births) (2016)</th><th>Maternal Mortality Ratio (deaths per 100,000 live births) (2017)</th><th>Maternal Mortality Ratio (deaths per 100,000 live births) (2018)</th><th>Maternal Mortality Ratio (deaths per 100,000 live births) (2019)</th><th>Maternal Mortality Ratio (deaths per 100,000 live births) (2020)</th><th>Maternal Mortality Ratio (deaths per 100,000 live births) (2021)</th></tr><tr><td>str</td><td>str</td><td>str</td><td>str</td><td>str</td><td>str</td><td>i64</td><td>i64</td><td>i64</td><td>i64</td><td>i64</td><td>i64</td><td>i64</td><td>i64</td><td>i64</td><td>i64</td><td>i64</td><td>i64</td><td>i64</td><td>i64</td><td>i64</td><td>i64</td><td>i64</td><td>i64</td><td>i64</td><td>i64</td><td>i64</td><td>i64</td><td>i64</td><td>i64</td><td>i64</td><td>i64</td><td>i64</td><td>i64</td><td>i64</td><td>i64</td><td>i64</td><td>i64</td><td>i64</td></tr></thead><tbody><tr><td>&quot;AFG&quot;</td><td>&quot;Afghanistan&quot;</td><td>&quot;Asia&quot;</td><td>&quot;Northern Hemis…</td><td>&quot;Low&quot;</td><td>&quot;SA&quot;</td><td>180</td><td>1500</td><td>1530</td><td>1520</td><td>1480</td><td>1540</td><td>1490</td><td>1440</td><td>1470</td><td>1410</td><td>1470</td><td>1450</td><td>1390</td><td>1300</td><td>1240</td><td>1180</td><td>1140</td><td>1120</td><td>1090</td><td>1030</td><td>993</td><td>954</td><td>905</td><td>858</td><td>810</td><td>786</td><td>701</td><td>673</td><td>638</td><td>638</td><td>638</td><td>638</td><td>638</td></tr><tr><td>&quot;AGO&quot;</td><td>&quot;Angola&quot;</td><td>&quot;Africa&quot;</td><td>&quot;Southern Hemis…</td><td>&quot;Medium&quot;</td><td>&quot;SSA&quot;</td><td>148</td><td>1150</td><td>1100</td><td>1130</td><td>1110</td><td>1130</td><td>1060</td><td>1020</td><td>985</td><td>953</td><td>909</td><td>827</td><td>766</td><td>690</td><td>628</td><td>574</td><td>519</td><td>473</td><td>431</td><td>395</td><td>359</td><td>326</td><td>300</td><td>281</td><td>269</td><td>258</td><td>251</td><td>246</td><td>241</td><td>241</td><td>241</td><td>241</td><td>241</td></tr><tr><td>&quot;ALB&quot;</td><td>&quot;Albania&quot;</td><td>&quot;Europe&quot;</td><td>&quot;Northern Hemis…</td><td>&quot;High&quot;</td><td>&quot;ECA&quot;</td><td>67</td><td>40</td><td>47</td><td>49</td><td>47</td><td>39</td><td>38</td><td>32</td><td>30</td><td>27</td><td>25</td><td>23</td><td>23</td><td>21</td><td>21</td><td>18</td><td>22</td><td>18</td><td>19</td><td>20</td><td>20</td><td>21</td><td>22</td><td>17</td><td>16</td><td>16</td><td>15</td><td>16</td><td>15</td><td>15</td><td>15</td><td>15</td><td>15</td></tr><tr><td>&quot;AND&quot;</td><td>&quot;Andorra&quot;</td><td>&quot;Europe&quot;</td><td>&quot;Northern Hemis…</td><td>&quot;Very High&quot;</td><td>null</td><td>40</td><td>null</td><td>null</td><td>null</td><td>null</td><td>null</td><td>null</td><td>null</td><td>null</td><td>null</td><td>null</td><td>null</td><td>null</td><td>null</td><td>null</td><td>null</td><td>null</td><td>null</td><td>null</td><td>null</td><td>null</td><td>null</td><td>null</td><td>null</td><td>null</td><td>null</td><td>null</td><td>null</td><td>null</td><td>null</td><td>null</td><td>null</td><td>null</td></tr><tr><td>&quot;ARE&quot;</td><td>&quot;United Arab Em…</td><td>&quot;Asia&quot;</td><td>&quot;Northern Hemis…</td><td>&quot;Very High&quot;</td><td>&quot;AS&quot;</td><td>26</td><td>13</td><td>12</td><td>11</td><td>10</td><td>10</td><td>9</td><td>8</td><td>8</td><td>7</td><td>7</td><td>6</td><td>6</td><td>5</td><td>5</td><td>5</td><td>5</td><td>4</td><td>4</td><td>4</td><td>4</td><td>4</td><td>4</td><td>4</td><td>3</td><td>3</td><td>3</td><td>3</td><td>3</td><td>3</td><td>3</td><td>3</td><td>3</td></tr><tr><td>&quot;ARG&quot;</td><td>&quot;Argentina&quot;</td><td>&quot;America&quot;</td><td>&quot;Southern Hemis…</td><td>&quot;Very High&quot;</td><td>&quot;LAC&quot;</td><td>47</td><td>84</td><td>82</td><td>80</td><td>76</td><td>75</td><td>72</td><td>71</td><td>71</td><td>69</td><td>70</td><td>66</td><td>67</td><td>65</td><td>65</td><td>61</td><td>59</td><td>57</td><td>56</td><td>53</td><td>56</td><td>51</td><td>48</td><td>47</td><td>44</td><td>42</td><td>41</td><td>40</td><td>39</td><td>39</td><td>39</td><td>39</td><td>39</td></tr><tr><td>&quot;ARM&quot;</td><td>&quot;Armenia&quot;</td><td>&quot;Asia&quot;</td><td>&quot;Northern Hemis…</td><td>&quot;High&quot;</td><td>&quot;ECA&quot;</td><td>85</td><td>52</td><td>47</td><td>56</td><td>60</td><td>54</td><td>54</td><td>55</td><td>50</td><td>50</td><td>43</td><td>43</td><td>42</td><td>39</td><td>38</td><td>36</td><td>35</td><td>36</td><td>32</td><td>36</td><td>32</td><td>32</td><td>30</td><td>30</td><td>26</td><td>27</td><td>28</td><td>26</td><td>26</td><td>26</td><td>26</td><td>26</td><td>26</td></tr><tr><td>&quot;ATG&quot;</td><td>&quot;Antigua and Ba…</td><td>&quot;America&quot;</td><td>&quot;Northern Hemis…</td><td>&quot;High&quot;</td><td>&quot;LAC&quot;</td><td>71</td><td>54</td><td>54</td><td>55</td><td>52</td><td>52</td><td>51</td><td>51</td><td>52</td><td>50</td><td>49</td><td>44</td><td>44</td><td>43</td><td>44</td><td>41</td><td>40</td><td>46</td><td>48</td><td>50</td><td>45</td><td>44</td><td>43</td><td>44</td><td>43</td><td>42</td><td>43</td><td>43</td><td>42</td><td>42</td><td>42</td><td>42</td><td>42</td></tr><tr><td>&quot;AUS&quot;</td><td>&quot;Australia&quot;</td><td>&quot;Oceania&quot;</td><td>&quot;Southern Hemis…</td><td>&quot;Very High&quot;</td><td>null</td><td>5</td><td>8</td><td>9</td><td>8</td><td>8</td><td>8</td><td>8</td><td>8</td><td>8</td><td>7</td><td>7</td><td>7</td><td>6</td><td>6</td><td>6</td><td>5</td><td>5</td><td>5</td><td>5</td><td>5</td><td>5</td><td>5</td><td>6</td><td>6</td><td>6</td><td>6</td><td>6</td><td>6</td><td>6</td><td>6</td><td>6</td><td>6</td><td>6</td></tr><tr><td>&quot;AUT&quot;</td><td>&quot;Austria&quot;</td><td>&quot;Europe&quot;</td><td>&quot;Northern Hemis…</td><td>&quot;Very High&quot;</td><td>null</td><td>25</td><td>8</td><td>8</td><td>8</td><td>8</td><td>8</td><td>7</td><td>7</td><td>6</td><td>6</td><td>6</td><td>6</td><td>6</td><td>6</td><td>6</td><td>5</td><td>6</td><td>5</td><td>5</td><td>5</td><td>5</td><td>5</td><td>5</td><td>5</td><td>5</td><td>5</td><td>5</td><td>5</td><td>5</td><td>5</td><td>5</td><td>5</td><td>5</td></tr></tbody></table></div>"
      ],
      "text/plain": [
       "shape: (10, 39)\n",
       "┌──────┬────────────┬───────────┬────────────┬───┬────────────┬────────────┬───────────┬───────────┐\n",
       "│ ISO3 ┆ Country    ┆ Continent ┆ Hemisphere ┆ … ┆ Maternal   ┆ Maternal   ┆ Maternal  ┆ Maternal  │\n",
       "│ ---  ┆ ---        ┆ ---       ┆ ---        ┆   ┆ Mortality  ┆ Mortality  ┆ Mortality ┆ Mortality │\n",
       "│ str  ┆ str        ┆ str       ┆ str        ┆   ┆ Ratio      ┆ Ratio      ┆ Ratio     ┆ Ratio     │\n",
       "│      ┆            ┆           ┆            ┆   ┆ (deaths…   ┆ (deaths…   ┆ (deaths…  ┆ (deaths…  │\n",
       "│      ┆            ┆           ┆            ┆   ┆ ---        ┆ ---        ┆ ---       ┆ ---       │\n",
       "│      ┆            ┆           ┆            ┆   ┆ i64        ┆ i64        ┆ i64       ┆ i64       │\n",
       "╞══════╪════════════╪═══════════╪════════════╪═══╪════════════╪════════════╪═══════════╪═══════════╡\n",
       "│ AFG  ┆ Afghanista ┆ Asia      ┆ Northern   ┆ … ┆ 638        ┆ 638        ┆ 638       ┆ 638       │\n",
       "│      ┆ n          ┆           ┆ Hemisphere ┆   ┆            ┆            ┆           ┆           │\n",
       "│ AGO  ┆ Angola     ┆ Africa    ┆ Southern   ┆ … ┆ 241        ┆ 241        ┆ 241       ┆ 241       │\n",
       "│      ┆            ┆           ┆ Hemisphere ┆   ┆            ┆            ┆           ┆           │\n",
       "│ ALB  ┆ Albania    ┆ Europe    ┆ Northern   ┆ … ┆ 15         ┆ 15         ┆ 15        ┆ 15        │\n",
       "│      ┆            ┆           ┆ Hemisphere ┆   ┆            ┆            ┆           ┆           │\n",
       "│ AND  ┆ Andorra    ┆ Europe    ┆ Northern   ┆ … ┆ null       ┆ null       ┆ null      ┆ null      │\n",
       "│      ┆            ┆           ┆ Hemisphere ┆   ┆            ┆            ┆           ┆           │\n",
       "│ …    ┆ …          ┆ …         ┆ …          ┆ … ┆ …          ┆ …          ┆ …         ┆ …         │\n",
       "│ ARM  ┆ Armenia    ┆ Asia      ┆ Northern   ┆ … ┆ 26         ┆ 26         ┆ 26        ┆ 26        │\n",
       "│      ┆            ┆           ┆ Hemisphere ┆   ┆            ┆            ┆           ┆           │\n",
       "│ ATG  ┆ Antigua    ┆ America   ┆ Northern   ┆ … ┆ 42         ┆ 42         ┆ 42        ┆ 42        │\n",
       "│      ┆ and        ┆           ┆ Hemisphere ┆   ┆            ┆            ┆           ┆           │\n",
       "│      ┆ Barbuda    ┆           ┆            ┆   ┆            ┆            ┆           ┆           │\n",
       "│ AUS  ┆ Australia  ┆ Oceania   ┆ Southern   ┆ … ┆ 6          ┆ 6          ┆ 6         ┆ 6         │\n",
       "│      ┆            ┆           ┆ Hemisphere ┆   ┆            ┆            ┆           ┆           │\n",
       "│ AUT  ┆ Austria    ┆ Europe    ┆ Northern   ┆ … ┆ 5          ┆ 5          ┆ 5         ┆ 5         │\n",
       "│      ┆            ┆           ┆ Hemisphere ┆   ┆            ┆            ┆           ┆           │\n",
       "└──────┴────────────┴───────────┴────────────┴───┴────────────┴────────────┴───────────┴───────────┘"
      ]
     },
     "execution_count": 30,
     "metadata": {},
     "output_type": "execute_result"
    }
   ],
   "source": [
    "MaternalMort_df=pl.read_csv('Maternal Mortality.csv')\n",
    "MaternalMort_df.head(10)\n"
   ]
  },
  {
   "cell_type": "code",
   "execution_count": 29,
   "metadata": {},
   "outputs": [
    {
     "data": {
      "text/html": [
       "<div><style>\n",
       ".dataframe > thead > tr,\n",
       ".dataframe > tbody > tr {\n",
       "  text-align: right;\n",
       "  white-space: pre-wrap;\n",
       "}\n",
       "</style>\n",
       "<small>shape: (10, 1)</small><table border=\"1\" class=\"dataframe\"><thead><tr><th>MaternalMort_avg_1990Decade</th></tr><tr><td>f64</td></tr></thead><tbody><tr><td>1485.0</td></tr><tr><td>1029.5</td></tr><tr><td>32.5</td></tr><tr><td>null</td></tr><tr><td>10.0</td></tr><tr><td>77.0</td></tr><tr><td>47.5</td></tr><tr><td>51.5</td></tr><tr><td>7.5</td></tr><tr><td>7.0</td></tr></tbody></table></div>"
      ],
      "text/plain": [
       "shape: (10, 1)\n",
       "┌─────────────────────────────┐\n",
       "│ MaternalMort_avg_1990Decade │\n",
       "│ ---                         │\n",
       "│ f64                         │\n",
       "╞═════════════════════════════╡\n",
       "│ 1485.0                      │\n",
       "│ 1029.5                      │\n",
       "│ 32.5                        │\n",
       "│ null                        │\n",
       "│ …                           │\n",
       "│ 47.5                        │\n",
       "│ 51.5                        │\n",
       "│ 7.5                         │\n",
       "│ 7.0                         │\n",
       "└─────────────────────────────┘"
      ]
     },
     "execution_count": 29,
     "metadata": {},
     "output_type": "execute_result"
    }
   ],
   "source": [
    "cols_to_mean=['Maternal Mortality Ratio (deaths per 100,000 live births) (1990)', 'Maternal Mortality Ratio (deaths per 100,000 live births) (1999)']\n",
    "matmort90_mean=MaternalMort_df.select( MaternalMort_avg_1990Decade=pl.concat_list(cols_to_mean).list.mean())\n",
    "\n",
    "matmort90_mean.head(10)"
   ]
  },
  {
   "cell_type": "code",
   "execution_count": 28,
   "metadata": {},
   "outputs": [
    {
     "data": {
      "text/html": [
       "<div><style>\n",
       ".dataframe > thead > tr,\n",
       ".dataframe > tbody > tr {\n",
       "  text-align: right;\n",
       "  white-space: pre-wrap;\n",
       "}\n",
       "</style>\n",
       "<small>shape: (10, 1)</small><table border=\"1\" class=\"dataframe\"><thead><tr><th>MaternalMort_avg_00Decade</th></tr><tr><td>f64</td></tr></thead><tbody><tr><td>1202.0</td></tr><tr><td>576.5</td></tr><tr><td>22.0</td></tr><tr><td>null</td></tr><tr><td>5.0</td></tr><tr><td>58.5</td></tr><tr><td>37.5</td></tr><tr><td>44.0</td></tr><tr><td>6.0</td></tr><tr><td>5.5</td></tr></tbody></table></div>"
      ],
      "text/plain": [
       "shape: (10, 1)\n",
       "┌───────────────────────────┐\n",
       "│ MaternalMort_avg_00Decade │\n",
       "│ ---                       │\n",
       "│ f64                       │\n",
       "╞═══════════════════════════╡\n",
       "│ 1202.0                    │\n",
       "│ 576.5                     │\n",
       "│ 22.0                      │\n",
       "│ null                      │\n",
       "│ …                         │\n",
       "│ 37.5                      │\n",
       "│ 44.0                      │\n",
       "│ 6.0                       │\n",
       "│ 5.5                       │\n",
       "└───────────────────────────┘"
      ]
     },
     "execution_count": 28,
     "metadata": {},
     "output_type": "execute_result"
    }
   ],
   "source": [
    "cols_to_mean=['Maternal Mortality Ratio (deaths per 100,000 live births) (2000)', 'Maternal Mortality Ratio (deaths per 100,000 live births) (2010)']\n",
    "matmort00_mean=MaternalMort_df.select( MaternalMort_avg_00Decade=pl.concat_list(cols_to_mean).list.mean())\n",
    "\n",
    "matmort00_mean.head(10)"
   ]
  },
  {
   "cell_type": "code",
   "execution_count": 27,
   "metadata": {},
   "outputs": [
    {
     "data": {
      "text/html": [
       "<div><style>\n",
       ".dataframe > thead > tr,\n",
       ".dataframe > tbody > tr {\n",
       "  text-align: right;\n",
       "  white-space: pre-wrap;\n",
       "}\n",
       "</style>\n",
       "<small>shape: (10, 1)</small><table border=\"1\" class=\"dataframe\"><thead><tr><th>MaternalMort_avg_21Decade</th></tr><tr><td>f64</td></tr></thead><tbody><tr><td>771.5</td></tr><tr><td>270.5</td></tr><tr><td>18.5</td></tr><tr><td>null</td></tr><tr><td>3.5</td></tr><tr><td>43.5</td></tr><tr><td>28.0</td></tr><tr><td>42.5</td></tr><tr><td>6.0</td></tr><tr><td>5.0</td></tr></tbody></table></div>"
      ],
      "text/plain": [
       "shape: (10, 1)\n",
       "┌───────────────────────────┐\n",
       "│ MaternalMort_avg_21Decade │\n",
       "│ ---                       │\n",
       "│ f64                       │\n",
       "╞═══════════════════════════╡\n",
       "│ 771.5                     │\n",
       "│ 270.5                     │\n",
       "│ 18.5                      │\n",
       "│ null                      │\n",
       "│ …                         │\n",
       "│ 28.0                      │\n",
       "│ 42.5                      │\n",
       "│ 6.0                       │\n",
       "│ 5.0                       │\n",
       "└───────────────────────────┘"
      ]
     },
     "execution_count": 27,
     "metadata": {},
     "output_type": "execute_result"
    }
   ],
   "source": [
    "cols_to_mean=['Maternal Mortality Ratio (deaths per 100,000 live births) (2011)', 'Maternal Mortality Ratio (deaths per 100,000 live births) (2021)']\n",
    "matmort21_mean=MaternalMort_df.select( MaternalMort_avg_21Decade=pl.concat_list(cols_to_mean).list.mean())\n",
    "\n",
    "matmort21_mean.head(10)"
   ]
  },
  {
   "cell_type": "code",
   "execution_count": 26,
   "metadata": {},
   "outputs": [
    {
     "data": {
      "text/html": [
       "<div><style>\n",
       ".dataframe > thead > tr,\n",
       ".dataframe > tbody > tr {\n",
       "  text-align: right;\n",
       "  white-space: pre-wrap;\n",
       "}\n",
       "</style>\n",
       "<small>shape: (10, 42)</small><table border=\"1\" class=\"dataframe\"><thead><tr><th>ISO3</th><th>Country</th><th>Continent</th><th>Hemisphere</th><th>Human Development Groups</th><th>UNDP Developeing Regions</th><th>HDI Rank (2021)</th><th>Maternal Mortality Ratio (deaths per 100,000 live births) (1990)</th><th>Maternal Mortality Ratio (deaths per 100,000 live births) (1991)</th><th>Maternal Mortality Ratio (deaths per 100,000 live births) (1992)</th><th>Maternal Mortality Ratio (deaths per 100,000 live births) (1993)</th><th>Maternal Mortality Ratio (deaths per 100,000 live births) (1994)</th><th>Maternal Mortality Ratio (deaths per 100,000 live births) (1995)</th><th>Maternal Mortality Ratio (deaths per 100,000 live births) (1996)</th><th>Maternal Mortality Ratio (deaths per 100,000 live births) (1997)</th><th>Maternal Mortality Ratio (deaths per 100,000 live births) (1998)</th><th>Maternal Mortality Ratio (deaths per 100,000 live births) (1999)</th><th>Maternal Mortality Ratio (deaths per 100,000 live births) (2000)</th><th>Maternal Mortality Ratio (deaths per 100,000 live births) (2001)</th><th>Maternal Mortality Ratio (deaths per 100,000 live births) (2002)</th><th>Maternal Mortality Ratio (deaths per 100,000 live births) (2003)</th><th>Maternal Mortality Ratio (deaths per 100,000 live births) (2004)</th><th>Maternal Mortality Ratio (deaths per 100,000 live births) (2005)</th><th>Maternal Mortality Ratio (deaths per 100,000 live births) (2006)</th><th>Maternal Mortality Ratio (deaths per 100,000 live births) (2007)</th><th>Maternal Mortality Ratio (deaths per 100,000 live births) (2008)</th><th>Maternal Mortality Ratio (deaths per 100,000 live births) (2009)</th><th>Maternal Mortality Ratio (deaths per 100,000 live births) (2010)</th><th>Maternal Mortality Ratio (deaths per 100,000 live births) (2011)</th><th>Maternal Mortality Ratio (deaths per 100,000 live births) (2012)</th><th>Maternal Mortality Ratio (deaths per 100,000 live births) (2013)</th><th>Maternal Mortality Ratio (deaths per 100,000 live births) (2014)</th><th>Maternal Mortality Ratio (deaths per 100,000 live births) (2015)</th><th>Maternal Mortality Ratio (deaths per 100,000 live births) (2016)</th><th>Maternal Mortality Ratio (deaths per 100,000 live births) (2017)</th><th>Maternal Mortality Ratio (deaths per 100,000 live births) (2018)</th><th>Maternal Mortality Ratio (deaths per 100,000 live births) (2019)</th><th>Maternal Mortality Ratio (deaths per 100,000 live births) (2020)</th><th>Maternal Mortality Ratio (deaths per 100,000 live births) (2021)</th><th>Maternal Mortality Ratio (deaths per 100,000 live births) Average (1990-1999)</th><th>Maternal Mortality Ratio (deaths per 100,000 live births) Average (2000-2010)</th><th>Maternal Mortality Ratio (deaths per 100,000 live births) Average (2011-2021)</th></tr><tr><td>str</td><td>str</td><td>str</td><td>str</td><td>str</td><td>str</td><td>i64</td><td>i64</td><td>i64</td><td>i64</td><td>i64</td><td>i64</td><td>i64</td><td>i64</td><td>i64</td><td>i64</td><td>i64</td><td>i64</td><td>i64</td><td>i64</td><td>i64</td><td>i64</td><td>i64</td><td>i64</td><td>i64</td><td>i64</td><td>i64</td><td>i64</td><td>i64</td><td>i64</td><td>i64</td><td>i64</td><td>i64</td><td>i64</td><td>i64</td><td>i64</td><td>i64</td><td>i64</td><td>i64</td><td>f64</td><td>f64</td><td>f64</td></tr></thead><tbody><tr><td>&quot;AFG&quot;</td><td>&quot;Afghanistan&quot;</td><td>&quot;Asia&quot;</td><td>&quot;Northern Hemis…</td><td>&quot;Low&quot;</td><td>&quot;SA&quot;</td><td>180</td><td>1500</td><td>1530</td><td>1520</td><td>1480</td><td>1540</td><td>1490</td><td>1440</td><td>1470</td><td>1410</td><td>1470</td><td>1450</td><td>1390</td><td>1300</td><td>1240</td><td>1180</td><td>1140</td><td>1120</td><td>1090</td><td>1030</td><td>993</td><td>954</td><td>905</td><td>858</td><td>810</td><td>786</td><td>701</td><td>673</td><td>638</td><td>638</td><td>638</td><td>638</td><td>638</td><td>1485.0</td><td>1202.0</td><td>771.5</td></tr><tr><td>&quot;AGO&quot;</td><td>&quot;Angola&quot;</td><td>&quot;Africa&quot;</td><td>&quot;Southern Hemis…</td><td>&quot;Medium&quot;</td><td>&quot;SSA&quot;</td><td>148</td><td>1150</td><td>1100</td><td>1130</td><td>1110</td><td>1130</td><td>1060</td><td>1020</td><td>985</td><td>953</td><td>909</td><td>827</td><td>766</td><td>690</td><td>628</td><td>574</td><td>519</td><td>473</td><td>431</td><td>395</td><td>359</td><td>326</td><td>300</td><td>281</td><td>269</td><td>258</td><td>251</td><td>246</td><td>241</td><td>241</td><td>241</td><td>241</td><td>241</td><td>1029.5</td><td>576.5</td><td>270.5</td></tr><tr><td>&quot;ALB&quot;</td><td>&quot;Albania&quot;</td><td>&quot;Europe&quot;</td><td>&quot;Northern Hemis…</td><td>&quot;High&quot;</td><td>&quot;ECA&quot;</td><td>67</td><td>40</td><td>47</td><td>49</td><td>47</td><td>39</td><td>38</td><td>32</td><td>30</td><td>27</td><td>25</td><td>23</td><td>23</td><td>21</td><td>21</td><td>18</td><td>22</td><td>18</td><td>19</td><td>20</td><td>20</td><td>21</td><td>22</td><td>17</td><td>16</td><td>16</td><td>15</td><td>16</td><td>15</td><td>15</td><td>15</td><td>15</td><td>15</td><td>32.5</td><td>22.0</td><td>18.5</td></tr><tr><td>&quot;AND&quot;</td><td>&quot;Andorra&quot;</td><td>&quot;Europe&quot;</td><td>&quot;Northern Hemis…</td><td>&quot;Very High&quot;</td><td>null</td><td>40</td><td>null</td><td>null</td><td>null</td><td>null</td><td>null</td><td>null</td><td>null</td><td>null</td><td>null</td><td>null</td><td>null</td><td>null</td><td>null</td><td>null</td><td>null</td><td>null</td><td>null</td><td>null</td><td>null</td><td>null</td><td>null</td><td>null</td><td>null</td><td>null</td><td>null</td><td>null</td><td>null</td><td>null</td><td>null</td><td>null</td><td>null</td><td>null</td><td>null</td><td>null</td><td>null</td></tr><tr><td>&quot;ARE&quot;</td><td>&quot;United Arab Em…</td><td>&quot;Asia&quot;</td><td>&quot;Northern Hemis…</td><td>&quot;Very High&quot;</td><td>&quot;AS&quot;</td><td>26</td><td>13</td><td>12</td><td>11</td><td>10</td><td>10</td><td>9</td><td>8</td><td>8</td><td>7</td><td>7</td><td>6</td><td>6</td><td>5</td><td>5</td><td>5</td><td>5</td><td>4</td><td>4</td><td>4</td><td>4</td><td>4</td><td>4</td><td>4</td><td>3</td><td>3</td><td>3</td><td>3</td><td>3</td><td>3</td><td>3</td><td>3</td><td>3</td><td>10.0</td><td>5.0</td><td>3.5</td></tr><tr><td>&quot;ARG&quot;</td><td>&quot;Argentina&quot;</td><td>&quot;America&quot;</td><td>&quot;Southern Hemis…</td><td>&quot;Very High&quot;</td><td>&quot;LAC&quot;</td><td>47</td><td>84</td><td>82</td><td>80</td><td>76</td><td>75</td><td>72</td><td>71</td><td>71</td><td>69</td><td>70</td><td>66</td><td>67</td><td>65</td><td>65</td><td>61</td><td>59</td><td>57</td><td>56</td><td>53</td><td>56</td><td>51</td><td>48</td><td>47</td><td>44</td><td>42</td><td>41</td><td>40</td><td>39</td><td>39</td><td>39</td><td>39</td><td>39</td><td>77.0</td><td>58.5</td><td>43.5</td></tr><tr><td>&quot;ARM&quot;</td><td>&quot;Armenia&quot;</td><td>&quot;Asia&quot;</td><td>&quot;Northern Hemis…</td><td>&quot;High&quot;</td><td>&quot;ECA&quot;</td><td>85</td><td>52</td><td>47</td><td>56</td><td>60</td><td>54</td><td>54</td><td>55</td><td>50</td><td>50</td><td>43</td><td>43</td><td>42</td><td>39</td><td>38</td><td>36</td><td>35</td><td>36</td><td>32</td><td>36</td><td>32</td><td>32</td><td>30</td><td>30</td><td>26</td><td>27</td><td>28</td><td>26</td><td>26</td><td>26</td><td>26</td><td>26</td><td>26</td><td>47.5</td><td>37.5</td><td>28.0</td></tr><tr><td>&quot;ATG&quot;</td><td>&quot;Antigua and Ba…</td><td>&quot;America&quot;</td><td>&quot;Northern Hemis…</td><td>&quot;High&quot;</td><td>&quot;LAC&quot;</td><td>71</td><td>54</td><td>54</td><td>55</td><td>52</td><td>52</td><td>51</td><td>51</td><td>52</td><td>50</td><td>49</td><td>44</td><td>44</td><td>43</td><td>44</td><td>41</td><td>40</td><td>46</td><td>48</td><td>50</td><td>45</td><td>44</td><td>43</td><td>44</td><td>43</td><td>42</td><td>43</td><td>43</td><td>42</td><td>42</td><td>42</td><td>42</td><td>42</td><td>51.5</td><td>44.0</td><td>42.5</td></tr><tr><td>&quot;AUS&quot;</td><td>&quot;Australia&quot;</td><td>&quot;Oceania&quot;</td><td>&quot;Southern Hemis…</td><td>&quot;Very High&quot;</td><td>null</td><td>5</td><td>8</td><td>9</td><td>8</td><td>8</td><td>8</td><td>8</td><td>8</td><td>8</td><td>7</td><td>7</td><td>7</td><td>6</td><td>6</td><td>6</td><td>5</td><td>5</td><td>5</td><td>5</td><td>5</td><td>5</td><td>5</td><td>6</td><td>6</td><td>6</td><td>6</td><td>6</td><td>6</td><td>6</td><td>6</td><td>6</td><td>6</td><td>6</td><td>7.5</td><td>6.0</td><td>6.0</td></tr><tr><td>&quot;AUT&quot;</td><td>&quot;Austria&quot;</td><td>&quot;Europe&quot;</td><td>&quot;Northern Hemis…</td><td>&quot;Very High&quot;</td><td>null</td><td>25</td><td>8</td><td>8</td><td>8</td><td>8</td><td>8</td><td>7</td><td>7</td><td>6</td><td>6</td><td>6</td><td>6</td><td>6</td><td>6</td><td>6</td><td>5</td><td>6</td><td>5</td><td>5</td><td>5</td><td>5</td><td>5</td><td>5</td><td>5</td><td>5</td><td>5</td><td>5</td><td>5</td><td>5</td><td>5</td><td>5</td><td>5</td><td>5</td><td>7.0</td><td>5.5</td><td>5.0</td></tr></tbody></table></div>"
      ],
      "text/plain": [
       "shape: (10, 42)\n",
       "┌──────┬────────────┬───────────┬────────────┬───┬────────────┬────────────┬───────────┬───────────┐\n",
       "│ ISO3 ┆ Country    ┆ Continent ┆ Hemisphere ┆ … ┆ Maternal   ┆ Maternal   ┆ Maternal  ┆ Maternal  │\n",
       "│ ---  ┆ ---        ┆ ---       ┆ ---        ┆   ┆ Mortality  ┆ Mortality  ┆ Mortality ┆ Mortality │\n",
       "│ str  ┆ str        ┆ str       ┆ str        ┆   ┆ Ratio      ┆ Ratio      ┆ Ratio     ┆ Ratio     │\n",
       "│      ┆            ┆           ┆            ┆   ┆ (deaths…   ┆ (deaths…   ┆ (deaths…  ┆ (deaths…  │\n",
       "│      ┆            ┆           ┆            ┆   ┆ ---        ┆ ---        ┆ ---       ┆ ---       │\n",
       "│      ┆            ┆           ┆            ┆   ┆ i64        ┆ f64        ┆ f64       ┆ f64       │\n",
       "╞══════╪════════════╪═══════════╪════════════╪═══╪════════════╪════════════╪═══════════╪═══════════╡\n",
       "│ AFG  ┆ Afghanista ┆ Asia      ┆ Northern   ┆ … ┆ 638        ┆ 1485.0     ┆ 1202.0    ┆ 771.5     │\n",
       "│      ┆ n          ┆           ┆ Hemisphere ┆   ┆            ┆            ┆           ┆           │\n",
       "│ AGO  ┆ Angola     ┆ Africa    ┆ Southern   ┆ … ┆ 241        ┆ 1029.5     ┆ 576.5     ┆ 270.5     │\n",
       "│      ┆            ┆           ┆ Hemisphere ┆   ┆            ┆            ┆           ┆           │\n",
       "│ ALB  ┆ Albania    ┆ Europe    ┆ Northern   ┆ … ┆ 15         ┆ 32.5       ┆ 22.0      ┆ 18.5      │\n",
       "│      ┆            ┆           ┆ Hemisphere ┆   ┆            ┆            ┆           ┆           │\n",
       "│ AND  ┆ Andorra    ┆ Europe    ┆ Northern   ┆ … ┆ null       ┆ null       ┆ null      ┆ null      │\n",
       "│      ┆            ┆           ┆ Hemisphere ┆   ┆            ┆            ┆           ┆           │\n",
       "│ …    ┆ …          ┆ …         ┆ …          ┆ … ┆ …          ┆ …          ┆ …         ┆ …         │\n",
       "│ ARM  ┆ Armenia    ┆ Asia      ┆ Northern   ┆ … ┆ 26         ┆ 47.5       ┆ 37.5      ┆ 28.0      │\n",
       "│      ┆            ┆           ┆ Hemisphere ┆   ┆            ┆            ┆           ┆           │\n",
       "│ ATG  ┆ Antigua    ┆ America   ┆ Northern   ┆ … ┆ 42         ┆ 51.5       ┆ 44.0      ┆ 42.5      │\n",
       "│      ┆ and        ┆           ┆ Hemisphere ┆   ┆            ┆            ┆           ┆           │\n",
       "│      ┆ Barbuda    ┆           ┆            ┆   ┆            ┆            ┆           ┆           │\n",
       "│ AUS  ┆ Australia  ┆ Oceania   ┆ Southern   ┆ … ┆ 6          ┆ 7.5        ┆ 6.0       ┆ 6.0       │\n",
       "│      ┆            ┆           ┆ Hemisphere ┆   ┆            ┆            ┆           ┆           │\n",
       "│ AUT  ┆ Austria    ┆ Europe    ┆ Northern   ┆ … ┆ 5          ┆ 7.0        ┆ 5.5       ┆ 5.0       │\n",
       "│      ┆            ┆           ┆ Hemisphere ┆   ┆            ┆            ┆           ┆           │\n",
       "└──────┴────────────┴───────────┴────────────┴───┴────────────┴────────────┴───────────┴───────────┘"
      ]
     },
     "execution_count": 26,
     "metadata": {},
     "output_type": "execute_result"
    }
   ],
   "source": [
    "Maternal_Decade_Index=MaternalMort_df.with_columns(\n",
    "    pl.Series(name='Maternal Mortality Ratio (deaths per 100,000 live births) Average (1990-1999)', values=matmort90_mean),\n",
    "    pl.Series(name='Maternal Mortality Ratio (deaths per 100,000 live births) Average (2000-2010)', values=matmort00_mean),\n",
    "    pl.Series(name='Maternal Mortality Ratio (deaths per 100,000 live births) Average (2011-2021)', values=matmort21_mean)\n",
    ")\n",
    "Maternal_Decade_Index.head(10)"
   ]
  },
  {
   "cell_type": "code",
   "execution_count": 25,
   "metadata": {},
   "outputs": [
    {
     "data": {
      "text/html": [
       "<div><style>\n",
       ".dataframe > thead > tr,\n",
       ".dataframe > tbody > tr {\n",
       "  text-align: right;\n",
       "  white-space: pre-wrap;\n",
       "}\n",
       "</style>\n",
       "<small>shape: (10, 40)</small><table border=\"1\" class=\"dataframe\"><thead><tr><th>ISO3</th><th>Country</th><th>Continent</th><th>Hemisphere</th><th>Human Development Groups</th><th>UNDP Developing Regions</th><th>HDI Rank (2021)</th><th>GII Rank (2021)</th><th>Gender Inequality Index (1990)</th><th>Gender Inequality Index (1991)</th><th>Gender Inequality Index (1992)</th><th>Gender Inequality Index (1993)</th><th>Gender Inequality Index (1994)</th><th>Gender Inequality Index (1995)</th><th>Gender Inequality Index (1996)</th><th>Gender Inequality Index (1997)</th><th>Gender Inequality Index (1998)</th><th>Gender Inequality Index (1999)</th><th>Gender Inequality Index (2000)</th><th>Gender Inequality Index (2001)</th><th>Gender Inequality Index (2002)</th><th>Gender Inequality Index (2003)</th><th>Gender Inequality Index (2004)</th><th>Gender Inequality Index (2005)</th><th>Gender Inequality Index (2006)</th><th>Gender Inequality Index (2007)</th><th>Gender Inequality Index (2008)</th><th>Gender Inequality Index (2009)</th><th>Gender Inequality Index (2010)</th><th>Gender Inequality Index (2011)</th><th>Gender Inequality Index (2012)</th><th>Gender Inequality Index (2013)</th><th>Gender Inequality Index (2014)</th><th>Gender Inequality Index (2015)</th><th>Gender Inequality Index (2016)</th><th>Gender Inequality Index (2017)</th><th>Gender Inequality Index (2018)</th><th>Gender Inequality Index (2019)</th><th>Gender Inequality Index (2020)</th><th>Gender Inequality Index (2021)</th></tr><tr><td>str</td><td>str</td><td>str</td><td>str</td><td>str</td><td>str</td><td>i64</td><td>i64</td><td>f64</td><td>f64</td><td>f64</td><td>f64</td><td>f64</td><td>f64</td><td>f64</td><td>f64</td><td>f64</td><td>f64</td><td>f64</td><td>f64</td><td>f64</td><td>f64</td><td>f64</td><td>f64</td><td>f64</td><td>f64</td><td>f64</td><td>f64</td><td>f64</td><td>f64</td><td>f64</td><td>f64</td><td>f64</td><td>f64</td><td>f64</td><td>f64</td><td>f64</td><td>f64</td><td>f64</td><td>f64</td></tr></thead><tbody><tr><td>&quot;AFG&quot;</td><td>&quot;Afghanistan&quot;</td><td>&quot;Asia&quot;</td><td>&quot;Northern Hemis…</td><td>&quot;Low&quot;</td><td>&quot;SA&quot;</td><td>180</td><td>167</td><td>null</td><td>null</td><td>null</td><td>null</td><td>null</td><td>null</td><td>null</td><td>null</td><td>null</td><td>null</td><td>null</td><td>null</td><td>null</td><td>null</td><td>null</td><td>0.748</td><td>0.749</td><td>0.752</td><td>0.755</td><td>0.755</td><td>0.753</td><td>0.746</td><td>0.738</td><td>0.728</td><td>0.718</td><td>0.706</td><td>0.692</td><td>0.678</td><td>0.671</td><td>0.665</td><td>0.674</td><td>0.678</td></tr><tr><td>&quot;AGO&quot;</td><td>&quot;Angola&quot;</td><td>&quot;Africa&quot;</td><td>&quot;Southern Hemis…</td><td>&quot;Medium&quot;</td><td>&quot;SSA&quot;</td><td>148</td><td>136</td><td>0.725</td><td>0.723</td><td>0.721</td><td>0.719</td><td>0.717</td><td>0.714</td><td>0.712</td><td>0.708</td><td>0.683</td><td>0.678</td><td>0.671</td><td>0.665</td><td>0.657</td><td>0.649</td><td>0.643</td><td>0.636</td><td>0.628</td><td>0.621</td><td>0.568</td><td>0.56</td><td>0.551</td><td>0.544</td><td>0.545</td><td>0.54</td><td>0.531</td><td>0.53</td><td>0.529</td><td>0.538</td><td>0.537</td><td>0.537</td><td>0.537</td><td>0.537</td></tr><tr><td>&quot;ALB&quot;</td><td>&quot;Albania&quot;</td><td>&quot;Europe&quot;</td><td>&quot;Northern Hemis…</td><td>&quot;High&quot;</td><td>&quot;ECA&quot;</td><td>67</td><td>39</td><td>null</td><td>null</td><td>null</td><td>null</td><td>null</td><td>null</td><td>null</td><td>null</td><td>null</td><td>0.33</td><td>0.319</td><td>0.282</td><td>0.297</td><td>0.305</td><td>0.301</td><td>0.306</td><td>0.285</td><td>0.286</td><td>0.293</td><td>0.242</td><td>0.246</td><td>0.252</td><td>0.235</td><td>0.225</td><td>0.219</td><td>0.204</td><td>0.191</td><td>0.17</td><td>0.164</td><td>0.156</td><td>0.156</td><td>0.144</td></tr><tr><td>&quot;AND&quot;</td><td>&quot;Andorra&quot;</td><td>&quot;Europe&quot;</td><td>&quot;Northern Hemis…</td><td>&quot;Very High&quot;</td><td>null</td><td>40</td><td>null</td><td>null</td><td>null</td><td>null</td><td>null</td><td>null</td><td>null</td><td>null</td><td>null</td><td>null</td><td>null</td><td>null</td><td>null</td><td>null</td><td>null</td><td>null</td><td>null</td><td>null</td><td>null</td><td>null</td><td>null</td><td>null</td><td>null</td><td>null</td><td>null</td><td>null</td><td>null</td><td>null</td><td>null</td><td>null</td><td>null</td><td>null</td><td>null</td></tr><tr><td>&quot;ARE&quot;</td><td>&quot;United Arab Em…</td><td>&quot;Asia&quot;</td><td>&quot;Northern Hemis…</td><td>&quot;Very High&quot;</td><td>&quot;AS&quot;</td><td>26</td><td>11</td><td>0.659</td><td>0.647</td><td>0.64</td><td>0.632</td><td>0.635</td><td>0.627</td><td>0.624</td><td>0.616</td><td>0.609</td><td>0.605</td><td>0.605</td><td>0.602</td><td>0.599</td><td>0.597</td><td>0.592</td><td>0.584</td><td>0.311</td><td>0.202</td><td>0.193</td><td>0.185</td><td>0.175</td><td>0.181</td><td>0.171</td><td>0.161</td><td>0.151</td><td>0.126</td><td>0.118</td><td>0.112</td><td>0.103</td><td>0.056</td><td>0.05</td><td>0.049</td></tr><tr><td>&quot;ARG&quot;</td><td>&quot;Argentina&quot;</td><td>&quot;America&quot;</td><td>&quot;Southern Hemis…</td><td>&quot;Very High&quot;</td><td>&quot;LAC&quot;</td><td>47</td><td>69</td><td>0.442</td><td>0.439</td><td>0.436</td><td>0.43</td><td>0.429</td><td>0.426</td><td>0.422</td><td>0.419</td><td>0.415</td><td>0.415</td><td>0.413</td><td>0.412</td><td>0.39</td><td>0.385</td><td>0.377</td><td>0.373</td><td>0.369</td><td>0.367</td><td>0.363</td><td>0.369</td><td>0.364</td><td>0.362</td><td>0.36</td><td>0.356</td><td>0.351</td><td>0.345</td><td>0.338</td><td>0.328</td><td>0.315</td><td>0.306</td><td>0.293</td><td>0.287</td></tr><tr><td>&quot;ARM&quot;</td><td>&quot;Armenia&quot;</td><td>&quot;Asia&quot;</td><td>&quot;Northern Hemis…</td><td>&quot;High&quot;</td><td>&quot;ECA&quot;</td><td>85</td><td>53</td><td>0.47</td><td>0.468</td><td>0.487</td><td>0.491</td><td>0.481</td><td>0.469</td><td>0.463</td><td>0.446</td><td>0.438</td><td>0.462</td><td>0.453</td><td>0.444</td><td>0.439</td><td>0.408</td><td>0.394</td><td>0.386</td><td>0.376</td><td>0.331</td><td>0.348</td><td>0.341</td><td>0.346</td><td>0.342</td><td>0.327</td><td>0.305</td><td>0.313</td><td>0.309</td><td>0.306</td><td>0.261</td><td>0.26</td><td>0.239</td><td>0.239</td><td>0.216</td></tr><tr><td>&quot;ATG&quot;</td><td>&quot;Antigua and Ba…</td><td>&quot;America&quot;</td><td>&quot;Northern Hemis…</td><td>&quot;High&quot;</td><td>&quot;LAC&quot;</td><td>71</td><td>null</td><td>null</td><td>null</td><td>null</td><td>null</td><td>null</td><td>null</td><td>null</td><td>null</td><td>null</td><td>null</td><td>null</td><td>null</td><td>null</td><td>null</td><td>null</td><td>null</td><td>null</td><td>null</td><td>null</td><td>null</td><td>null</td><td>null</td><td>null</td><td>null</td><td>null</td><td>null</td><td>null</td><td>null</td><td>null</td><td>null</td><td>null</td><td>null</td></tr><tr><td>&quot;AUS&quot;</td><td>&quot;Australia&quot;</td><td>&quot;Oceania&quot;</td><td>&quot;Southern Hemis…</td><td>&quot;Very High&quot;</td><td>null</td><td>5</td><td>19</td><td>0.185</td><td>0.184</td><td>0.184</td><td>0.181</td><td>0.179</td><td>0.176</td><td>0.174</td><td>0.172</td><td>0.169</td><td>0.156</td><td>0.151</td><td>0.15</td><td>0.144</td><td>0.14</td><td>0.136</td><td>0.135</td><td>0.134</td><td>0.134</td><td>0.138</td><td>0.135</td><td>0.136</td><td>0.131</td><td>0.13</td><td>0.123</td><td>0.117</td><td>0.111</td><td>0.101</td><td>0.096</td><td>0.092</td><td>0.08</td><td>0.074</td><td>0.073</td></tr><tr><td>&quot;AUT&quot;</td><td>&quot;Austria&quot;</td><td>&quot;Europe&quot;</td><td>&quot;Northern Hemis…</td><td>&quot;Very High&quot;</td><td>null</td><td>25</td><td>12</td><td>0.202</td><td>0.204</td><td>0.201</td><td>0.195</td><td>0.18</td><td>0.17</td><td>0.163</td><td>0.155</td><td>0.151</td><td>0.147</td><td>0.149</td><td>0.147</td><td>0.145</td><td>0.131</td><td>0.126</td><td>0.121</td><td>0.119</td><td>0.114</td><td>0.121</td><td>0.113</td><td>0.111</td><td>0.103</td><td>0.098</td><td>0.086</td><td>0.083</td><td>0.084</td><td>0.082</td><td>0.072</td><td>0.061</td><td>0.054</td><td>0.052</td><td>0.053</td></tr></tbody></table></div>"
      ],
      "text/plain": [
       "shape: (10, 40)\n",
       "┌──────┬────────────┬───────────┬────────────┬───┬────────────┬────────────┬───────────┬───────────┐\n",
       "│ ISO3 ┆ Country    ┆ Continent ┆ Hemisphere ┆ … ┆ Gender     ┆ Gender     ┆ Gender    ┆ Gender    │\n",
       "│ ---  ┆ ---        ┆ ---       ┆ ---        ┆   ┆ Inequality ┆ Inequality ┆ Inequalit ┆ Inequalit │\n",
       "│ str  ┆ str        ┆ str       ┆ str        ┆   ┆ Index      ┆ Index      ┆ y Index   ┆ y Index   │\n",
       "│      ┆            ┆           ┆            ┆   ┆ (2018)     ┆ (2019)     ┆ (2020)    ┆ (2021)    │\n",
       "│      ┆            ┆           ┆            ┆   ┆ ---        ┆ ---        ┆ ---       ┆ ---       │\n",
       "│      ┆            ┆           ┆            ┆   ┆ f64        ┆ f64        ┆ f64       ┆ f64       │\n",
       "╞══════╪════════════╪═══════════╪════════════╪═══╪════════════╪════════════╪═══════════╪═══════════╡\n",
       "│ AFG  ┆ Afghanista ┆ Asia      ┆ Northern   ┆ … ┆ 0.671      ┆ 0.665      ┆ 0.674     ┆ 0.678     │\n",
       "│      ┆ n          ┆           ┆ Hemisphere ┆   ┆            ┆            ┆           ┆           │\n",
       "│ AGO  ┆ Angola     ┆ Africa    ┆ Southern   ┆ … ┆ 0.537      ┆ 0.537      ┆ 0.537     ┆ 0.537     │\n",
       "│      ┆            ┆           ┆ Hemisphere ┆   ┆            ┆            ┆           ┆           │\n",
       "│ ALB  ┆ Albania    ┆ Europe    ┆ Northern   ┆ … ┆ 0.164      ┆ 0.156      ┆ 0.156     ┆ 0.144     │\n",
       "│      ┆            ┆           ┆ Hemisphere ┆   ┆            ┆            ┆           ┆           │\n",
       "│ AND  ┆ Andorra    ┆ Europe    ┆ Northern   ┆ … ┆ null       ┆ null       ┆ null      ┆ null      │\n",
       "│      ┆            ┆           ┆ Hemisphere ┆   ┆            ┆            ┆           ┆           │\n",
       "│ …    ┆ …          ┆ …         ┆ …          ┆ … ┆ …          ┆ …          ┆ …         ┆ …         │\n",
       "│ ARM  ┆ Armenia    ┆ Asia      ┆ Northern   ┆ … ┆ 0.26       ┆ 0.239      ┆ 0.239     ┆ 0.216     │\n",
       "│      ┆            ┆           ┆ Hemisphere ┆   ┆            ┆            ┆           ┆           │\n",
       "│ ATG  ┆ Antigua    ┆ America   ┆ Northern   ┆ … ┆ null       ┆ null       ┆ null      ┆ null      │\n",
       "│      ┆ and        ┆           ┆ Hemisphere ┆   ┆            ┆            ┆           ┆           │\n",
       "│      ┆ Barbuda    ┆           ┆            ┆   ┆            ┆            ┆           ┆           │\n",
       "│ AUS  ┆ Australia  ┆ Oceania   ┆ Southern   ┆ … ┆ 0.092      ┆ 0.08       ┆ 0.074     ┆ 0.073     │\n",
       "│      ┆            ┆           ┆ Hemisphere ┆   ┆            ┆            ┆           ┆           │\n",
       "│ AUT  ┆ Austria    ┆ Europe    ┆ Northern   ┆ … ┆ 0.061      ┆ 0.054      ┆ 0.052     ┆ 0.053     │\n",
       "│      ┆            ┆           ┆ Hemisphere ┆   ┆            ┆            ┆           ┆           │\n",
       "└──────┴────────────┴───────────┴────────────┴───┴────────────┴────────────┴───────────┴───────────┘"
      ]
     },
     "execution_count": 25,
     "metadata": {},
     "output_type": "execute_result"
    }
   ],
   "source": [
    "GenderInequal_df=pl.read_csv('Gender Inequality Index.csv')\n",
    "GenderInequal_df.head(10)"
   ]
  },
  {
   "cell_type": "code",
   "execution_count": 24,
   "metadata": {},
   "outputs": [
    {
     "data": {
      "text/html": [
       "<div><style>\n",
       ".dataframe > thead > tr,\n",
       ".dataframe > tbody > tr {\n",
       "  text-align: right;\n",
       "  white-space: pre-wrap;\n",
       "}\n",
       "</style>\n",
       "<small>shape: (10, 3)</small><table border=\"1\" class=\"dataframe\"><thead><tr><th>HDI Rank (2021)</th><th>Hemisphere</th><th>ISO3</th></tr><tr><td>i64</td><td>list[str]</td><td>list[str]</td></tr></thead><tbody><tr><td>180</td><td>[&quot;Northern Hemisphere&quot;]</td><td>[&quot;AFG&quot;]</td></tr><tr><td>148</td><td>[&quot;Southern Hemisphere&quot;]</td><td>[&quot;AGO&quot;]</td></tr><tr><td>67</td><td>[&quot;Northern Hemisphere&quot;]</td><td>[&quot;ALB&quot;]</td></tr><tr><td>40</td><td>[&quot;Northern Hemisphere&quot;, &quot;Northern Hemisphere&quot;]</td><td>[&quot;AND&quot;, &quot;HRV&quot;]</td></tr><tr><td>26</td><td>[&quot;Northern Hemisphere&quot;]</td><td>[&quot;ARE&quot;]</td></tr><tr><td>47</td><td>[&quot;Southern Hemisphere&quot;]</td><td>[&quot;ARG&quot;]</td></tr><tr><td>85</td><td>[&quot;Northern Hemisphere&quot;]</td><td>[&quot;ARM&quot;]</td></tr><tr><td>71</td><td>[&quot;Northern Hemisphere&quot;]</td><td>[&quot;ATG&quot;]</td></tr><tr><td>5</td><td>[&quot;Southern Hemisphere&quot;]</td><td>[&quot;AUS&quot;]</td></tr><tr><td>25</td><td>[&quot;Northern Hemisphere&quot;]</td><td>[&quot;AUT&quot;]</td></tr></tbody></table></div>"
      ],
      "text/plain": [
       "shape: (10, 3)\n",
       "┌─────────────────┬───────────────────────────────────┬────────────────┐\n",
       "│ HDI Rank (2021) ┆ Hemisphere                        ┆ ISO3           │\n",
       "│ ---             ┆ ---                               ┆ ---            │\n",
       "│ i64             ┆ list[str]                         ┆ list[str]      │\n",
       "╞═════════════════╪═══════════════════════════════════╪════════════════╡\n",
       "│ 180             ┆ [\"Northern Hemisphere\"]           ┆ [\"AFG\"]        │\n",
       "│ 148             ┆ [\"Southern Hemisphere\"]           ┆ [\"AGO\"]        │\n",
       "│ 67              ┆ [\"Northern Hemisphere\"]           ┆ [\"ALB\"]        │\n",
       "│ 40              ┆ [\"Northern Hemisphere\", \"Norther… ┆ [\"AND\", \"HRV\"] │\n",
       "│ …               ┆ …                                 ┆ …              │\n",
       "│ 85              ┆ [\"Northern Hemisphere\"]           ┆ [\"ARM\"]        │\n",
       "│ 71              ┆ [\"Northern Hemisphere\"]           ┆ [\"ATG\"]        │\n",
       "│ 5               ┆ [\"Southern Hemisphere\"]           ┆ [\"AUS\"]        │\n",
       "│ 25              ┆ [\"Northern Hemisphere\"]           ┆ [\"AUT\"]        │\n",
       "└─────────────────┴───────────────────────────────────┴────────────────┘"
      ]
     },
     "execution_count": 24,
     "metadata": {},
     "output_type": "execute_result"
    }
   ],
   "source": [
    "GI_hemisphere=GenderInequal_df.group_by(\"HDI Rank (2021)\", maintain_order=True).agg(pl.col('Hemisphere', 'ISO3'))\n",
    "GI_hemisphere.head(10)\n"
   ]
  },
  {
   "cell_type": "code",
   "execution_count": 23,
   "metadata": {},
   "outputs": [
    {
     "data": {
      "text/html": [
       "<div><style>\n",
       ".dataframe > thead > tr,\n",
       ".dataframe > tbody > tr {\n",
       "  text-align: right;\n",
       "  white-space: pre-wrap;\n",
       "}\n",
       "</style>\n",
       "<small>shape: (10, 1)</small><table border=\"1\" class=\"dataframe\"><thead><tr><th>Gender_Inequality_1990Decade</th></tr><tr><td>f64</td></tr></thead><tbody><tr><td>null</td></tr><tr><td>0.7015</td></tr><tr><td>0.33</td></tr><tr><td>null</td></tr><tr><td>0.632</td></tr><tr><td>0.4285</td></tr><tr><td>0.466</td></tr><tr><td>null</td></tr><tr><td>0.1705</td></tr><tr><td>0.1745</td></tr></tbody></table></div>"
      ],
      "text/plain": [
       "shape: (10, 1)\n",
       "┌──────────────────────────────┐\n",
       "│ Gender_Inequality_1990Decade │\n",
       "│ ---                          │\n",
       "│ f64                          │\n",
       "╞══════════════════════════════╡\n",
       "│ null                         │\n",
       "│ 0.7015                       │\n",
       "│ 0.33                         │\n",
       "│ null                         │\n",
       "│ …                            │\n",
       "│ 0.466                        │\n",
       "│ null                         │\n",
       "│ 0.1705                       │\n",
       "│ 0.1745                       │\n",
       "└──────────────────────────────┘"
      ]
     },
     "execution_count": 23,
     "metadata": {},
     "output_type": "execute_result"
    }
   ],
   "source": [
    "cols_to_mean=['Gender Inequality Index (1990)', 'Gender Inequality Index (1999)']\n",
    "geindex90_mean=GenderInequal_df.select( Gender_Inequality_1990Decade=pl.concat_list(cols_to_mean).list.mean())\n",
    "\n",
    "geindex90_mean.head(10)"
   ]
  },
  {
   "cell_type": "code",
   "execution_count": 22,
   "metadata": {},
   "outputs": [
    {
     "data": {
      "text/html": [
       "<div><style>\n",
       ".dataframe > thead > tr,\n",
       ".dataframe > tbody > tr {\n",
       "  text-align: right;\n",
       "  white-space: pre-wrap;\n",
       "}\n",
       "</style>\n",
       "<small>shape: (10, 1)</small><table border=\"1\" class=\"dataframe\"><thead><tr><th>Gender_Inequality_2000Decade</th></tr><tr><td>f64</td></tr></thead><tbody><tr><td>0.753</td></tr><tr><td>0.611</td></tr><tr><td>0.2825</td></tr><tr><td>null</td></tr><tr><td>0.39</td></tr><tr><td>0.3885</td></tr><tr><td>0.3995</td></tr><tr><td>null</td></tr><tr><td>0.1435</td></tr><tr><td>0.13</td></tr></tbody></table></div>"
      ],
      "text/plain": [
       "shape: (10, 1)\n",
       "┌──────────────────────────────┐\n",
       "│ Gender_Inequality_2000Decade │\n",
       "│ ---                          │\n",
       "│ f64                          │\n",
       "╞══════════════════════════════╡\n",
       "│ 0.753                        │\n",
       "│ 0.611                        │\n",
       "│ 0.2825                       │\n",
       "│ null                         │\n",
       "│ …                            │\n",
       "│ 0.3995                       │\n",
       "│ null                         │\n",
       "│ 0.1435                       │\n",
       "│ 0.13                         │\n",
       "└──────────────────────────────┘"
      ]
     },
     "execution_count": 22,
     "metadata": {},
     "output_type": "execute_result"
    }
   ],
   "source": [
    "cols_to_mean=['Gender Inequality Index (2000)', 'Gender Inequality Index (2010)']\n",
    "geindex00_mean=GenderInequal_df.select( Gender_Inequality_2000Decade=pl.concat_list(cols_to_mean).list.mean())\n",
    "geindex00_mean.head(10)"
   ]
  },
  {
   "cell_type": "code",
   "execution_count": 21,
   "metadata": {},
   "outputs": [
    {
     "data": {
      "text/html": [
       "<div><style>\n",
       ".dataframe > thead > tr,\n",
       ".dataframe > tbody > tr {\n",
       "  text-align: right;\n",
       "  white-space: pre-wrap;\n",
       "}\n",
       "</style>\n",
       "<small>shape: (10, 1)</small><table border=\"1\" class=\"dataframe\"><thead><tr><th>Gender_Inequality_21Decade</th></tr><tr><td>f64</td></tr></thead><tbody><tr><td>0.712</td></tr><tr><td>0.5405</td></tr><tr><td>0.198</td></tr><tr><td>null</td></tr><tr><td>0.115</td></tr><tr><td>0.3245</td></tr><tr><td>0.279</td></tr><tr><td>null</td></tr><tr><td>0.102</td></tr><tr><td>0.078</td></tr></tbody></table></div>"
      ],
      "text/plain": [
       "shape: (10, 1)\n",
       "┌────────────────────────────┐\n",
       "│ Gender_Inequality_21Decade │\n",
       "│ ---                        │\n",
       "│ f64                        │\n",
       "╞════════════════════════════╡\n",
       "│ 0.712                      │\n",
       "│ 0.5405                     │\n",
       "│ 0.198                      │\n",
       "│ null                       │\n",
       "│ …                          │\n",
       "│ 0.279                      │\n",
       "│ null                       │\n",
       "│ 0.102                      │\n",
       "│ 0.078                      │\n",
       "└────────────────────────────┘"
      ]
     },
     "execution_count": 21,
     "metadata": {},
     "output_type": "execute_result"
    }
   ],
   "source": [
    "cols_to_mean=['Gender Inequality Index (2011)', 'Gender Inequality Index (2021)']\n",
    "geindex21_mean=GenderInequal_df.select( Gender_Inequality_21Decade=pl.concat_list(cols_to_mean).list.mean())\n",
    "geindex21_mean.head(10)"
   ]
  },
  {
   "cell_type": "code",
   "execution_count": 41,
   "metadata": {},
   "outputs": [
    {
     "data": {
      "text/html": [
       "<div><style>\n",
       ".dataframe > thead > tr,\n",
       ".dataframe > tbody > tr {\n",
       "  text-align: right;\n",
       "  white-space: pre-wrap;\n",
       "}\n",
       "</style>\n",
       "<small>shape: (10, 9)</small><table border=\"1\" class=\"dataframe\"><thead><tr><th>ISO3</th><th>Country</th><th>Continent</th><th>Hemisphere</th><th>Human Development Groups</th><th>UNDP Developing Regions</th><th>Gender Inequality Index Average (1990-1999)</th><th>Gender Inequality Index Average (2000-2010)</th><th>Gender Inequality Index Average (2011-2021)</th></tr><tr><td>str</td><td>str</td><td>str</td><td>str</td><td>str</td><td>str</td><td>f64</td><td>f64</td><td>f64</td></tr></thead><tbody><tr><td>&quot;AFG&quot;</td><td>&quot;Afghanistan&quot;</td><td>&quot;Asia&quot;</td><td>&quot;Northern Hemis…</td><td>&quot;Low&quot;</td><td>&quot;SA&quot;</td><td>null</td><td>0.753</td><td>0.712</td></tr><tr><td>&quot;AGO&quot;</td><td>&quot;Angola&quot;</td><td>&quot;Africa&quot;</td><td>&quot;Southern Hemis…</td><td>&quot;Medium&quot;</td><td>&quot;SSA&quot;</td><td>0.7015</td><td>0.611</td><td>0.5405</td></tr><tr><td>&quot;ALB&quot;</td><td>&quot;Albania&quot;</td><td>&quot;Europe&quot;</td><td>&quot;Northern Hemis…</td><td>&quot;High&quot;</td><td>&quot;ECA&quot;</td><td>0.33</td><td>0.2825</td><td>0.198</td></tr><tr><td>&quot;AND&quot;</td><td>&quot;Andorra&quot;</td><td>&quot;Europe&quot;</td><td>&quot;Northern Hemis…</td><td>&quot;Very High&quot;</td><td>null</td><td>null</td><td>null</td><td>null</td></tr><tr><td>&quot;ARE&quot;</td><td>&quot;United Arab Em…</td><td>&quot;Asia&quot;</td><td>&quot;Northern Hemis…</td><td>&quot;Very High&quot;</td><td>&quot;AS&quot;</td><td>0.632</td><td>0.39</td><td>0.115</td></tr><tr><td>&quot;ARG&quot;</td><td>&quot;Argentina&quot;</td><td>&quot;America&quot;</td><td>&quot;Southern Hemis…</td><td>&quot;Very High&quot;</td><td>&quot;LAC&quot;</td><td>0.4285</td><td>0.3885</td><td>0.3245</td></tr><tr><td>&quot;ARM&quot;</td><td>&quot;Armenia&quot;</td><td>&quot;Asia&quot;</td><td>&quot;Northern Hemis…</td><td>&quot;High&quot;</td><td>&quot;ECA&quot;</td><td>0.466</td><td>0.3995</td><td>0.279</td></tr><tr><td>&quot;ATG&quot;</td><td>&quot;Antigua and Ba…</td><td>&quot;America&quot;</td><td>&quot;Northern Hemis…</td><td>&quot;High&quot;</td><td>&quot;LAC&quot;</td><td>null</td><td>null</td><td>null</td></tr><tr><td>&quot;AUS&quot;</td><td>&quot;Australia&quot;</td><td>&quot;Oceania&quot;</td><td>&quot;Southern Hemis…</td><td>&quot;Very High&quot;</td><td>null</td><td>0.1705</td><td>0.1435</td><td>0.102</td></tr><tr><td>&quot;AUT&quot;</td><td>&quot;Austria&quot;</td><td>&quot;Europe&quot;</td><td>&quot;Northern Hemis…</td><td>&quot;Very High&quot;</td><td>null</td><td>0.1745</td><td>0.13</td><td>0.078</td></tr></tbody></table></div>"
      ],
      "text/plain": [
       "shape: (10, 9)\n",
       "┌──────┬────────────┬───────────┬────────────┬───┬────────────┬────────────┬───────────┬───────────┐\n",
       "│ ISO3 ┆ Country    ┆ Continent ┆ Hemisphere ┆ … ┆ UNDP       ┆ Gender     ┆ Gender    ┆ Gender    │\n",
       "│ ---  ┆ ---        ┆ ---       ┆ ---        ┆   ┆ Developing ┆ Inequality ┆ Inequalit ┆ Inequalit │\n",
       "│ str  ┆ str        ┆ str       ┆ str        ┆   ┆ Regions    ┆ Index      ┆ y Index   ┆ y Index   │\n",
       "│      ┆            ┆           ┆            ┆   ┆ ---        ┆ Average …  ┆ Average … ┆ Average … │\n",
       "│      ┆            ┆           ┆            ┆   ┆ str        ┆ ---        ┆ ---       ┆ ---       │\n",
       "│      ┆            ┆           ┆            ┆   ┆            ┆ f64        ┆ f64       ┆ f64       │\n",
       "╞══════╪════════════╪═══════════╪════════════╪═══╪════════════╪════════════╪═══════════╪═══════════╡\n",
       "│ AFG  ┆ Afghanista ┆ Asia      ┆ Northern   ┆ … ┆ SA         ┆ null       ┆ 0.753     ┆ 0.712     │\n",
       "│      ┆ n          ┆           ┆ Hemisphere ┆   ┆            ┆            ┆           ┆           │\n",
       "│ AGO  ┆ Angola     ┆ Africa    ┆ Southern   ┆ … ┆ SSA        ┆ 0.7015     ┆ 0.611     ┆ 0.5405    │\n",
       "│      ┆            ┆           ┆ Hemisphere ┆   ┆            ┆            ┆           ┆           │\n",
       "│ ALB  ┆ Albania    ┆ Europe    ┆ Northern   ┆ … ┆ ECA        ┆ 0.33       ┆ 0.2825    ┆ 0.198     │\n",
       "│      ┆            ┆           ┆ Hemisphere ┆   ┆            ┆            ┆           ┆           │\n",
       "│ AND  ┆ Andorra    ┆ Europe    ┆ Northern   ┆ … ┆ null       ┆ null       ┆ null      ┆ null      │\n",
       "│      ┆            ┆           ┆ Hemisphere ┆   ┆            ┆            ┆           ┆           │\n",
       "│ …    ┆ …          ┆ …         ┆ …          ┆ … ┆ …          ┆ …          ┆ …         ┆ …         │\n",
       "│ ARM  ┆ Armenia    ┆ Asia      ┆ Northern   ┆ … ┆ ECA        ┆ 0.466      ┆ 0.3995    ┆ 0.279     │\n",
       "│      ┆            ┆           ┆ Hemisphere ┆   ┆            ┆            ┆           ┆           │\n",
       "│ ATG  ┆ Antigua    ┆ America   ┆ Northern   ┆ … ┆ LAC        ┆ null       ┆ null      ┆ null      │\n",
       "│      ┆ and        ┆           ┆ Hemisphere ┆   ┆            ┆            ┆           ┆           │\n",
       "│      ┆ Barbuda    ┆           ┆            ┆   ┆            ┆            ┆           ┆           │\n",
       "│ AUS  ┆ Australia  ┆ Oceania   ┆ Southern   ┆ … ┆ null       ┆ 0.1705     ┆ 0.1435    ┆ 0.102     │\n",
       "│      ┆            ┆           ┆ Hemisphere ┆   ┆            ┆            ┆           ┆           │\n",
       "│ AUT  ┆ Austria    ┆ Europe    ┆ Northern   ┆ … ┆ null       ┆ 0.1745     ┆ 0.13      ┆ 0.078     │\n",
       "│      ┆            ┆           ┆ Hemisphere ┆   ┆            ┆            ┆           ┆           │\n",
       "└──────┴────────────┴───────────┴────────────┴───┴────────────┴────────────┴───────────┴───────────┘"
      ]
     },
     "execution_count": 41,
     "metadata": {},
     "output_type": "execute_result"
    }
   ],
   "source": [
    "\n",
    "Decade_Index=GenderInequal_df.with_columns(\n",
    "    pl.Series(name='Gender Inequality Index Average (1990-1999)', values=geindex90_mean),\n",
    "    pl.Series(name='Gender Inequality Index Average (2000-2010)', values=geindex00_mean),\n",
    "    pl.Series(name='Gender Inequality Index Average (2011-2021)', values=geindex21_mean)\n",
    ")\n",
    "# Decade_Index \n",
    "# Decade_Index.head(10)\n",
    "\n",
    "Decade_Index.select(['ISO3', 'Country', 'Continent', 'Hemisphere', 'Human Development Groups', 'UNDP Developing Regions', \n",
    "                     'Gender Inequality Index Average (1990-1999)', \n",
    "                     'Gender Inequality Index Average (2000-2010)', \n",
    "                     'Gender Inequality Index Average (2011-2021)']).head(10)\n",
    "\n"
   ]
  },
  {
   "cell_type": "code",
   "execution_count": null,
   "metadata": {},
   "outputs": [],
   "source": []
  }
 ],
 "metadata": {
  "kernelspec": {
   "display_name": "Python 3 (ipykernel)",
   "language": "python",
   "name": "python3"
  },
  "language_info": {
   "codemirror_mode": {
    "name": "ipython",
    "version": 3
   },
   "file_extension": ".py",
   "mimetype": "text/x-python",
   "name": "python",
   "nbconvert_exporter": "python",
   "pygments_lexer": "ipython3",
   "version": "3.11.7"
  }
 },
 "nbformat": 4,
 "nbformat_minor": 4
}
